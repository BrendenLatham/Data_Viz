{
  "nbformat": 4,
  "nbformat_minor": 0,
  "metadata": {
    "colab": {
      "name": "Untitled12.ipynb",
      "provenance": [],
      "authorship_tag": "ABX9TyObS7XqQAlYDWFK2RSc7UTG",
      "include_colab_link": true
    },
    "kernelspec": {
      "name": "python3",
      "display_name": "Python 3"
    },
    "language_info": {
      "name": "python"
    }
  },
  "cells": [
    {
      "cell_type": "markdown",
      "metadata": {
        "id": "view-in-github",
        "colab_type": "text"
      },
      "source": [
        "<a href=\"https://colab.research.google.com/github/BrendenLatham/Data_Viz/blob/main/Assignment22.ipynb\" target=\"_parent\"><img src=\"https://colab.research.google.com/assets/colab-badge.svg\" alt=\"Open In Colab\"/></a>"
      ]
    },
    {
      "cell_type": "markdown",
      "source": [
        "# Assignment 22"
      ],
      "metadata": {
        "id": "pijZh_C6SYcp"
      }
    },
    {
      "cell_type": "markdown",
      "source": [
        "### https://symposium.foragerone.com/okrd22/presentations/37064"
      ],
      "metadata": {
        "id": "cySQHEYGSbfB"
      }
    },
    {
      "cell_type": "markdown",
      "source": [
        "This poster has three points of interest. The first compares job satisfaction by family income. This graph seems excellent and does not lie. It is simple by nature with only three bars compared to the overall. The second compares the percentage of men and women happy with their pay by the job they have. This one, like the first does not lie. Finally the last shows a pie chart of the factors tied closest to job satisfaction. This, while still okay, would be better if it also copared men and women."
      ],
      "metadata": {
        "id": "KhFtHHUzSdmM"
      }
    },
    {
      "cell_type": "markdown",
      "source": [
        "### https://symposium.foragerone.com/okrd22/presentations/36400"
      ],
      "metadata": {
        "id": "F1zORf98Tsl0"
      }
    },
    {
      "cell_type": "markdown",
      "source": [
        "This poster also uses a bar chart to show data. The bar chart here is very simple and easily dislays graphical excellence. I have a feeling since most of these graphs are for an academic event, not many will lie. It would be very out of place to not show graphical excellence. Even the graph below the bar chart, while somewhat confusing at first, seems okay. I hate for this assignment to just be me saying \"nice graphs\" over and over again, but either I don't really understand what exactly makes graphs not excellent or all these graphs are just so simple they are excellent by nature."
      ],
      "metadata": {
        "id": "eySHQCSZUFmJ"
      }
    },
    {
      "cell_type": "markdown",
      "source": [
        "### https://symposium.foragerone.com/okrd22/presentations/37220"
      ],
      "metadata": {
        "id": "jzA7KbWGVgdC"
      }
    },
    {
      "cell_type": "markdown",
      "source": [
        "Okay I think I did it. I found a graph that in my opinion is not excellent. I say my opinion because the fault lies in ease of interpreation. It just does not look like the best way to display these results. In each set of pi charts the first chart is completely unnecesary. It would be much simpler to state the proportions, then lead into the sub-proportions with a single pi chart. This has unnecesary complexity that takes away from the information trying to be represented."
      ],
      "metadata": {
        "id": "V0x0751wVhy2"
      }
    }
  ]
}