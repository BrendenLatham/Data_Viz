{
  "nbformat": 4,
  "nbformat_minor": 0,
  "metadata": {
    "colab": {
      "name": "Untitled4.ipynb",
      "provenance": [],
      "authorship_tag": "ABX9TyN6d+wY6APxv2cBAuMFF0O2",
      "include_colab_link": true
    },
    "kernelspec": {
      "name": "python3",
      "display_name": "Python 3"
    },
    "language_info": {
      "name": "python"
    }
  },
  "cells": [
    {
      "cell_type": "markdown",
      "metadata": {
        "id": "view-in-github",
        "colab_type": "text"
      },
      "source": [
        "<a href=\"https://colab.research.google.com/github/BrendenLatham/Data_Viz/blob/main/Assignment14.ipynb\" target=\"_parent\"><img src=\"https://colab.research.google.com/assets/colab-badge.svg\" alt=\"Open In Colab\"/></a>"
      ]
    },
    {
      "cell_type": "code",
      "source": [
        "parts = \"happy birthday to you dear Brenden\".split(' ')\n",
        "num = [0,1,2,3,0,1,2,3,0,1,4,5,0,1,2,3]\n",
        "for i in num: print(parts[i])"
      ],
      "metadata": {
        "colab": {
          "base_uri": "https://localhost:8080/"
        },
        "id": "nbE42Q96Ph42",
        "outputId": "80fc8c5c-9654-474a-a61f-5ab372e8bbf5"
      },
      "execution_count": 29,
      "outputs": [
        {
          "output_type": "stream",
          "name": "stdout",
          "text": [
            "happy\n",
            "birthday\n",
            "to\n",
            "you\n",
            "happy\n",
            "birthday\n",
            "to\n",
            "you\n",
            "happy\n",
            "birthday\n",
            "dear\n",
            "Brenden\n",
            "happy\n",
            "birthday\n",
            "to\n",
            "you\n"
          ]
        }
      ]
    }
  ]
}