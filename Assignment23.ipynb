{
  "nbformat": 4,
  "nbformat_minor": 0,
  "metadata": {
    "colab": {
      "name": "Untitled13.ipynb",
      "provenance": [],
      "authorship_tag": "ABX9TyNIRX9T4DLYZuumtMqDQXaZ",
      "include_colab_link": true
    },
    "kernelspec": {
      "name": "python3",
      "display_name": "Python 3"
    },
    "language_info": {
      "name": "python"
    }
  },
  "cells": [
    {
      "cell_type": "markdown",
      "metadata": {
        "id": "view-in-github",
        "colab_type": "text"
      },
      "source": [
        "<a href=\"https://colab.research.google.com/github/BrendenLatham/Data_Viz/blob/main/Assignment23.ipynb\" target=\"_parent\"><img src=\"https://colab.research.google.com/assets/colab-badge.svg\" alt=\"Open In Colab\"/></a>"
      ]
    },
    {
      "cell_type": "markdown",
      "source": [
        "# Assignment 23"
      ],
      "metadata": {
        "id": "owJi2icHQUKU"
      }
    },
    {
      "cell_type": "markdown",
      "source": [
        "# https://indianexpress.com/article/india/twitter-abuzz-over-bjps-graph-on-fuel-prices-congress-fixes-it-5349311/"
      ],
      "metadata": {
        "id": "p_sIioi7QWV0"
      }
    },
    {
      "cell_type": "markdown",
      "source": [
        "One rule I try to live by is to not assume malintent from what could be explained by ignorance. But on the other hand, someone can only get so ignorant. This graph shows the petrolium prices in India over a given time. I understand what they were trying to get at. They wanted to portray that from 2014 to 2018 petrolium prices had gone up less than they previously had, however if you take all numbers away, the graph size tells a different story. They ended up making it look like the prices had gone down by the bar size, when in reality the last bar should be significantly larger. This COULD be a good design if it had been done right. It is not very sophisticated, and exibits no graphical excelence the way it is. Taking into account that it also downright lies I think this graph is a disaster."
      ],
      "metadata": {
        "id": "DPn78xbnQY8E"
      }
    },
    {
      "cell_type": "markdown",
      "source": [
        "# https://viz.wtf/image/636961771319672832"
      ],
      "metadata": {
        "id": "rhRfBpEDSBL6"
      }
    },
    {
      "cell_type": "markdown",
      "source": [
        "As far as this graph goes I think I have to agree with the caption. This graph should really show the differences on a different scale. The designers of this graph should just scrap it all together. There is almost no way to accurately represent the wide range of the data on this small of a graph. They could scale it down a bit, maybe use a log to make it smaller while still showing an accurate difference in size. I would say this graph fails to show any of the qualities we are seeking. This one much like the first is a disaster"
      ],
      "metadata": {
        "id": "w-EYyMmdSW5s"
      }
    }
  ]
}