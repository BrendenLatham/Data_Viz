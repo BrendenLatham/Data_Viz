{
  "nbformat": 4,
  "nbformat_minor": 0,
  "metadata": {
    "colab": {
      "name": "Untitled25.ipynb",
      "provenance": [],
      "authorship_tag": "ABX9TyM+Xjw3bjoOOzinFHPTesXX",
      "include_colab_link": true
    },
    "kernelspec": {
      "name": "python3",
      "display_name": "Python 3"
    },
    "language_info": {
      "name": "python"
    }
  },
  "cells": [
    {
      "cell_type": "markdown",
      "metadata": {
        "id": "view-in-github",
        "colab_type": "text"
      },
      "source": [
        "<a href=\"https://colab.research.google.com/github/BrendenLatham/Data_Viz/blob/main/Masters.ipynb\" target=\"_parent\"><img src=\"https://colab.research.google.com/assets/colab-badge.svg\" alt=\"Open In Colab\"/></a>"
      ]
    },
    {
      "cell_type": "code",
      "execution_count": null,
      "metadata": {
        "id": "2be1rBC0r5Vq"
      },
      "outputs": [],
      "source": [
        "import pandas as pd\n",
        "import numpy as np\n",
        "import math\n",
        "import matplotlib.pyplot as plt\n",
        "import matplotlib.patches as mpatches\n",
        "import seaborn as sns"
      ]
    },
    {
      "cell_type": "code",
      "source": [
        "def truncate(number, decimals=0):\n",
        "    if not isinstance(decimals, int):\n",
        "        raise TypeError(\"decimal places must be an integer.\")\n",
        "    elif decimals < 0:\n",
        "        raise ValueError(\"decimal places has to be 0 or more.\")\n",
        "    elif decimals == 0:\n",
        "        return math.trunc(number)\n",
        "    factor = 10.0 ** decimals\n",
        "    return math.trunc(number * factor) / factor"
      ],
      "metadata": {
        "id": "XB9I6kLUimus"
      },
      "execution_count": null,
      "outputs": []
    },
    {
      "cell_type": "code",
      "source": [
        "df = pd.read_csv('https://raw.githubusercontent.com/owid/covid-19-data/master/public/data/owid-covid-data.csv')\n",
        "df.head()"
      ],
      "metadata": {
        "colab": {
          "base_uri": "https://localhost:8080/",
          "height": 386
        },
        "id": "CHxksoUMr-25",
        "outputId": "f56d1b6a-4df7-4494-f03d-ff539d7e9f7d"
      },
      "execution_count": null,
      "outputs": [
        {
          "output_type": "execute_result",
          "data": {
            "text/plain": [
              "  iso_code continent     location        date  total_cases  new_cases  \\\n",
              "0      AFG      Asia  Afghanistan  2020-02-24          5.0        5.0   \n",
              "1      AFG      Asia  Afghanistan  2020-02-25          5.0        0.0   \n",
              "2      AFG      Asia  Afghanistan  2020-02-26          5.0        0.0   \n",
              "3      AFG      Asia  Afghanistan  2020-02-27          5.0        0.0   \n",
              "4      AFG      Asia  Afghanistan  2020-02-28          5.0        0.0   \n",
              "\n",
              "   new_cases_smoothed  total_deaths  new_deaths  new_deaths_smoothed  ...  \\\n",
              "0                 NaN           NaN         NaN                  NaN  ...   \n",
              "1                 NaN           NaN         NaN                  NaN  ...   \n",
              "2                 NaN           NaN         NaN                  NaN  ...   \n",
              "3                 NaN           NaN         NaN                  NaN  ...   \n",
              "4                 NaN           NaN         NaN                  NaN  ...   \n",
              "\n",
              "   female_smokers  male_smokers  handwashing_facilities  \\\n",
              "0             NaN           NaN                  37.746   \n",
              "1             NaN           NaN                  37.746   \n",
              "2             NaN           NaN                  37.746   \n",
              "3             NaN           NaN                  37.746   \n",
              "4             NaN           NaN                  37.746   \n",
              "\n",
              "   hospital_beds_per_thousand  life_expectancy  human_development_index  \\\n",
              "0                         0.5            64.83                    0.511   \n",
              "1                         0.5            64.83                    0.511   \n",
              "2                         0.5            64.83                    0.511   \n",
              "3                         0.5            64.83                    0.511   \n",
              "4                         0.5            64.83                    0.511   \n",
              "\n",
              "   excess_mortality_cumulative_absolute  excess_mortality_cumulative  \\\n",
              "0                                   NaN                          NaN   \n",
              "1                                   NaN                          NaN   \n",
              "2                                   NaN                          NaN   \n",
              "3                                   NaN                          NaN   \n",
              "4                                   NaN                          NaN   \n",
              "\n",
              "   excess_mortality  excess_mortality_cumulative_per_million  \n",
              "0               NaN                                      NaN  \n",
              "1               NaN                                      NaN  \n",
              "2               NaN                                      NaN  \n",
              "3               NaN                                      NaN  \n",
              "4               NaN                                      NaN  \n",
              "\n",
              "[5 rows x 67 columns]"
            ],
            "text/html": [
              "\n",
              "  <div id=\"df-5ece48b4-17e6-4c2e-b509-790510bf85b0\">\n",
              "    <div class=\"colab-df-container\">\n",
              "      <div>\n",
              "<style scoped>\n",
              "    .dataframe tbody tr th:only-of-type {\n",
              "        vertical-align: middle;\n",
              "    }\n",
              "\n",
              "    .dataframe tbody tr th {\n",
              "        vertical-align: top;\n",
              "    }\n",
              "\n",
              "    .dataframe thead th {\n",
              "        text-align: right;\n",
              "    }\n",
              "</style>\n",
              "<table border=\"1\" class=\"dataframe\">\n",
              "  <thead>\n",
              "    <tr style=\"text-align: right;\">\n",
              "      <th></th>\n",
              "      <th>iso_code</th>\n",
              "      <th>continent</th>\n",
              "      <th>location</th>\n",
              "      <th>date</th>\n",
              "      <th>total_cases</th>\n",
              "      <th>new_cases</th>\n",
              "      <th>new_cases_smoothed</th>\n",
              "      <th>total_deaths</th>\n",
              "      <th>new_deaths</th>\n",
              "      <th>new_deaths_smoothed</th>\n",
              "      <th>...</th>\n",
              "      <th>female_smokers</th>\n",
              "      <th>male_smokers</th>\n",
              "      <th>handwashing_facilities</th>\n",
              "      <th>hospital_beds_per_thousand</th>\n",
              "      <th>life_expectancy</th>\n",
              "      <th>human_development_index</th>\n",
              "      <th>excess_mortality_cumulative_absolute</th>\n",
              "      <th>excess_mortality_cumulative</th>\n",
              "      <th>excess_mortality</th>\n",
              "      <th>excess_mortality_cumulative_per_million</th>\n",
              "    </tr>\n",
              "  </thead>\n",
              "  <tbody>\n",
              "    <tr>\n",
              "      <th>0</th>\n",
              "      <td>AFG</td>\n",
              "      <td>Asia</td>\n",
              "      <td>Afghanistan</td>\n",
              "      <td>2020-02-24</td>\n",
              "      <td>5.0</td>\n",
              "      <td>5.0</td>\n",
              "      <td>NaN</td>\n",
              "      <td>NaN</td>\n",
              "      <td>NaN</td>\n",
              "      <td>NaN</td>\n",
              "      <td>...</td>\n",
              "      <td>NaN</td>\n",
              "      <td>NaN</td>\n",
              "      <td>37.746</td>\n",
              "      <td>0.5</td>\n",
              "      <td>64.83</td>\n",
              "      <td>0.511</td>\n",
              "      <td>NaN</td>\n",
              "      <td>NaN</td>\n",
              "      <td>NaN</td>\n",
              "      <td>NaN</td>\n",
              "    </tr>\n",
              "    <tr>\n",
              "      <th>1</th>\n",
              "      <td>AFG</td>\n",
              "      <td>Asia</td>\n",
              "      <td>Afghanistan</td>\n",
              "      <td>2020-02-25</td>\n",
              "      <td>5.0</td>\n",
              "      <td>0.0</td>\n",
              "      <td>NaN</td>\n",
              "      <td>NaN</td>\n",
              "      <td>NaN</td>\n",
              "      <td>NaN</td>\n",
              "      <td>...</td>\n",
              "      <td>NaN</td>\n",
              "      <td>NaN</td>\n",
              "      <td>37.746</td>\n",
              "      <td>0.5</td>\n",
              "      <td>64.83</td>\n",
              "      <td>0.511</td>\n",
              "      <td>NaN</td>\n",
              "      <td>NaN</td>\n",
              "      <td>NaN</td>\n",
              "      <td>NaN</td>\n",
              "    </tr>\n",
              "    <tr>\n",
              "      <th>2</th>\n",
              "      <td>AFG</td>\n",
              "      <td>Asia</td>\n",
              "      <td>Afghanistan</td>\n",
              "      <td>2020-02-26</td>\n",
              "      <td>5.0</td>\n",
              "      <td>0.0</td>\n",
              "      <td>NaN</td>\n",
              "      <td>NaN</td>\n",
              "      <td>NaN</td>\n",
              "      <td>NaN</td>\n",
              "      <td>...</td>\n",
              "      <td>NaN</td>\n",
              "      <td>NaN</td>\n",
              "      <td>37.746</td>\n",
              "      <td>0.5</td>\n",
              "      <td>64.83</td>\n",
              "      <td>0.511</td>\n",
              "      <td>NaN</td>\n",
              "      <td>NaN</td>\n",
              "      <td>NaN</td>\n",
              "      <td>NaN</td>\n",
              "    </tr>\n",
              "    <tr>\n",
              "      <th>3</th>\n",
              "      <td>AFG</td>\n",
              "      <td>Asia</td>\n",
              "      <td>Afghanistan</td>\n",
              "      <td>2020-02-27</td>\n",
              "      <td>5.0</td>\n",
              "      <td>0.0</td>\n",
              "      <td>NaN</td>\n",
              "      <td>NaN</td>\n",
              "      <td>NaN</td>\n",
              "      <td>NaN</td>\n",
              "      <td>...</td>\n",
              "      <td>NaN</td>\n",
              "      <td>NaN</td>\n",
              "      <td>37.746</td>\n",
              "      <td>0.5</td>\n",
              "      <td>64.83</td>\n",
              "      <td>0.511</td>\n",
              "      <td>NaN</td>\n",
              "      <td>NaN</td>\n",
              "      <td>NaN</td>\n",
              "      <td>NaN</td>\n",
              "    </tr>\n",
              "    <tr>\n",
              "      <th>4</th>\n",
              "      <td>AFG</td>\n",
              "      <td>Asia</td>\n",
              "      <td>Afghanistan</td>\n",
              "      <td>2020-02-28</td>\n",
              "      <td>5.0</td>\n",
              "      <td>0.0</td>\n",
              "      <td>NaN</td>\n",
              "      <td>NaN</td>\n",
              "      <td>NaN</td>\n",
              "      <td>NaN</td>\n",
              "      <td>...</td>\n",
              "      <td>NaN</td>\n",
              "      <td>NaN</td>\n",
              "      <td>37.746</td>\n",
              "      <td>0.5</td>\n",
              "      <td>64.83</td>\n",
              "      <td>0.511</td>\n",
              "      <td>NaN</td>\n",
              "      <td>NaN</td>\n",
              "      <td>NaN</td>\n",
              "      <td>NaN</td>\n",
              "    </tr>\n",
              "  </tbody>\n",
              "</table>\n",
              "<p>5 rows × 67 columns</p>\n",
              "</div>\n",
              "      <button class=\"colab-df-convert\" onclick=\"convertToInteractive('df-5ece48b4-17e6-4c2e-b509-790510bf85b0')\"\n",
              "              title=\"Convert this dataframe to an interactive table.\"\n",
              "              style=\"display:none;\">\n",
              "        \n",
              "  <svg xmlns=\"http://www.w3.org/2000/svg\" height=\"24px\"viewBox=\"0 0 24 24\"\n",
              "       width=\"24px\">\n",
              "    <path d=\"M0 0h24v24H0V0z\" fill=\"none\"/>\n",
              "    <path d=\"M18.56 5.44l.94 2.06.94-2.06 2.06-.94-2.06-.94-.94-2.06-.94 2.06-2.06.94zm-11 1L8.5 8.5l.94-2.06 2.06-.94-2.06-.94L8.5 2.5l-.94 2.06-2.06.94zm10 10l.94 2.06.94-2.06 2.06-.94-2.06-.94-.94-2.06-.94 2.06-2.06.94z\"/><path d=\"M17.41 7.96l-1.37-1.37c-.4-.4-.92-.59-1.43-.59-.52 0-1.04.2-1.43.59L10.3 9.45l-7.72 7.72c-.78.78-.78 2.05 0 2.83L4 21.41c.39.39.9.59 1.41.59.51 0 1.02-.2 1.41-.59l7.78-7.78 2.81-2.81c.8-.78.8-2.07 0-2.86zM5.41 20L4 18.59l7.72-7.72 1.47 1.35L5.41 20z\"/>\n",
              "  </svg>\n",
              "      </button>\n",
              "      \n",
              "  <style>\n",
              "    .colab-df-container {\n",
              "      display:flex;\n",
              "      flex-wrap:wrap;\n",
              "      gap: 12px;\n",
              "    }\n",
              "\n",
              "    .colab-df-convert {\n",
              "      background-color: #E8F0FE;\n",
              "      border: none;\n",
              "      border-radius: 50%;\n",
              "      cursor: pointer;\n",
              "      display: none;\n",
              "      fill: #1967D2;\n",
              "      height: 32px;\n",
              "      padding: 0 0 0 0;\n",
              "      width: 32px;\n",
              "    }\n",
              "\n",
              "    .colab-df-convert:hover {\n",
              "      background-color: #E2EBFA;\n",
              "      box-shadow: 0px 1px 2px rgba(60, 64, 67, 0.3), 0px 1px 3px 1px rgba(60, 64, 67, 0.15);\n",
              "      fill: #174EA6;\n",
              "    }\n",
              "\n",
              "    [theme=dark] .colab-df-convert {\n",
              "      background-color: #3B4455;\n",
              "      fill: #D2E3FC;\n",
              "    }\n",
              "\n",
              "    [theme=dark] .colab-df-convert:hover {\n",
              "      background-color: #434B5C;\n",
              "      box-shadow: 0px 1px 3px 1px rgba(0, 0, 0, 0.15);\n",
              "      filter: drop-shadow(0px 1px 2px rgba(0, 0, 0, 0.3));\n",
              "      fill: #FFFFFF;\n",
              "    }\n",
              "  </style>\n",
              "\n",
              "      <script>\n",
              "        const buttonEl =\n",
              "          document.querySelector('#df-5ece48b4-17e6-4c2e-b509-790510bf85b0 button.colab-df-convert');\n",
              "        buttonEl.style.display =\n",
              "          google.colab.kernel.accessAllowed ? 'block' : 'none';\n",
              "\n",
              "        async function convertToInteractive(key) {\n",
              "          const element = document.querySelector('#df-5ece48b4-17e6-4c2e-b509-790510bf85b0');\n",
              "          const dataTable =\n",
              "            await google.colab.kernel.invokeFunction('convertToInteractive',\n",
              "                                                     [key], {});\n",
              "          if (!dataTable) return;\n",
              "\n",
              "          const docLinkHtml = 'Like what you see? Visit the ' +\n",
              "            '<a target=\"_blank\" href=https://colab.research.google.com/notebooks/data_table.ipynb>data table notebook</a>'\n",
              "            + ' to learn more about interactive tables.';\n",
              "          element.innerHTML = '';\n",
              "          dataTable['output_type'] = 'display_data';\n",
              "          await google.colab.output.renderOutput(dataTable, element);\n",
              "          const docLink = document.createElement('div');\n",
              "          docLink.innerHTML = docLinkHtml;\n",
              "          element.appendChild(docLink);\n",
              "        }\n",
              "      </script>\n",
              "    </div>\n",
              "  </div>\n",
              "  "
            ]
          },
          "metadata": {},
          "execution_count": 517
        }
      ]
    },
    {
      "cell_type": "code",
      "source": [
        "df = df[df['continent'].notna()]"
      ],
      "metadata": {
        "id": "RvxIr-cn9pa3"
      },
      "execution_count": null,
      "outputs": []
    },
    {
      "cell_type": "markdown",
      "source": [
        "I am going to be using the above data to recreate a graph comparing the current location of each country on it's pandemic curve relative to it's peak. It will examine the latest days reported new cases of covid-19 relative to the peak day of new cases"
      ],
      "metadata": {
        "id": "04PKwT2v_22n"
      }
    },
    {
      "cell_type": "markdown",
      "source": [
        "It will be a recreation of the similar graph located on this page https://graphics.reuters.com/world-coronavirus-tracker-and-maps/"
      ],
      "metadata": {
        "id": "4kc1ZqQpspfG"
      }
    },
    {
      "cell_type": "markdown",
      "source": [
        "![image.png](data:image/png;base64,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)"
      ],
      "metadata": {
        "id": "JeW772-OGo_p"
      }
    },
    {
      "cell_type": "markdown",
      "source": [
        "On the page it is an interactive graph with the countries name being displayed as you hover over it's curve. However I am attempting to create it in a static fassion"
      ],
      "metadata": {
        "id": "Kg-UbwJRGwdM"
      }
    },
    {
      "cell_type": "markdown",
      "source": [
        "First I want to see all the columns in this dataset"
      ],
      "metadata": {
        "id": "cBQGcZU9AJjd"
      }
    },
    {
      "cell_type": "code",
      "source": [
        "df.columns"
      ],
      "metadata": {
        "colab": {
          "base_uri": "https://localhost:8080/"
        },
        "id": "411OdpnWsZ3m",
        "outputId": "ad1f0363-2977-47c8-8272-fe8f9dc696f6"
      },
      "execution_count": null,
      "outputs": [
        {
          "output_type": "execute_result",
          "data": {
            "text/plain": [
              "Index(['iso_code', 'continent', 'location', 'date', 'total_cases', 'new_cases',\n",
              "       'new_cases_smoothed', 'total_deaths', 'new_deaths',\n",
              "       'new_deaths_smoothed', 'total_cases_per_million',\n",
              "       'new_cases_per_million', 'new_cases_smoothed_per_million',\n",
              "       'total_deaths_per_million', 'new_deaths_per_million',\n",
              "       'new_deaths_smoothed_per_million', 'reproduction_rate', 'icu_patients',\n",
              "       'icu_patients_per_million', 'hosp_patients',\n",
              "       'hosp_patients_per_million', 'weekly_icu_admissions',\n",
              "       'weekly_icu_admissions_per_million', 'weekly_hosp_admissions',\n",
              "       'weekly_hosp_admissions_per_million', 'total_tests', 'new_tests',\n",
              "       'total_tests_per_thousand', 'new_tests_per_thousand',\n",
              "       'new_tests_smoothed', 'new_tests_smoothed_per_thousand',\n",
              "       'positive_rate', 'tests_per_case', 'tests_units', 'total_vaccinations',\n",
              "       'people_vaccinated', 'people_fully_vaccinated', 'total_boosters',\n",
              "       'new_vaccinations', 'new_vaccinations_smoothed',\n",
              "       'total_vaccinations_per_hundred', 'people_vaccinated_per_hundred',\n",
              "       'people_fully_vaccinated_per_hundred', 'total_boosters_per_hundred',\n",
              "       'new_vaccinations_smoothed_per_million',\n",
              "       'new_people_vaccinated_smoothed',\n",
              "       'new_people_vaccinated_smoothed_per_hundred', 'stringency_index',\n",
              "       'population', 'population_density', 'median_age', 'aged_65_older',\n",
              "       'aged_70_older', 'gdp_per_capita', 'extreme_poverty',\n",
              "       'cardiovasc_death_rate', 'diabetes_prevalence', 'female_smokers',\n",
              "       'male_smokers', 'handwashing_facilities', 'hospital_beds_per_thousand',\n",
              "       'life_expectancy', 'human_development_index',\n",
              "       'excess_mortality_cumulative_absolute', 'excess_mortality_cumulative',\n",
              "       'excess_mortality', 'excess_mortality_cumulative_per_million'],\n",
              "      dtype='object')"
            ]
          },
          "metadata": {},
          "execution_count": 519
        }
      ]
    },
    {
      "cell_type": "markdown",
      "source": [
        "This data is supposed to have been updated daily so I want to see the max new_cases for each country"
      ],
      "metadata": {
        "id": "GX0YdFoLANLy"
      }
    },
    {
      "cell_type": "code",
      "source": [
        "maxes = df.groupby('location').new_cases.agg('max')\n",
        "maxes.head()"
      ],
      "metadata": {
        "colab": {
          "base_uri": "https://localhost:8080/"
        },
        "id": "BrbmKhRtsd-s",
        "outputId": "4da71b51-cdf0-415d-b4d8-d25b3c360141"
      },
      "execution_count": null,
      "outputs": [
        {
          "output_type": "execute_result",
          "data": {
            "text/plain": [
              "location\n",
              "Afghanistan    3243.0\n",
              "Albania        4789.0\n",
              "Algeria        2521.0\n",
              "Andorra        2313.0\n",
              "Angola         5035.0\n",
              "Name: new_cases, dtype: float64"
            ]
          },
          "metadata": {},
          "execution_count": 520
        }
      ]
    },
    {
      "cell_type": "markdown",
      "source": [
        "Now I want to actually see the latest report for each country"
      ],
      "metadata": {
        "id": "UsVTF5RiAsf_"
      }
    },
    {
      "cell_type": "code",
      "source": [
        "LatestReport = df.groupby('location').date.max()\n",
        "LatestReport.head()"
      ],
      "metadata": {
        "colab": {
          "base_uri": "https://localhost:8080/"
        },
        "id": "o7Pyj8Rvvzwt",
        "outputId": "9584bc6f-3539-4d7c-b18d-bf41a1673f0e"
      },
      "execution_count": null,
      "outputs": [
        {
          "output_type": "execute_result",
          "data": {
            "text/plain": [
              "location\n",
              "Afghanistan    2022-05-01\n",
              "Albania        2022-05-01\n",
              "Algeria        2022-05-01\n",
              "Andorra        2022-05-01\n",
              "Angola         2022-05-01\n",
              "Name: date, dtype: object"
            ]
          },
          "metadata": {},
          "execution_count": 521
        }
      ]
    },
    {
      "cell_type": "markdown",
      "source": [
        "If you look at all values it looks like some countries haven't been updated in a bit"
      ],
      "metadata": {
        "id": "B8oCnu6eAyg6"
      }
    },
    {
      "cell_type": "markdown",
      "source": [
        "This might cause problems but we shall see later on"
      ],
      "metadata": {
        "id": "DsHR3J7UA4cx"
      }
    },
    {
      "cell_type": "markdown",
      "source": [
        "I want to get a list of the countries that dont have yestardays data in"
      ],
      "metadata": {
        "id": "A-EK8btvA-3D"
      }
    },
    {
      "cell_type": "code",
      "source": [
        "non_current = (x for x in LatestReport if x != max(LatestReport))\n",
        "non_current_list = []\n",
        "for i in non_current:\n",
        "  non_current_list.append(LatestReport[LatestReport == i].index[0])\n",
        "non_current_list"
      ],
      "metadata": {
        "colab": {
          "base_uri": "https://localhost:8080/"
        },
        "id": "EnfKZCH_48uj",
        "outputId": "dd74dc6e-da1d-4750-dfa8-9ed9f5d966a4"
      },
      "execution_count": null,
      "outputs": [
        {
          "output_type": "execute_result",
          "data": {
            "text/plain": [
              "['Guam',\n",
              " 'Guernsey',\n",
              " 'Jersey',\n",
              " 'Nauru',\n",
              " 'Niue',\n",
              " 'Northern Cyprus',\n",
              " 'Northern Mariana Islands',\n",
              " 'Pitcairn',\n",
              " 'Puerto Rico',\n",
              " 'Sint Maarten (Dutch part)',\n",
              " 'Tokelau',\n",
              " 'Turkmenistan',\n",
              " 'Tuvalu',\n",
              " 'Guam',\n",
              " 'Western Sahara']"
            ]
          },
          "metadata": {},
          "execution_count": 522
        }
      ]
    },
    {
      "cell_type": "markdown",
      "source": [
        "For these countries I will just use the most recent data"
      ],
      "metadata": {
        "id": "Ndgcn1n1MefG"
      }
    },
    {
      "cell_type": "markdown",
      "source": [
        "I will now create one dataframe that we will use for the graph"
      ],
      "metadata": {
        "id": "ZgV1uvZ3Mue9"
      }
    },
    {
      "cell_type": "code",
      "source": [
        "locations = df.location.unique()\n",
        "locations"
      ],
      "metadata": {
        "colab": {
          "base_uri": "https://localhost:8080/"
        },
        "id": "4XRSnbnXMzKd",
        "outputId": "2b1d4002-cf90-415c-c82c-db802ab3d53f"
      },
      "execution_count": null,
      "outputs": [
        {
          "output_type": "execute_result",
          "data": {
            "text/plain": [
              "array(['Afghanistan', 'Albania', 'Algeria', 'Andorra', 'Angola',\n",
              "       'Anguilla', 'Antigua and Barbuda', 'Argentina', 'Armenia', 'Aruba',\n",
              "       'Australia', 'Austria', 'Azerbaijan', 'Bahamas', 'Bahrain',\n",
              "       'Bangladesh', 'Barbados', 'Belarus', 'Belgium', 'Belize', 'Benin',\n",
              "       'Bermuda', 'Bhutan', 'Bolivia', 'Bonaire Sint Eustatius and Saba',\n",
              "       'Bosnia and Herzegovina', 'Botswana', 'Brazil',\n",
              "       'British Virgin Islands', 'Brunei', 'Bulgaria', 'Burkina Faso',\n",
              "       'Burundi', 'Cambodia', 'Cameroon', 'Canada', 'Cape Verde',\n",
              "       'Cayman Islands', 'Central African Republic', 'Chad', 'Chile',\n",
              "       'China', 'Colombia', 'Comoros', 'Congo', 'Cook Islands',\n",
              "       'Costa Rica', \"Cote d'Ivoire\", 'Croatia', 'Cuba', 'Curacao',\n",
              "       'Cyprus', 'Czechia', 'Democratic Republic of Congo', 'Denmark',\n",
              "       'Djibouti', 'Dominica', 'Dominican Republic', 'Ecuador', 'Egypt',\n",
              "       'El Salvador', 'Equatorial Guinea', 'Eritrea', 'Estonia',\n",
              "       'Eswatini', 'Ethiopia', 'Faeroe Islands', 'Falkland Islands',\n",
              "       'Fiji', 'Finland', 'France', 'French Polynesia', 'Gabon', 'Gambia',\n",
              "       'Georgia', 'Germany', 'Ghana', 'Gibraltar', 'Greece', 'Greenland',\n",
              "       'Grenada', 'Guam', 'Guatemala', 'Guernsey', 'Guinea',\n",
              "       'Guinea-Bissau', 'Guyana', 'Haiti', 'Honduras', 'Hong Kong',\n",
              "       'Hungary', 'Iceland', 'India', 'Indonesia', 'Iran', 'Iraq',\n",
              "       'Ireland', 'Isle of Man', 'Israel', 'Italy', 'Jamaica', 'Japan',\n",
              "       'Jersey', 'Jordan', 'Kazakhstan', 'Kenya', 'Kiribati', 'Kosovo',\n",
              "       'Kuwait', 'Kyrgyzstan', 'Laos', 'Latvia', 'Lebanon', 'Lesotho',\n",
              "       'Liberia', 'Libya', 'Liechtenstein', 'Lithuania', 'Luxembourg',\n",
              "       'Macao', 'Madagascar', 'Malawi', 'Malaysia', 'Maldives', 'Mali',\n",
              "       'Malta', 'Marshall Islands', 'Mauritania', 'Mauritius', 'Mexico',\n",
              "       'Micronesia (country)', 'Moldova', 'Monaco', 'Mongolia',\n",
              "       'Montenegro', 'Montserrat', 'Morocco', 'Mozambique', 'Myanmar',\n",
              "       'Namibia', 'Nauru', 'Nepal', 'Netherlands', 'New Caledonia',\n",
              "       'New Zealand', 'Nicaragua', 'Niger', 'Nigeria', 'Niue',\n",
              "       'North Macedonia', 'Northern Cyprus', 'Northern Mariana Islands',\n",
              "       'Norway', 'Oman', 'Pakistan', 'Palau', 'Palestine', 'Panama',\n",
              "       'Papua New Guinea', 'Paraguay', 'Peru', 'Philippines', 'Pitcairn',\n",
              "       'Poland', 'Portugal', 'Puerto Rico', 'Qatar', 'Romania', 'Russia',\n",
              "       'Rwanda', 'Saint Helena', 'Saint Kitts and Nevis', 'Saint Lucia',\n",
              "       'Saint Pierre and Miquelon', 'Saint Vincent and the Grenadines',\n",
              "       'Samoa', 'San Marino', 'Sao Tome and Principe', 'Saudi Arabia',\n",
              "       'Senegal', 'Serbia', 'Seychelles', 'Sierra Leone', 'Singapore',\n",
              "       'Sint Maarten (Dutch part)', 'Slovakia', 'Slovenia',\n",
              "       'Solomon Islands', 'Somalia', 'South Africa', 'South Korea',\n",
              "       'South Sudan', 'Spain', 'Sri Lanka', 'Sudan', 'Suriname', 'Sweden',\n",
              "       'Switzerland', 'Syria', 'Taiwan', 'Tajikistan', 'Tanzania',\n",
              "       'Thailand', 'Timor', 'Togo', 'Tokelau', 'Tonga',\n",
              "       'Trinidad and Tobago', 'Tunisia', 'Turkey', 'Turkmenistan',\n",
              "       'Turks and Caicos Islands', 'Tuvalu', 'Uganda', 'Ukraine',\n",
              "       'United Arab Emirates', 'United Kingdom', 'United States',\n",
              "       'United States Virgin Islands', 'Uruguay', 'Uzbekistan', 'Vanuatu',\n",
              "       'Vatican', 'Venezuela', 'Vietnam', 'Wallis and Futuna',\n",
              "       'Western Sahara', 'Yemen', 'Zambia', 'Zimbabwe'], dtype=object)"
            ]
          },
          "metadata": {},
          "execution_count": 523
        }
      ]
    },
    {
      "cell_type": "code",
      "source": [
        "data1 = df.groupby('location', as_index = False).date.max()\n",
        "data2 = df.groupby('location', as_index = False).new_cases.max().new_cases\n",
        "data = pd.concat([data1,data2],axis = 1)\n",
        "data.columns = ['location','date','max_new_cases']"
      ],
      "metadata": {
        "id": "O89XFmrMQy1x"
      },
      "execution_count": null,
      "outputs": []
    },
    {
      "cell_type": "code",
      "source": [
        "data_to_join = df[['location','date','new_cases']]\n",
        "data"
      ],
      "metadata": {
        "colab": {
          "base_uri": "https://localhost:8080/",
          "height": 424
        },
        "id": "-6SwL95MU3xX",
        "outputId": "a43a7e53-ef45-4bfd-ab01-6a07df561552"
      },
      "execution_count": null,
      "outputs": [
        {
          "output_type": "execute_result",
          "data": {
            "text/plain": [
              "              location        date  max_new_cases\n",
              "0          Afghanistan  2022-05-01         3243.0\n",
              "1              Albania  2022-05-01         4789.0\n",
              "2              Algeria  2022-05-01         2521.0\n",
              "3              Andorra  2022-05-01         2313.0\n",
              "4               Angola  2022-05-01         5035.0\n",
              "..                 ...         ...            ...\n",
              "225  Wallis and Futuna  2022-05-01           47.0\n",
              "226     Western Sahara  2022-04-20            NaN\n",
              "227              Yemen  2022-05-01          287.0\n",
              "228             Zambia  2022-05-01         5555.0\n",
              "229           Zimbabwe  2022-05-01         9185.0\n",
              "\n",
              "[230 rows x 3 columns]"
            ],
            "text/html": [
              "\n",
              "  <div id=\"df-02e34311-7109-4710-858e-ab22142fdba5\">\n",
              "    <div class=\"colab-df-container\">\n",
              "      <div>\n",
              "<style scoped>\n",
              "    .dataframe tbody tr th:only-of-type {\n",
              "        vertical-align: middle;\n",
              "    }\n",
              "\n",
              "    .dataframe tbody tr th {\n",
              "        vertical-align: top;\n",
              "    }\n",
              "\n",
              "    .dataframe thead th {\n",
              "        text-align: right;\n",
              "    }\n",
              "</style>\n",
              "<table border=\"1\" class=\"dataframe\">\n",
              "  <thead>\n",
              "    <tr style=\"text-align: right;\">\n",
              "      <th></th>\n",
              "      <th>location</th>\n",
              "      <th>date</th>\n",
              "      <th>max_new_cases</th>\n",
              "    </tr>\n",
              "  </thead>\n",
              "  <tbody>\n",
              "    <tr>\n",
              "      <th>0</th>\n",
              "      <td>Afghanistan</td>\n",
              "      <td>2022-05-01</td>\n",
              "      <td>3243.0</td>\n",
              "    </tr>\n",
              "    <tr>\n",
              "      <th>1</th>\n",
              "      <td>Albania</td>\n",
              "      <td>2022-05-01</td>\n",
              "      <td>4789.0</td>\n",
              "    </tr>\n",
              "    <tr>\n",
              "      <th>2</th>\n",
              "      <td>Algeria</td>\n",
              "      <td>2022-05-01</td>\n",
              "      <td>2521.0</td>\n",
              "    </tr>\n",
              "    <tr>\n",
              "      <th>3</th>\n",
              "      <td>Andorra</td>\n",
              "      <td>2022-05-01</td>\n",
              "      <td>2313.0</td>\n",
              "    </tr>\n",
              "    <tr>\n",
              "      <th>4</th>\n",
              "      <td>Angola</td>\n",
              "      <td>2022-05-01</td>\n",
              "      <td>5035.0</td>\n",
              "    </tr>\n",
              "    <tr>\n",
              "      <th>...</th>\n",
              "      <td>...</td>\n",
              "      <td>...</td>\n",
              "      <td>...</td>\n",
              "    </tr>\n",
              "    <tr>\n",
              "      <th>225</th>\n",
              "      <td>Wallis and Futuna</td>\n",
              "      <td>2022-05-01</td>\n",
              "      <td>47.0</td>\n",
              "    </tr>\n",
              "    <tr>\n",
              "      <th>226</th>\n",
              "      <td>Western Sahara</td>\n",
              "      <td>2022-04-20</td>\n",
              "      <td>NaN</td>\n",
              "    </tr>\n",
              "    <tr>\n",
              "      <th>227</th>\n",
              "      <td>Yemen</td>\n",
              "      <td>2022-05-01</td>\n",
              "      <td>287.0</td>\n",
              "    </tr>\n",
              "    <tr>\n",
              "      <th>228</th>\n",
              "      <td>Zambia</td>\n",
              "      <td>2022-05-01</td>\n",
              "      <td>5555.0</td>\n",
              "    </tr>\n",
              "    <tr>\n",
              "      <th>229</th>\n",
              "      <td>Zimbabwe</td>\n",
              "      <td>2022-05-01</td>\n",
              "      <td>9185.0</td>\n",
              "    </tr>\n",
              "  </tbody>\n",
              "</table>\n",
              "<p>230 rows × 3 columns</p>\n",
              "</div>\n",
              "      <button class=\"colab-df-convert\" onclick=\"convertToInteractive('df-02e34311-7109-4710-858e-ab22142fdba5')\"\n",
              "              title=\"Convert this dataframe to an interactive table.\"\n",
              "              style=\"display:none;\">\n",
              "        \n",
              "  <svg xmlns=\"http://www.w3.org/2000/svg\" height=\"24px\"viewBox=\"0 0 24 24\"\n",
              "       width=\"24px\">\n",
              "    <path d=\"M0 0h24v24H0V0z\" fill=\"none\"/>\n",
              "    <path d=\"M18.56 5.44l.94 2.06.94-2.06 2.06-.94-2.06-.94-.94-2.06-.94 2.06-2.06.94zm-11 1L8.5 8.5l.94-2.06 2.06-.94-2.06-.94L8.5 2.5l-.94 2.06-2.06.94zm10 10l.94 2.06.94-2.06 2.06-.94-2.06-.94-.94-2.06-.94 2.06-2.06.94z\"/><path d=\"M17.41 7.96l-1.37-1.37c-.4-.4-.92-.59-1.43-.59-.52 0-1.04.2-1.43.59L10.3 9.45l-7.72 7.72c-.78.78-.78 2.05 0 2.83L4 21.41c.39.39.9.59 1.41.59.51 0 1.02-.2 1.41-.59l7.78-7.78 2.81-2.81c.8-.78.8-2.07 0-2.86zM5.41 20L4 18.59l7.72-7.72 1.47 1.35L5.41 20z\"/>\n",
              "  </svg>\n",
              "      </button>\n",
              "      \n",
              "  <style>\n",
              "    .colab-df-container {\n",
              "      display:flex;\n",
              "      flex-wrap:wrap;\n",
              "      gap: 12px;\n",
              "    }\n",
              "\n",
              "    .colab-df-convert {\n",
              "      background-color: #E8F0FE;\n",
              "      border: none;\n",
              "      border-radius: 50%;\n",
              "      cursor: pointer;\n",
              "      display: none;\n",
              "      fill: #1967D2;\n",
              "      height: 32px;\n",
              "      padding: 0 0 0 0;\n",
              "      width: 32px;\n",
              "    }\n",
              "\n",
              "    .colab-df-convert:hover {\n",
              "      background-color: #E2EBFA;\n",
              "      box-shadow: 0px 1px 2px rgba(60, 64, 67, 0.3), 0px 1px 3px 1px rgba(60, 64, 67, 0.15);\n",
              "      fill: #174EA6;\n",
              "    }\n",
              "\n",
              "    [theme=dark] .colab-df-convert {\n",
              "      background-color: #3B4455;\n",
              "      fill: #D2E3FC;\n",
              "    }\n",
              "\n",
              "    [theme=dark] .colab-df-convert:hover {\n",
              "      background-color: #434B5C;\n",
              "      box-shadow: 0px 1px 3px 1px rgba(0, 0, 0, 0.15);\n",
              "      filter: drop-shadow(0px 1px 2px rgba(0, 0, 0, 0.3));\n",
              "      fill: #FFFFFF;\n",
              "    }\n",
              "  </style>\n",
              "\n",
              "      <script>\n",
              "        const buttonEl =\n",
              "          document.querySelector('#df-02e34311-7109-4710-858e-ab22142fdba5 button.colab-df-convert');\n",
              "        buttonEl.style.display =\n",
              "          google.colab.kernel.accessAllowed ? 'block' : 'none';\n",
              "\n",
              "        async function convertToInteractive(key) {\n",
              "          const element = document.querySelector('#df-02e34311-7109-4710-858e-ab22142fdba5');\n",
              "          const dataTable =\n",
              "            await google.colab.kernel.invokeFunction('convertToInteractive',\n",
              "                                                     [key], {});\n",
              "          if (!dataTable) return;\n",
              "\n",
              "          const docLinkHtml = 'Like what you see? Visit the ' +\n",
              "            '<a target=\"_blank\" href=https://colab.research.google.com/notebooks/data_table.ipynb>data table notebook</a>'\n",
              "            + ' to learn more about interactive tables.';\n",
              "          element.innerHTML = '';\n",
              "          dataTable['output_type'] = 'display_data';\n",
              "          await google.colab.output.renderOutput(dataTable, element);\n",
              "          const docLink = document.createElement('div');\n",
              "          docLink.innerHTML = docLinkHtml;\n",
              "          element.appendChild(docLink);\n",
              "        }\n",
              "      </script>\n",
              "    </div>\n",
              "  </div>\n",
              "  "
            ]
          },
          "metadata": {},
          "execution_count": 525
        }
      ]
    },
    {
      "cell_type": "code",
      "source": [
        "data = pd.merge(data, data_to_join, how = 'left', left_on = ['location','date'], right_on = ['location','date'])\n",
        "data"
      ],
      "metadata": {
        "colab": {
          "base_uri": "https://localhost:8080/",
          "height": 424
        },
        "id": "2Je3kNd8W4fV",
        "outputId": "3325683d-9e5c-4ee9-de2f-244f3720d641"
      },
      "execution_count": null,
      "outputs": [
        {
          "output_type": "execute_result",
          "data": {
            "text/plain": [
              "              location        date  max_new_cases  new_cases\n",
              "0          Afghanistan  2022-05-01         3243.0       20.0\n",
              "1              Albania  2022-05-01         4789.0       60.0\n",
              "2              Algeria  2022-05-01         2521.0        2.0\n",
              "3              Andorra  2022-05-01         2313.0        NaN\n",
              "4               Angola  2022-05-01         5035.0        0.0\n",
              "..                 ...         ...            ...        ...\n",
              "225  Wallis and Futuna  2022-05-01           47.0        0.0\n",
              "226     Western Sahara  2022-04-20            NaN        NaN\n",
              "227              Yemen  2022-05-01          287.0        0.0\n",
              "228             Zambia  2022-05-01         5555.0      139.0\n",
              "229           Zimbabwe  2022-05-01         9185.0       36.0\n",
              "\n",
              "[230 rows x 4 columns]"
            ],
            "text/html": [
              "\n",
              "  <div id=\"df-9c21eeaf-9da3-4c18-9f31-5a17e85a8f66\">\n",
              "    <div class=\"colab-df-container\">\n",
              "      <div>\n",
              "<style scoped>\n",
              "    .dataframe tbody tr th:only-of-type {\n",
              "        vertical-align: middle;\n",
              "    }\n",
              "\n",
              "    .dataframe tbody tr th {\n",
              "        vertical-align: top;\n",
              "    }\n",
              "\n",
              "    .dataframe thead th {\n",
              "        text-align: right;\n",
              "    }\n",
              "</style>\n",
              "<table border=\"1\" class=\"dataframe\">\n",
              "  <thead>\n",
              "    <tr style=\"text-align: right;\">\n",
              "      <th></th>\n",
              "      <th>location</th>\n",
              "      <th>date</th>\n",
              "      <th>max_new_cases</th>\n",
              "      <th>new_cases</th>\n",
              "    </tr>\n",
              "  </thead>\n",
              "  <tbody>\n",
              "    <tr>\n",
              "      <th>0</th>\n",
              "      <td>Afghanistan</td>\n",
              "      <td>2022-05-01</td>\n",
              "      <td>3243.0</td>\n",
              "      <td>20.0</td>\n",
              "    </tr>\n",
              "    <tr>\n",
              "      <th>1</th>\n",
              "      <td>Albania</td>\n",
              "      <td>2022-05-01</td>\n",
              "      <td>4789.0</td>\n",
              "      <td>60.0</td>\n",
              "    </tr>\n",
              "    <tr>\n",
              "      <th>2</th>\n",
              "      <td>Algeria</td>\n",
              "      <td>2022-05-01</td>\n",
              "      <td>2521.0</td>\n",
              "      <td>2.0</td>\n",
              "    </tr>\n",
              "    <tr>\n",
              "      <th>3</th>\n",
              "      <td>Andorra</td>\n",
              "      <td>2022-05-01</td>\n",
              "      <td>2313.0</td>\n",
              "      <td>NaN</td>\n",
              "    </tr>\n",
              "    <tr>\n",
              "      <th>4</th>\n",
              "      <td>Angola</td>\n",
              "      <td>2022-05-01</td>\n",
              "      <td>5035.0</td>\n",
              "      <td>0.0</td>\n",
              "    </tr>\n",
              "    <tr>\n",
              "      <th>...</th>\n",
              "      <td>...</td>\n",
              "      <td>...</td>\n",
              "      <td>...</td>\n",
              "      <td>...</td>\n",
              "    </tr>\n",
              "    <tr>\n",
              "      <th>225</th>\n",
              "      <td>Wallis and Futuna</td>\n",
              "      <td>2022-05-01</td>\n",
              "      <td>47.0</td>\n",
              "      <td>0.0</td>\n",
              "    </tr>\n",
              "    <tr>\n",
              "      <th>226</th>\n",
              "      <td>Western Sahara</td>\n",
              "      <td>2022-04-20</td>\n",
              "      <td>NaN</td>\n",
              "      <td>NaN</td>\n",
              "    </tr>\n",
              "    <tr>\n",
              "      <th>227</th>\n",
              "      <td>Yemen</td>\n",
              "      <td>2022-05-01</td>\n",
              "      <td>287.0</td>\n",
              "      <td>0.0</td>\n",
              "    </tr>\n",
              "    <tr>\n",
              "      <th>228</th>\n",
              "      <td>Zambia</td>\n",
              "      <td>2022-05-01</td>\n",
              "      <td>5555.0</td>\n",
              "      <td>139.0</td>\n",
              "    </tr>\n",
              "    <tr>\n",
              "      <th>229</th>\n",
              "      <td>Zimbabwe</td>\n",
              "      <td>2022-05-01</td>\n",
              "      <td>9185.0</td>\n",
              "      <td>36.0</td>\n",
              "    </tr>\n",
              "  </tbody>\n",
              "</table>\n",
              "<p>230 rows × 4 columns</p>\n",
              "</div>\n",
              "      <button class=\"colab-df-convert\" onclick=\"convertToInteractive('df-9c21eeaf-9da3-4c18-9f31-5a17e85a8f66')\"\n",
              "              title=\"Convert this dataframe to an interactive table.\"\n",
              "              style=\"display:none;\">\n",
              "        \n",
              "  <svg xmlns=\"http://www.w3.org/2000/svg\" height=\"24px\"viewBox=\"0 0 24 24\"\n",
              "       width=\"24px\">\n",
              "    <path d=\"M0 0h24v24H0V0z\" fill=\"none\"/>\n",
              "    <path d=\"M18.56 5.44l.94 2.06.94-2.06 2.06-.94-2.06-.94-.94-2.06-.94 2.06-2.06.94zm-11 1L8.5 8.5l.94-2.06 2.06-.94-2.06-.94L8.5 2.5l-.94 2.06-2.06.94zm10 10l.94 2.06.94-2.06 2.06-.94-2.06-.94-.94-2.06-.94 2.06-2.06.94z\"/><path d=\"M17.41 7.96l-1.37-1.37c-.4-.4-.92-.59-1.43-.59-.52 0-1.04.2-1.43.59L10.3 9.45l-7.72 7.72c-.78.78-.78 2.05 0 2.83L4 21.41c.39.39.9.59 1.41.59.51 0 1.02-.2 1.41-.59l7.78-7.78 2.81-2.81c.8-.78.8-2.07 0-2.86zM5.41 20L4 18.59l7.72-7.72 1.47 1.35L5.41 20z\"/>\n",
              "  </svg>\n",
              "      </button>\n",
              "      \n",
              "  <style>\n",
              "    .colab-df-container {\n",
              "      display:flex;\n",
              "      flex-wrap:wrap;\n",
              "      gap: 12px;\n",
              "    }\n",
              "\n",
              "    .colab-df-convert {\n",
              "      background-color: #E8F0FE;\n",
              "      border: none;\n",
              "      border-radius: 50%;\n",
              "      cursor: pointer;\n",
              "      display: none;\n",
              "      fill: #1967D2;\n",
              "      height: 32px;\n",
              "      padding: 0 0 0 0;\n",
              "      width: 32px;\n",
              "    }\n",
              "\n",
              "    .colab-df-convert:hover {\n",
              "      background-color: #E2EBFA;\n",
              "      box-shadow: 0px 1px 2px rgba(60, 64, 67, 0.3), 0px 1px 3px 1px rgba(60, 64, 67, 0.15);\n",
              "      fill: #174EA6;\n",
              "    }\n",
              "\n",
              "    [theme=dark] .colab-df-convert {\n",
              "      background-color: #3B4455;\n",
              "      fill: #D2E3FC;\n",
              "    }\n",
              "\n",
              "    [theme=dark] .colab-df-convert:hover {\n",
              "      background-color: #434B5C;\n",
              "      box-shadow: 0px 1px 3px 1px rgba(0, 0, 0, 0.15);\n",
              "      filter: drop-shadow(0px 1px 2px rgba(0, 0, 0, 0.3));\n",
              "      fill: #FFFFFF;\n",
              "    }\n",
              "  </style>\n",
              "\n",
              "      <script>\n",
              "        const buttonEl =\n",
              "          document.querySelector('#df-9c21eeaf-9da3-4c18-9f31-5a17e85a8f66 button.colab-df-convert');\n",
              "        buttonEl.style.display =\n",
              "          google.colab.kernel.accessAllowed ? 'block' : 'none';\n",
              "\n",
              "        async function convertToInteractive(key) {\n",
              "          const element = document.querySelector('#df-9c21eeaf-9da3-4c18-9f31-5a17e85a8f66');\n",
              "          const dataTable =\n",
              "            await google.colab.kernel.invokeFunction('convertToInteractive',\n",
              "                                                     [key], {});\n",
              "          if (!dataTable) return;\n",
              "\n",
              "          const docLinkHtml = 'Like what you see? Visit the ' +\n",
              "            '<a target=\"_blank\" href=https://colab.research.google.com/notebooks/data_table.ipynb>data table notebook</a>'\n",
              "            + ' to learn more about interactive tables.';\n",
              "          element.innerHTML = '';\n",
              "          dataTable['output_type'] = 'display_data';\n",
              "          await google.colab.output.renderOutput(dataTable, element);\n",
              "          const docLink = document.createElement('div');\n",
              "          docLink.innerHTML = docLinkHtml;\n",
              "          element.appendChild(docLink);\n",
              "        }\n",
              "      </script>\n",
              "    </div>\n",
              "  </div>\n",
              "  "
            ]
          },
          "metadata": {},
          "execution_count": 526
        }
      ]
    },
    {
      "cell_type": "code",
      "source": [
        "data['percent_of_max'] = data.new_cases/data.max_new_cases\n",
        "data.head()"
      ],
      "metadata": {
        "colab": {
          "base_uri": "https://localhost:8080/",
          "height": 206
        },
        "id": "Ze2HixFgYRbH",
        "outputId": "acbf8992-8feb-413c-aabe-ff2128e37c8a"
      },
      "execution_count": null,
      "outputs": [
        {
          "output_type": "execute_result",
          "data": {
            "text/plain": [
              "      location        date  max_new_cases  new_cases  percent_of_max\n",
              "0  Afghanistan  2022-05-01         3243.0       20.0        0.006167\n",
              "1      Albania  2022-05-01         4789.0       60.0        0.012529\n",
              "2      Algeria  2022-05-01         2521.0        2.0        0.000793\n",
              "3      Andorra  2022-05-01         2313.0        NaN             NaN\n",
              "4       Angola  2022-05-01         5035.0        0.0        0.000000"
            ],
            "text/html": [
              "\n",
              "  <div id=\"df-6e02fc0c-91a8-4db4-a75a-3d5ea46fb539\">\n",
              "    <div class=\"colab-df-container\">\n",
              "      <div>\n",
              "<style scoped>\n",
              "    .dataframe tbody tr th:only-of-type {\n",
              "        vertical-align: middle;\n",
              "    }\n",
              "\n",
              "    .dataframe tbody tr th {\n",
              "        vertical-align: top;\n",
              "    }\n",
              "\n",
              "    .dataframe thead th {\n",
              "        text-align: right;\n",
              "    }\n",
              "</style>\n",
              "<table border=\"1\" class=\"dataframe\">\n",
              "  <thead>\n",
              "    <tr style=\"text-align: right;\">\n",
              "      <th></th>\n",
              "      <th>location</th>\n",
              "      <th>date</th>\n",
              "      <th>max_new_cases</th>\n",
              "      <th>new_cases</th>\n",
              "      <th>percent_of_max</th>\n",
              "    </tr>\n",
              "  </thead>\n",
              "  <tbody>\n",
              "    <tr>\n",
              "      <th>0</th>\n",
              "      <td>Afghanistan</td>\n",
              "      <td>2022-05-01</td>\n",
              "      <td>3243.0</td>\n",
              "      <td>20.0</td>\n",
              "      <td>0.006167</td>\n",
              "    </tr>\n",
              "    <tr>\n",
              "      <th>1</th>\n",
              "      <td>Albania</td>\n",
              "      <td>2022-05-01</td>\n",
              "      <td>4789.0</td>\n",
              "      <td>60.0</td>\n",
              "      <td>0.012529</td>\n",
              "    </tr>\n",
              "    <tr>\n",
              "      <th>2</th>\n",
              "      <td>Algeria</td>\n",
              "      <td>2022-05-01</td>\n",
              "      <td>2521.0</td>\n",
              "      <td>2.0</td>\n",
              "      <td>0.000793</td>\n",
              "    </tr>\n",
              "    <tr>\n",
              "      <th>3</th>\n",
              "      <td>Andorra</td>\n",
              "      <td>2022-05-01</td>\n",
              "      <td>2313.0</td>\n",
              "      <td>NaN</td>\n",
              "      <td>NaN</td>\n",
              "    </tr>\n",
              "    <tr>\n",
              "      <th>4</th>\n",
              "      <td>Angola</td>\n",
              "      <td>2022-05-01</td>\n",
              "      <td>5035.0</td>\n",
              "      <td>0.0</td>\n",
              "      <td>0.000000</td>\n",
              "    </tr>\n",
              "  </tbody>\n",
              "</table>\n",
              "</div>\n",
              "      <button class=\"colab-df-convert\" onclick=\"convertToInteractive('df-6e02fc0c-91a8-4db4-a75a-3d5ea46fb539')\"\n",
              "              title=\"Convert this dataframe to an interactive table.\"\n",
              "              style=\"display:none;\">\n",
              "        \n",
              "  <svg xmlns=\"http://www.w3.org/2000/svg\" height=\"24px\"viewBox=\"0 0 24 24\"\n",
              "       width=\"24px\">\n",
              "    <path d=\"M0 0h24v24H0V0z\" fill=\"none\"/>\n",
              "    <path d=\"M18.56 5.44l.94 2.06.94-2.06 2.06-.94-2.06-.94-.94-2.06-.94 2.06-2.06.94zm-11 1L8.5 8.5l.94-2.06 2.06-.94-2.06-.94L8.5 2.5l-.94 2.06-2.06.94zm10 10l.94 2.06.94-2.06 2.06-.94-2.06-.94-.94-2.06-.94 2.06-2.06.94z\"/><path d=\"M17.41 7.96l-1.37-1.37c-.4-.4-.92-.59-1.43-.59-.52 0-1.04.2-1.43.59L10.3 9.45l-7.72 7.72c-.78.78-.78 2.05 0 2.83L4 21.41c.39.39.9.59 1.41.59.51 0 1.02-.2 1.41-.59l7.78-7.78 2.81-2.81c.8-.78.8-2.07 0-2.86zM5.41 20L4 18.59l7.72-7.72 1.47 1.35L5.41 20z\"/>\n",
              "  </svg>\n",
              "      </button>\n",
              "      \n",
              "  <style>\n",
              "    .colab-df-container {\n",
              "      display:flex;\n",
              "      flex-wrap:wrap;\n",
              "      gap: 12px;\n",
              "    }\n",
              "\n",
              "    .colab-df-convert {\n",
              "      background-color: #E8F0FE;\n",
              "      border: none;\n",
              "      border-radius: 50%;\n",
              "      cursor: pointer;\n",
              "      display: none;\n",
              "      fill: #1967D2;\n",
              "      height: 32px;\n",
              "      padding: 0 0 0 0;\n",
              "      width: 32px;\n",
              "    }\n",
              "\n",
              "    .colab-df-convert:hover {\n",
              "      background-color: #E2EBFA;\n",
              "      box-shadow: 0px 1px 2px rgba(60, 64, 67, 0.3), 0px 1px 3px 1px rgba(60, 64, 67, 0.15);\n",
              "      fill: #174EA6;\n",
              "    }\n",
              "\n",
              "    [theme=dark] .colab-df-convert {\n",
              "      background-color: #3B4455;\n",
              "      fill: #D2E3FC;\n",
              "    }\n",
              "\n",
              "    [theme=dark] .colab-df-convert:hover {\n",
              "      background-color: #434B5C;\n",
              "      box-shadow: 0px 1px 3px 1px rgba(0, 0, 0, 0.15);\n",
              "      filter: drop-shadow(0px 1px 2px rgba(0, 0, 0, 0.3));\n",
              "      fill: #FFFFFF;\n",
              "    }\n",
              "  </style>\n",
              "\n",
              "      <script>\n",
              "        const buttonEl =\n",
              "          document.querySelector('#df-6e02fc0c-91a8-4db4-a75a-3d5ea46fb539 button.colab-df-convert');\n",
              "        buttonEl.style.display =\n",
              "          google.colab.kernel.accessAllowed ? 'block' : 'none';\n",
              "\n",
              "        async function convertToInteractive(key) {\n",
              "          const element = document.querySelector('#df-6e02fc0c-91a8-4db4-a75a-3d5ea46fb539');\n",
              "          const dataTable =\n",
              "            await google.colab.kernel.invokeFunction('convertToInteractive',\n",
              "                                                     [key], {});\n",
              "          if (!dataTable) return;\n",
              "\n",
              "          const docLinkHtml = 'Like what you see? Visit the ' +\n",
              "            '<a target=\"_blank\" href=https://colab.research.google.com/notebooks/data_table.ipynb>data table notebook</a>'\n",
              "            + ' to learn more about interactive tables.';\n",
              "          element.innerHTML = '';\n",
              "          dataTable['output_type'] = 'display_data';\n",
              "          await google.colab.output.renderOutput(dataTable, element);\n",
              "          const docLink = document.createElement('div');\n",
              "          docLink.innerHTML = docLinkHtml;\n",
              "          element.appendChild(docLink);\n",
              "        }\n",
              "      </script>\n",
              "    </div>\n",
              "  </div>\n",
              "  "
            ]
          },
          "metadata": {},
          "execution_count": 527
        }
      ]
    },
    {
      "cell_type": "markdown",
      "source": [
        "Now lets drop any null values and reorder by percent of max"
      ],
      "metadata": {
        "id": "5b6_cnThl7Wc"
      }
    },
    {
      "cell_type": "code",
      "source": [
        "data.dropna(inplace=True)\n",
        "data = data.sort_values('percent_of_max', ascending = False)\n",
        "data.reset_index(drop=True, inplace=True)"
      ],
      "metadata": {
        "id": "4QtBXCwVl1lh"
      },
      "execution_count": null,
      "outputs": []
    },
    {
      "cell_type": "markdown",
      "source": [
        "Now for this next part I will need to sort the values by \"percent of max\""
      ],
      "metadata": {
        "id": "PV7blr7M41rZ"
      }
    },
    {
      "cell_type": "markdown",
      "source": [
        "Because there are so many countries, I will also select only a handfull of countries of interest to represent"
      ],
      "metadata": {
        "id": "VJ-CkVlhWr70"
      }
    },
    {
      "cell_type": "code",
      "source": [
        "interest = ['Taiwan','China','United States','Russia','Germany','Japan','France','South Korea','Saudi Arabia','United Arab Emirates','Israel','Canada','Australia','New Zealand','South Africa','France']\n",
        "data = data[data['location'].isin(interest)]\n",
        "data.reset_index(drop=True, inplace=True)"
      ],
      "metadata": {
        "id": "UQDQdva-W-ZD"
      },
      "execution_count": null,
      "outputs": []
    },
    {
      "cell_type": "markdown",
      "source": [
        "Now for the visualization"
      ],
      "metadata": {
        "id": "1-RWwBdpZhfm"
      }
    },
    {
      "cell_type": "code",
      "source": [
        "x = np.linspace(-2,2,100)\n",
        "\n",
        "fig = plt.figure()\n",
        "ax = fig.add_subplot(1, 1, 1)\n",
        "ax.set(title = 'Fifteen Countries Latest Days Infections As A Percentage Of Highest Days Infections')\n",
        "fig.set_facecolor('darkgray')\n",
        "ax.spines['left'].set_position('center')\n",
        "ax.spines['bottom'].set_position('zero')\n",
        "ax.spines['right'].set_color('none')\n",
        "ax.spines['top'].set_color('none')\n",
        "plt.ylim(0,1)\n",
        "plt.axis('off')\n",
        "sns.set(rc={'figure.figsize':(15,7)})\n",
        "\n",
        "colors = ['red','indianred','salmon','darkorange','lightsalmon','sandybrown','tan','pink','plum','lightsteelblue','lightskyblue','dodgerblue','cornflowerblue','royalblue','blue','mediumblue']\n",
        "\n",
        "for i in range(0,len(data['percent_of_max']),1):\n",
        "  y = data['percent_of_max'][i]*np.e**(-1*x**2)\n",
        "  plt.plot(x,y,color=colors[i])\n",
        "y2 = np.e**(-1*x**2)\n",
        "plt.plot(x,y2, color = 'r')\n",
        "\n",
        "patches = []\n",
        "for j in range(0,len(data['location']),1):\n",
        "  patches.append(mpatches.Patch(color=colors[j], label = data['location'][j]+' '+str(truncate(100*data['percent_of_max'][j],2))))\n",
        "plt.legend(handles=patches, bbox_to_anchor=(1, 1), loc='upper right', ncol=1)\n",
        "\n",
        "\n",
        "plt.show()"
      ],
      "metadata": {
        "colab": {
          "base_uri": "https://localhost:8080/",
          "height": 427
        },
        "id": "aaY62lR3mH_N",
        "outputId": "6237b818-3027-4ab3-f0e1-aa5fadcf95f7"
      },
      "execution_count": null,
      "outputs": [
        {
          "output_type": "display_data",
          "data": {
            "text/plain": [
              "<Figure size 1080x504 with 1 Axes>"
            ],
            "image/png": "[encoded data removed]"
          },
          "metadata": {}
        }
      ]
    }
  ]
}