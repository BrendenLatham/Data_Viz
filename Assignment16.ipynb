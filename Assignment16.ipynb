{
  "nbformat": 4,
  "nbformat_minor": 0,
  "metadata": {
    "colab": {
      "name": "Untitled6.ipynb",
      "provenance": [],
      "authorship_tag": "ABX9TyM6Mpu1qAOFx3mBIfNy8mey",
      "include_colab_link": true
    },
    "kernelspec": {
      "name": "python3",
      "display_name": "Python 3"
    },
    "language_info": {
      "name": "python"
    }
  },
  "cells": [
    {
      "cell_type": "markdown",
      "metadata": {
        "id": "view-in-github",
        "colab_type": "text"
      },
      "source": [
        "<a href=\"https://colab.research.google.com/github/BrendenLatham/Data_Viz/blob/main/Assignment16.ipynb\" target=\"_parent\"><img src=\"https://colab.research.google.com/assets/colab-badge.svg\" alt=\"Open In Colab\"/></a>"
      ]
    },
    {
      "cell_type": "markdown",
      "source": [
        "# Assignment 16"
      ],
      "metadata": {
        "id": "diP1gBOw7RPy"
      }
    },
    {
      "cell_type": "markdown",
      "source": [
        "To begin this project I will be grabbing the data set I will use"
      ],
      "metadata": {
        "id": "uTaszmvz7aqT"
      }
    },
    {
      "cell_type": "code",
      "execution_count": 106,
      "metadata": {
        "colab": {
          "base_uri": "https://localhost:8080/",
          "height": 519
        },
        "id": "CO-532Py7QGD",
        "outputId": "27bff6dc-0f3b-4af6-a1ba-aac0db4fe10c"
      },
      "outputs": [
        {
          "output_type": "execute_result",
          "data": {
            "text/html": [
              "\n",
              "  <div id=\"df-09441f62-0346-4b5c-a7b2-54ef47643e25\">\n",
              "    <div class=\"colab-df-container\">\n",
              "      <div>\n",
              "<style scoped>\n",
              "    .dataframe tbody tr th:only-of-type {\n",
              "        vertical-align: middle;\n",
              "    }\n",
              "\n",
              "    .dataframe tbody tr th {\n",
              "        vertical-align: top;\n",
              "    }\n",
              "\n",
              "    .dataframe thead th {\n",
              "        text-align: right;\n",
              "    }\n",
              "</style>\n",
              "<table border=\"1\" class=\"dataframe\">\n",
              "  <thead>\n",
              "    <tr style=\"text-align: right;\">\n",
              "      <th></th>\n",
              "      <th>id</th>\n",
              "      <th>room_id/id</th>\n",
              "      <th>noted_date</th>\n",
              "      <th>temp</th>\n",
              "      <th>out/in</th>\n",
              "    </tr>\n",
              "  </thead>\n",
              "  <tbody>\n",
              "    <tr>\n",
              "      <th>0</th>\n",
              "      <td>__export__.temp_log_196134_bd201015</td>\n",
              "      <td>Room Admin</td>\n",
              "      <td>08-12-2018 09:30</td>\n",
              "      <td>29</td>\n",
              "      <td>In</td>\n",
              "    </tr>\n",
              "    <tr>\n",
              "      <th>1</th>\n",
              "      <td>__export__.temp_log_196131_7bca51bc</td>\n",
              "      <td>Room Admin</td>\n",
              "      <td>08-12-2018 09:30</td>\n",
              "      <td>29</td>\n",
              "      <td>In</td>\n",
              "    </tr>\n",
              "    <tr>\n",
              "      <th>2</th>\n",
              "      <td>__export__.temp_log_196127_522915e3</td>\n",
              "      <td>Room Admin</td>\n",
              "      <td>08-12-2018 09:29</td>\n",
              "      <td>41</td>\n",
              "      <td>Out</td>\n",
              "    </tr>\n",
              "    <tr>\n",
              "      <th>3</th>\n",
              "      <td>__export__.temp_log_196128_be0919cf</td>\n",
              "      <td>Room Admin</td>\n",
              "      <td>08-12-2018 09:29</td>\n",
              "      <td>41</td>\n",
              "      <td>Out</td>\n",
              "    </tr>\n",
              "    <tr>\n",
              "      <th>4</th>\n",
              "      <td>__export__.temp_log_196126_d30b72fb</td>\n",
              "      <td>Room Admin</td>\n",
              "      <td>08-12-2018 09:29</td>\n",
              "      <td>31</td>\n",
              "      <td>In</td>\n",
              "    </tr>\n",
              "    <tr>\n",
              "      <th>5</th>\n",
              "      <td>__export__.temp_log_196125_b0fa0b41</td>\n",
              "      <td>Room Admin</td>\n",
              "      <td>08-12-2018 09:29</td>\n",
              "      <td>31</td>\n",
              "      <td>In</td>\n",
              "    </tr>\n",
              "    <tr>\n",
              "      <th>6</th>\n",
              "      <td>__export__.temp_log_196121_01544d45</td>\n",
              "      <td>Room Admin</td>\n",
              "      <td>08-12-2018 09:28</td>\n",
              "      <td>29</td>\n",
              "      <td>In</td>\n",
              "    </tr>\n",
              "    <tr>\n",
              "      <th>7</th>\n",
              "      <td>__export__.temp_log_196122_f8b80a9f</td>\n",
              "      <td>Room Admin</td>\n",
              "      <td>08-12-2018 09:28</td>\n",
              "      <td>29</td>\n",
              "      <td>In</td>\n",
              "    </tr>\n",
              "    <tr>\n",
              "      <th>8</th>\n",
              "      <td>__export__.temp_log_196111_6b7a0848</td>\n",
              "      <td>Room Admin</td>\n",
              "      <td>08-12-2018 09:26</td>\n",
              "      <td>29</td>\n",
              "      <td>In</td>\n",
              "    </tr>\n",
              "    <tr>\n",
              "      <th>9</th>\n",
              "      <td>__export__.temp_log_196112_e134aebd</td>\n",
              "      <td>Room Admin</td>\n",
              "      <td>08-12-2018 09:26</td>\n",
              "      <td>29</td>\n",
              "      <td>In</td>\n",
              "    </tr>\n",
              "    <tr>\n",
              "      <th>10</th>\n",
              "      <td>__export__.temp_log_196108_4a983c7e</td>\n",
              "      <td>Room Admin</td>\n",
              "      <td>08-12-2018 09:25</td>\n",
              "      <td>42</td>\n",
              "      <td>Out</td>\n",
              "    </tr>\n",
              "    <tr>\n",
              "      <th>11</th>\n",
              "      <td>__export__.temp_log_196108_4a983c7e</td>\n",
              "      <td>Room Admin</td>\n",
              "      <td>08-12-2018 09:25</td>\n",
              "      <td>42</td>\n",
              "      <td>Out</td>\n",
              "    </tr>\n",
              "    <tr>\n",
              "      <th>12</th>\n",
              "      <td>__export__.temp_log_196101_d5ec7633</td>\n",
              "      <td>Room Admin</td>\n",
              "      <td>08-12-2018 09:24</td>\n",
              "      <td>29</td>\n",
              "      <td>In</td>\n",
              "    </tr>\n",
              "    <tr>\n",
              "      <th>13</th>\n",
              "      <td>__export__.temp_log_196099_3b8ef67b</td>\n",
              "      <td>Room Admin</td>\n",
              "      <td>08-12-2018 09:24</td>\n",
              "      <td>29</td>\n",
              "      <td>In</td>\n",
              "    </tr>\n",
              "    <tr>\n",
              "      <th>14</th>\n",
              "      <td>__export__.temp_log_196095_788b2c27</td>\n",
              "      <td>Room Admin</td>\n",
              "      <td>08-12-2018 09:22</td>\n",
              "      <td>29</td>\n",
              "      <td>In</td>\n",
              "    </tr>\n",
              "  </tbody>\n",
              "</table>\n",
              "</div>\n",
              "      <button class=\"colab-df-convert\" onclick=\"convertToInteractive('df-09441f62-0346-4b5c-a7b2-54ef47643e25')\"\n",
              "              title=\"Convert this dataframe to an interactive table.\"\n",
              "              style=\"display:none;\">\n",
              "        \n",
              "  <svg xmlns=\"http://www.w3.org/2000/svg\" height=\"24px\"viewBox=\"0 0 24 24\"\n",
              "       width=\"24px\">\n",
              "    <path d=\"M0 0h24v24H0V0z\" fill=\"none\"/>\n",
              "    <path d=\"M18.56 5.44l.94 2.06.94-2.06 2.06-.94-2.06-.94-.94-2.06-.94 2.06-2.06.94zm-11 1L8.5 8.5l.94-2.06 2.06-.94-2.06-.94L8.5 2.5l-.94 2.06-2.06.94zm10 10l.94 2.06.94-2.06 2.06-.94-2.06-.94-.94-2.06-.94 2.06-2.06.94z\"/><path d=\"M17.41 7.96l-1.37-1.37c-.4-.4-.92-.59-1.43-.59-.52 0-1.04.2-1.43.59L10.3 9.45l-7.72 7.72c-.78.78-.78 2.05 0 2.83L4 21.41c.39.39.9.59 1.41.59.51 0 1.02-.2 1.41-.59l7.78-7.78 2.81-2.81c.8-.78.8-2.07 0-2.86zM5.41 20L4 18.59l7.72-7.72 1.47 1.35L5.41 20z\"/>\n",
              "  </svg>\n",
              "      </button>\n",
              "      \n",
              "  <style>\n",
              "    .colab-df-container {\n",
              "      display:flex;\n",
              "      flex-wrap:wrap;\n",
              "      gap: 12px;\n",
              "    }\n",
              "\n",
              "    .colab-df-convert {\n",
              "      background-color: #E8F0FE;\n",
              "      border: none;\n",
              "      border-radius: 50%;\n",
              "      cursor: pointer;\n",
              "      display: none;\n",
              "      fill: #1967D2;\n",
              "      height: 32px;\n",
              "      padding: 0 0 0 0;\n",
              "      width: 32px;\n",
              "    }\n",
              "\n",
              "    .colab-df-convert:hover {\n",
              "      background-color: #E2EBFA;\n",
              "      box-shadow: 0px 1px 2px rgba(60, 64, 67, 0.3), 0px 1px 3px 1px rgba(60, 64, 67, 0.15);\n",
              "      fill: #174EA6;\n",
              "    }\n",
              "\n",
              "    [theme=dark] .colab-df-convert {\n",
              "      background-color: #3B4455;\n",
              "      fill: #D2E3FC;\n",
              "    }\n",
              "\n",
              "    [theme=dark] .colab-df-convert:hover {\n",
              "      background-color: #434B5C;\n",
              "      box-shadow: 0px 1px 3px 1px rgba(0, 0, 0, 0.15);\n",
              "      filter: drop-shadow(0px 1px 2px rgba(0, 0, 0, 0.3));\n",
              "      fill: #FFFFFF;\n",
              "    }\n",
              "  </style>\n",
              "\n",
              "      <script>\n",
              "        const buttonEl =\n",
              "          document.querySelector('#df-09441f62-0346-4b5c-a7b2-54ef47643e25 button.colab-df-convert');\n",
              "        buttonEl.style.display =\n",
              "          google.colab.kernel.accessAllowed ? 'block' : 'none';\n",
              "\n",
              "        async function convertToInteractive(key) {\n",
              "          const element = document.querySelector('#df-09441f62-0346-4b5c-a7b2-54ef47643e25');\n",
              "          const dataTable =\n",
              "            await google.colab.kernel.invokeFunction('convertToInteractive',\n",
              "                                                     [key], {});\n",
              "          if (!dataTable) return;\n",
              "\n",
              "          const docLinkHtml = 'Like what you see? Visit the ' +\n",
              "            '<a target=\"_blank\" href=https://colab.research.google.com/notebooks/data_table.ipynb>data table notebook</a>'\n",
              "            + ' to learn more about interactive tables.';\n",
              "          element.innerHTML = '';\n",
              "          dataTable['output_type'] = 'display_data';\n",
              "          await google.colab.output.renderOutput(dataTable, element);\n",
              "          const docLink = document.createElement('div');\n",
              "          docLink.innerHTML = docLinkHtml;\n",
              "          element.appendChild(docLink);\n",
              "        }\n",
              "      </script>\n",
              "    </div>\n",
              "  </div>\n",
              "  "
            ],
            "text/plain": [
              "                                     id  room_id/id  ... temp  out/in\n",
              "0   __export__.temp_log_196134_bd201015  Room Admin  ...   29      In\n",
              "1   __export__.temp_log_196131_7bca51bc  Room Admin  ...   29      In\n",
              "2   __export__.temp_log_196127_522915e3  Room Admin  ...   41     Out\n",
              "3   __export__.temp_log_196128_be0919cf  Room Admin  ...   41     Out\n",
              "4   __export__.temp_log_196126_d30b72fb  Room Admin  ...   31      In\n",
              "5   __export__.temp_log_196125_b0fa0b41  Room Admin  ...   31      In\n",
              "6   __export__.temp_log_196121_01544d45  Room Admin  ...   29      In\n",
              "7   __export__.temp_log_196122_f8b80a9f  Room Admin  ...   29      In\n",
              "8   __export__.temp_log_196111_6b7a0848  Room Admin  ...   29      In\n",
              "9   __export__.temp_log_196112_e134aebd  Room Admin  ...   29      In\n",
              "10  __export__.temp_log_196108_4a983c7e  Room Admin  ...   42     Out\n",
              "11  __export__.temp_log_196108_4a983c7e  Room Admin  ...   42     Out\n",
              "12  __export__.temp_log_196101_d5ec7633  Room Admin  ...   29      In\n",
              "13  __export__.temp_log_196099_3b8ef67b  Room Admin  ...   29      In\n",
              "14  __export__.temp_log_196095_788b2c27  Room Admin  ...   29      In\n",
              "\n",
              "[15 rows x 5 columns]"
            ]
          },
          "metadata": {},
          "execution_count": 106
        }
      ],
      "source": [
        "import pandas as pd\n",
        "from pandas._libs.tslibs.timedeltas import Timedelta\n",
        "df = pd.read_csv('https://raw.githubusercontent.com/nurfnick/Data_Viz/main/IOT-temp.csv')\n",
        "df.head(15)"
      ]
    },
    {
      "cell_type": "code",
      "source": [
        "df['noted_date'] = pd.to_datetime(df.noted_date, format = '%d-%m-%Y %H:%M')"
      ],
      "metadata": {
        "id": "Y34gr-58GXmE"
      },
      "execution_count": 48,
      "outputs": []
    },
    {
      "cell_type": "code",
      "source": [
        "df.dtypes"
      ],
      "metadata": {
        "id": "0gPomtCSKs4y",
        "outputId": "2fa772c2-2f0f-42ad-f78c-326834c08e7e",
        "colab": {
          "base_uri": "https://localhost:8080/"
        }
      },
      "execution_count": 49,
      "outputs": [
        {
          "output_type": "execute_result",
          "data": {
            "text/plain": [
              "id                    object\n",
              "room_id/id            object\n",
              "noted_date    datetime64[ns]\n",
              "temp                   int64\n",
              "out/in                object\n",
              "dtype: object"
            ]
          },
          "metadata": {},
          "execution_count": 49
        }
      ]
    },
    {
      "cell_type": "markdown",
      "source": [
        "Now to get the maximum and minimum date and time"
      ],
      "metadata": {
        "id": "X4OR5yZcHG3h"
      }
    },
    {
      "cell_type": "code",
      "source": [
        "print(\"min: \", min(df.noted_date))\n",
        "print(\"max: \",max(df.noted_date))"
      ],
      "metadata": {
        "colab": {
          "base_uri": "https://localhost:8080/"
        },
        "id": "oYru_vcKG8dd",
        "outputId": "ec10d5b9-6c2b-42dd-bcb4-e6919b9369ca"
      },
      "execution_count": 25,
      "outputs": [
        {
          "output_type": "stream",
          "name": "stdout",
          "text": [
            "min:  01-11-2018 00:06\n",
            "max:  31-10-2018 23:57\n"
          ]
        }
      ]
    },
    {
      "cell_type": "markdown",
      "source": [
        "It looks like they only tracked temperature for about two months"
      ],
      "metadata": {
        "id": "k6YV5n2GHZhO"
      }
    },
    {
      "cell_type": "markdown",
      "source": [
        "Let's find the largest interval between time checks"
      ],
      "metadata": {
        "id": "ODt2UOz7HiMs"
      }
    },
    {
      "cell_type": "code",
      "source": [
        "maxdif = Timedelta(0)\n",
        "temp = Timedelta(0)\n",
        "for i in range(1,len(df['noted_date'])-1,1):\n",
        "  temp = df['noted_date'][i] - df['noted_date'][i+1]\n",
        "  if maxdif < temp:\n",
        "    maxdif = temp\n",
        "  else:\n",
        "    maxdif = maxdif\n",
        "print(maxdif)"
      ],
      "metadata": {
        "id": "Y2rDm-GRPugZ",
        "outputId": "18d64edd-5ba3-4e69-f7bf-e71e0656378f",
        "colab": {
          "base_uri": "https://localhost:8080/"
        }
      },
      "execution_count": 62,
      "outputs": [
        {
          "output_type": "stream",
          "name": "stdout",
          "text": [
            "11 days 13:38:00\n"
          ]
        }
      ]
    },
    {
      "cell_type": "markdown",
      "source": [
        "It looks like if my code is right the max time between checks was 11, 13 hours, and 38 minutes"
      ],
      "metadata": {
        "id": "-5Rgt4GARtII"
      }
    },
    {
      "cell_type": "markdown",
      "source": [
        "Now to get the average daytime of the checks"
      ],
      "metadata": {
        "id": "FcCz8kHwR5HV"
      }
    },
    {
      "cell_type": "code",
      "source": [
        "times = pd.DataFrame(df.noted_date)\n",
        "times['noted_date'] = pd.to_datetime(times['noted_date']).dt.time\n",
        "times.columns = ['noted_time']\n",
        "times['noted_time'] = pd.to_datetime(times.noted_time, format = '%H:%M:%S')\n",
        "times['noted_time'].mean()"
      ],
      "metadata": {
        "id": "bygOo0ruR9He",
        "outputId": "067df295-7bd0-4243-8d06-050395feced4",
        "colab": {
          "base_uri": "https://localhost:8080/"
        }
      },
      "execution_count": 130,
      "outputs": [
        {
          "output_type": "execute_result",
          "data": {
            "text/plain": [
              "Timestamp('1900-01-01 12:30:21.953363712')"
            ]
          },
          "metadata": {},
          "execution_count": 130
        }
      ]
    },
    {
      "cell_type": "markdown",
      "source": [
        "I beleive this worked, I just didn't have any dates in the column I was using, only times. Because of this it filled in the date as the lowest possible."
      ],
      "metadata": {
        "id": "Ptcr4YZjTbcg"
      }
    },
    {
      "cell_type": "markdown",
      "source": [
        "Now to get the average temp for 11-09-2018"
      ],
      "metadata": {
        "id": "JKvgRu74TzSD"
      }
    },
    {
      "cell_type": "code",
      "source": [
        "dates = pd.DataFrame(df.noted_date)\n",
        "dates['noted_date'] = pd.to_datetime(dates['noted_date']).dt.date\n",
        "df2 = df.drop(columns = 'noted_date')\n",
        "df2 = pd.concat([df2,dates,times],axis=1)\n",
        "df2['noted_date'] = pd.to_datetime(df2.noted_date, format = '%Y-%m-%d')\n",
        "df2.head()"
      ],
      "metadata": {
        "id": "_pfvocFFTwwK",
        "outputId": "26b7e6e6-f09d-478b-b067-f4674d71b69a",
        "colab": {
          "base_uri": "https://localhost:8080/",
          "height": 206
        }
      },
      "execution_count": 136,
      "outputs": [
        {
          "output_type": "execute_result",
          "data": {
            "text/html": [
              "\n",
              "  <div id=\"df-cd63fc7f-b14c-4eb4-bd1c-7db2f9b6448a\">\n",
              "    <div class=\"colab-df-container\">\n",
              "      <div>\n",
              "<style scoped>\n",
              "    .dataframe tbody tr th:only-of-type {\n",
              "        vertical-align: middle;\n",
              "    }\n",
              "\n",
              "    .dataframe tbody tr th {\n",
              "        vertical-align: top;\n",
              "    }\n",
              "\n",
              "    .dataframe thead th {\n",
              "        text-align: right;\n",
              "    }\n",
              "</style>\n",
              "<table border=\"1\" class=\"dataframe\">\n",
              "  <thead>\n",
              "    <tr style=\"text-align: right;\">\n",
              "      <th></th>\n",
              "      <th>id</th>\n",
              "      <th>room_id/id</th>\n",
              "      <th>temp</th>\n",
              "      <th>out/in</th>\n",
              "      <th>noted_date</th>\n",
              "      <th>noted_time</th>\n",
              "    </tr>\n",
              "  </thead>\n",
              "  <tbody>\n",
              "    <tr>\n",
              "      <th>0</th>\n",
              "      <td>__export__.temp_log_196134_bd201015</td>\n",
              "      <td>Room Admin</td>\n",
              "      <td>29</td>\n",
              "      <td>In</td>\n",
              "      <td>2018-08-12</td>\n",
              "      <td>1900-01-01 09:30:00</td>\n",
              "    </tr>\n",
              "    <tr>\n",
              "      <th>1</th>\n",
              "      <td>__export__.temp_log_196131_7bca51bc</td>\n",
              "      <td>Room Admin</td>\n",
              "      <td>29</td>\n",
              "      <td>In</td>\n",
              "      <td>2018-08-12</td>\n",
              "      <td>1900-01-01 09:30:00</td>\n",
              "    </tr>\n",
              "    <tr>\n",
              "      <th>2</th>\n",
              "      <td>__export__.temp_log_196127_522915e3</td>\n",
              "      <td>Room Admin</td>\n",
              "      <td>41</td>\n",
              "      <td>Out</td>\n",
              "      <td>2018-08-12</td>\n",
              "      <td>1900-01-01 09:29:00</td>\n",
              "    </tr>\n",
              "    <tr>\n",
              "      <th>3</th>\n",
              "      <td>__export__.temp_log_196128_be0919cf</td>\n",
              "      <td>Room Admin</td>\n",
              "      <td>41</td>\n",
              "      <td>Out</td>\n",
              "      <td>2018-08-12</td>\n",
              "      <td>1900-01-01 09:29:00</td>\n",
              "    </tr>\n",
              "    <tr>\n",
              "      <th>4</th>\n",
              "      <td>__export__.temp_log_196126_d30b72fb</td>\n",
              "      <td>Room Admin</td>\n",
              "      <td>31</td>\n",
              "      <td>In</td>\n",
              "      <td>2018-08-12</td>\n",
              "      <td>1900-01-01 09:29:00</td>\n",
              "    </tr>\n",
              "  </tbody>\n",
              "</table>\n",
              "</div>\n",
              "      <button class=\"colab-df-convert\" onclick=\"convertToInteractive('df-cd63fc7f-b14c-4eb4-bd1c-7db2f9b6448a')\"\n",
              "              title=\"Convert this dataframe to an interactive table.\"\n",
              "              style=\"display:none;\">\n",
              "        \n",
              "  <svg xmlns=\"http://www.w3.org/2000/svg\" height=\"24px\"viewBox=\"0 0 24 24\"\n",
              "       width=\"24px\">\n",
              "    <path d=\"M0 0h24v24H0V0z\" fill=\"none\"/>\n",
              "    <path d=\"M18.56 5.44l.94 2.06.94-2.06 2.06-.94-2.06-.94-.94-2.06-.94 2.06-2.06.94zm-11 1L8.5 8.5l.94-2.06 2.06-.94-2.06-.94L8.5 2.5l-.94 2.06-2.06.94zm10 10l.94 2.06.94-2.06 2.06-.94-2.06-.94-.94-2.06-.94 2.06-2.06.94z\"/><path d=\"M17.41 7.96l-1.37-1.37c-.4-.4-.92-.59-1.43-.59-.52 0-1.04.2-1.43.59L10.3 9.45l-7.72 7.72c-.78.78-.78 2.05 0 2.83L4 21.41c.39.39.9.59 1.41.59.51 0 1.02-.2 1.41-.59l7.78-7.78 2.81-2.81c.8-.78.8-2.07 0-2.86zM5.41 20L4 18.59l7.72-7.72 1.47 1.35L5.41 20z\"/>\n",
              "  </svg>\n",
              "      </button>\n",
              "      \n",
              "  <style>\n",
              "    .colab-df-container {\n",
              "      display:flex;\n",
              "      flex-wrap:wrap;\n",
              "      gap: 12px;\n",
              "    }\n",
              "\n",
              "    .colab-df-convert {\n",
              "      background-color: #E8F0FE;\n",
              "      border: none;\n",
              "      border-radius: 50%;\n",
              "      cursor: pointer;\n",
              "      display: none;\n",
              "      fill: #1967D2;\n",
              "      height: 32px;\n",
              "      padding: 0 0 0 0;\n",
              "      width: 32px;\n",
              "    }\n",
              "\n",
              "    .colab-df-convert:hover {\n",
              "      background-color: #E2EBFA;\n",
              "      box-shadow: 0px 1px 2px rgba(60, 64, 67, 0.3), 0px 1px 3px 1px rgba(60, 64, 67, 0.15);\n",
              "      fill: #174EA6;\n",
              "    }\n",
              "\n",
              "    [theme=dark] .colab-df-convert {\n",
              "      background-color: #3B4455;\n",
              "      fill: #D2E3FC;\n",
              "    }\n",
              "\n",
              "    [theme=dark] .colab-df-convert:hover {\n",
              "      background-color: #434B5C;\n",
              "      box-shadow: 0px 1px 3px 1px rgba(0, 0, 0, 0.15);\n",
              "      filter: drop-shadow(0px 1px 2px rgba(0, 0, 0, 0.3));\n",
              "      fill: #FFFFFF;\n",
              "    }\n",
              "  </style>\n",
              "\n",
              "      <script>\n",
              "        const buttonEl =\n",
              "          document.querySelector('#df-cd63fc7f-b14c-4eb4-bd1c-7db2f9b6448a button.colab-df-convert');\n",
              "        buttonEl.style.display =\n",
              "          google.colab.kernel.accessAllowed ? 'block' : 'none';\n",
              "\n",
              "        async function convertToInteractive(key) {\n",
              "          const element = document.querySelector('#df-cd63fc7f-b14c-4eb4-bd1c-7db2f9b6448a');\n",
              "          const dataTable =\n",
              "            await google.colab.kernel.invokeFunction('convertToInteractive',\n",
              "                                                     [key], {});\n",
              "          if (!dataTable) return;\n",
              "\n",
              "          const docLinkHtml = 'Like what you see? Visit the ' +\n",
              "            '<a target=\"_blank\" href=https://colab.research.google.com/notebooks/data_table.ipynb>data table notebook</a>'\n",
              "            + ' to learn more about interactive tables.';\n",
              "          element.innerHTML = '';\n",
              "          dataTable['output_type'] = 'display_data';\n",
              "          await google.colab.output.renderOutput(dataTable, element);\n",
              "          const docLink = document.createElement('div');\n",
              "          docLink.innerHTML = docLinkHtml;\n",
              "          element.appendChild(docLink);\n",
              "        }\n",
              "      </script>\n",
              "    </div>\n",
              "  </div>\n",
              "  "
            ],
            "text/plain": [
              "                                    id  ...          noted_time\n",
              "0  __export__.temp_log_196134_bd201015  ... 1900-01-01 09:30:00\n",
              "1  __export__.temp_log_196131_7bca51bc  ... 1900-01-01 09:30:00\n",
              "2  __export__.temp_log_196127_522915e3  ... 1900-01-01 09:29:00\n",
              "3  __export__.temp_log_196128_be0919cf  ... 1900-01-01 09:29:00\n",
              "4  __export__.temp_log_196126_d30b72fb  ... 1900-01-01 09:29:00\n",
              "\n",
              "[5 rows x 6 columns]"
            ]
          },
          "metadata": {},
          "execution_count": 136
        }
      ]
    },
    {
      "cell_type": "markdown",
      "source": [
        "I want to check the types really quckly"
      ],
      "metadata": {
        "id": "8YyJuzC7akQ8"
      }
    },
    {
      "cell_type": "code",
      "source": [
        "df2.dtypes"
      ],
      "metadata": {
        "id": "NZ-jYyBvWQ0-",
        "outputId": "0fb5b2ce-71e2-4565-b878-2947d0f8b97d",
        "colab": {
          "base_uri": "https://localhost:8080/"
        }
      },
      "execution_count": 137,
      "outputs": [
        {
          "output_type": "execute_result",
          "data": {
            "text/plain": [
              "id                    object\n",
              "room_id/id            object\n",
              "temp                   int64\n",
              "out/in                object\n",
              "noted_date    datetime64[ns]\n",
              "noted_time    datetime64[ns]\n",
              "dtype: object"
            ]
          },
          "metadata": {},
          "execution_count": 137
        }
      ]
    },
    {
      "cell_type": "markdown",
      "source": [
        "now to get the mean"
      ],
      "metadata": {
        "id": "jCJu5deZaot0"
      }
    },
    {
      "cell_type": "code",
      "source": [
        "from statistics import mean"
      ],
      "metadata": {
        "id": "btp7ZfoHZ-xg"
      },
      "execution_count": 138,
      "outputs": []
    },
    {
      "cell_type": "code",
      "source": [
        "SpecDate = df2.loc[df2['noted_date'] == '2018-11-09']\n",
        "SpecDate = df2.loc[df2['out/in'] == 'Out']\n",
        "mean(SpecDate['temp'])"
      ],
      "metadata": {
        "id": "G0tNx7u9VUb1",
        "outputId": "68a7494b-966f-434f-f6f6-46f245ae1992",
        "colab": {
          "base_uri": "https://localhost:8080/"
        }
      },
      "execution_count": 139,
      "outputs": [
        {
          "output_type": "execute_result",
          "data": {
            "text/plain": [
              "36.265243784056636"
            ]
          },
          "metadata": {},
          "execution_count": 139
        }
      ]
    },
    {
      "cell_type": "markdown",
      "source": [
        "## Some code I used to play around with the package"
      ],
      "metadata": {
        "id": "HbtlKKkHGoI7"
      }
    },
    {
      "cell_type": "code",
      "source": [
        "dates = pd.DataFrame(df.noted_date)\n",
        "times = pd.DataFrame(df.noted_date)\n",
        "dates['noted_date'] = pd.to_datetime(dates['noted_date']).dt.date\n",
        "times['noted_date'] = pd.to_datetime(times['noted_date']).dt.time\n",
        "times.columns = ['noted_time']\n",
        "\n",
        "df2 = df.drop(columns = 'noted_date')\n",
        "df2 = pd.concat([df,dates,times],axis=1)\n",
        "\n",
        "pd.to_datetime(df2.noted_date, format = '%Y-%m-%d')\n",
        "pd.to_datetime(df2.noted_time, format = '%H:%M:%S')"
      ],
      "metadata": {
        "id": "0b6MUmFMGMEt"
      },
      "execution_count": null,
      "outputs": []
    }
  ]
}