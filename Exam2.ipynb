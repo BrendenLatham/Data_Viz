{
  "nbformat": 4,
  "nbformat_minor": 0,
  "metadata": {
    "colab": {
      "name": "Untitled10.ipynb",
      "provenance": [],
      "authorship_tag": "ABX9TyOoO4OSK+oLAm9W1kytEBND",
      "include_colab_link": true
    },
    "kernelspec": {
      "name": "python3",
      "display_name": "Python 3"
    },
    "language_info": {
      "name": "python"
    }
  },
  "cells": [
    {
      "cell_type": "markdown",
      "metadata": {
        "id": "view-in-github",
        "colab_type": "text"
      },
      "source": [
        "<a href=\"https://colab.research.google.com/github/BrendenLatham/Data_Viz/blob/main/Exam2.ipynb\" target=\"_parent\"><img src=\"https://colab.research.google.com/assets/colab-badge.svg\" alt=\"Open In Colab\"/></a>"
      ]
    },
    {
      "cell_type": "markdown",
      "source": [
        "#Exam 2"
      ],
      "metadata": {
        "id": "YBJgTweT4okx"
      }
    },
    {
      "cell_type": "markdown",
      "source": [
        "# Brenden Latham 245775"
      ],
      "metadata": {
        "id": "ltogMrls4xqF"
      }
    },
    {
      "cell_type": "markdown",
      "source": [
        "# CPSMA 4313"
      ],
      "metadata": {
        "id": "rvgiWs0241gV"
      }
    },
    {
      "cell_type": "code",
      "source": [
        "import pandas as pd\n",
        "pd.options.mode.chained_assignment = None  # default='warn'\n",
        "import numpy\n",
        "import re\n",
        "import statistics as stat\n",
        "import math"
      ],
      "metadata": {
        "id": "JWtO_30r5F1F"
      },
      "execution_count": 238,
      "outputs": []
    },
    {
      "cell_type": "markdown",
      "source": [
        "## 1"
      ],
      "metadata": {
        "id": "OKbKuuHx5CCZ"
      }
    },
    {
      "cell_type": "markdown",
      "source": [
        "### a"
      ],
      "metadata": {
        "id": "DQ-xhPS05OnJ"
      }
    },
    {
      "cell_type": "markdown",
      "source": [
        "I will first import the dataframe"
      ],
      "metadata": {
        "id": "KkGgWAA15PsE"
      }
    },
    {
      "cell_type": "code",
      "source": [
        "df = pd.read_csv('https://raw.githubusercontent.com/nurfnick/Data_Viz/main/Activity_Dataset_V1.csv')\n",
        "df.head()"
      ],
      "metadata": {
        "colab": {
          "base_uri": "https://localhost:8080/",
          "height": 316
        },
        "id": "YiIZHMRv5SwB",
        "outputId": "fefbc8d1-9cc5-419d-b2cc-5c62c9e00169"
      },
      "execution_count": 239,
      "outputs": [
        {
          "output_type": "execute_result",
          "data": {
            "text/html": [
              "\n",
              "  <div id=\"df-9f6dcba0-ed40-4074-93aa-238e639da98c\">\n",
              "    <div class=\"colab-df-container\">\n",
              "      <div>\n",
              "<style scoped>\n",
              "    .dataframe tbody tr th:only-of-type {\n",
              "        vertical-align: middle;\n",
              "    }\n",
              "\n",
              "    .dataframe tbody tr th {\n",
              "        vertical-align: top;\n",
              "    }\n",
              "\n",
              "    .dataframe thead th {\n",
              "        text-align: right;\n",
              "    }\n",
              "</style>\n",
              "<table border=\"1\" class=\"dataframe\">\n",
              "  <thead>\n",
              "    <tr style=\"text-align: right;\">\n",
              "      <th></th>\n",
              "      <th>Unnamed: 0</th>\n",
              "      <th>activity_day</th>\n",
              "      <th>workout_type</th>\n",
              "      <th>distance</th>\n",
              "      <th>time</th>\n",
              "      <th>calories</th>\n",
              "      <th>total_steps</th>\n",
              "      <th>avg_speed</th>\n",
              "      <th>avg_cadence</th>\n",
              "      <th>max_cadence</th>\n",
              "      <th>...</th>\n",
              "      <th>max_pace</th>\n",
              "      <th>min_pace</th>\n",
              "      <th>avg_heart_rate</th>\n",
              "      <th>max_heart_rate</th>\n",
              "      <th>min_heart_rate</th>\n",
              "      <th>vo2_max(%)</th>\n",
              "      <th>aerobic(%)</th>\n",
              "      <th>anaerobic(%)</th>\n",
              "      <th>intensive(%)</th>\n",
              "      <th>light(%)</th>\n",
              "    </tr>\n",
              "  </thead>\n",
              "  <tbody>\n",
              "    <tr>\n",
              "      <th>0</th>\n",
              "      <td>0</td>\n",
              "      <td>2022-01-01</td>\n",
              "      <td>Freestyle</td>\n",
              "      <td>9.30</td>\n",
              "      <td>77</td>\n",
              "      <td>123</td>\n",
              "      <td>NaN</td>\n",
              "      <td>18.88</td>\n",
              "      <td>168.54</td>\n",
              "      <td>138.30</td>\n",
              "      <td>...</td>\n",
              "      <td>NaN</td>\n",
              "      <td>NaN</td>\n",
              "      <td>112.5</td>\n",
              "      <td>122.0</td>\n",
              "      <td>103</td>\n",
              "      <td>19</td>\n",
              "      <td>28</td>\n",
              "      <td>2</td>\n",
              "      <td>7</td>\n",
              "      <td>50</td>\n",
              "    </tr>\n",
              "    <tr>\n",
              "      <th>1</th>\n",
              "      <td>1</td>\n",
              "      <td>2022-01-01</td>\n",
              "      <td>Freestyle</td>\n",
              "      <td>3.44</td>\n",
              "      <td>96</td>\n",
              "      <td>55</td>\n",
              "      <td>NaN</td>\n",
              "      <td>29.65</td>\n",
              "      <td>125.92</td>\n",
              "      <td>292.81</td>\n",
              "      <td>...</td>\n",
              "      <td>NaN</td>\n",
              "      <td>NaN</td>\n",
              "      <td>111.0</td>\n",
              "      <td>122.0</td>\n",
              "      <td>100</td>\n",
              "      <td>42</td>\n",
              "      <td>28</td>\n",
              "      <td>2</td>\n",
              "      <td>29</td>\n",
              "      <td>88</td>\n",
              "    </tr>\n",
              "    <tr>\n",
              "      <th>2</th>\n",
              "      <td>2</td>\n",
              "      <td>2022-01-01</td>\n",
              "      <td>Indoor Cycling</td>\n",
              "      <td>6.34</td>\n",
              "      <td>85</td>\n",
              "      <td>33</td>\n",
              "      <td>NaN</td>\n",
              "      <td>17.85</td>\n",
              "      <td>81.93</td>\n",
              "      <td>323.69</td>\n",
              "      <td>...</td>\n",
              "      <td>NaN</td>\n",
              "      <td>NaN</td>\n",
              "      <td>95.0</td>\n",
              "      <td>90.0</td>\n",
              "      <td>100</td>\n",
              "      <td>1</td>\n",
              "      <td>32</td>\n",
              "      <td>0</td>\n",
              "      <td>22</td>\n",
              "      <td>43</td>\n",
              "    </tr>\n",
              "    <tr>\n",
              "      <th>3</th>\n",
              "      <td>3</td>\n",
              "      <td>2022-01-01</td>\n",
              "      <td>Walking</td>\n",
              "      <td>7.91</td>\n",
              "      <td>42</td>\n",
              "      <td>82</td>\n",
              "      <td>1571.0</td>\n",
              "      <td>22.10</td>\n",
              "      <td>29.63</td>\n",
              "      <td>180.16</td>\n",
              "      <td>...</td>\n",
              "      <td>28:58</td>\n",
              "      <td>07:58</td>\n",
              "      <td>83.0</td>\n",
              "      <td>85.0</td>\n",
              "      <td>81</td>\n",
              "      <td>3</td>\n",
              "      <td>22</td>\n",
              "      <td>0</td>\n",
              "      <td>24</td>\n",
              "      <td>65</td>\n",
              "    </tr>\n",
              "    <tr>\n",
              "      <th>4</th>\n",
              "      <td>4</td>\n",
              "      <td>2022-01-01</td>\n",
              "      <td>Open Water</td>\n",
              "      <td>8.99</td>\n",
              "      <td>36</td>\n",
              "      <td>131</td>\n",
              "      <td>NaN</td>\n",
              "      <td>25.83</td>\n",
              "      <td>64.55</td>\n",
              "      <td>342.89</td>\n",
              "      <td>...</td>\n",
              "      <td>NaN</td>\n",
              "      <td>NaN</td>\n",
              "      <td>138.0</td>\n",
              "      <td>166.0</td>\n",
              "      <td>110</td>\n",
              "      <td>7</td>\n",
              "      <td>0</td>\n",
              "      <td>5</td>\n",
              "      <td>21</td>\n",
              "      <td>88</td>\n",
              "    </tr>\n",
              "  </tbody>\n",
              "</table>\n",
              "<p>5 rows × 21 columns</p>\n",
              "</div>\n",
              "      <button class=\"colab-df-convert\" onclick=\"convertToInteractive('df-9f6dcba0-ed40-4074-93aa-238e639da98c')\"\n",
              "              title=\"Convert this dataframe to an interactive table.\"\n",
              "              style=\"display:none;\">\n",
              "        \n",
              "  <svg xmlns=\"http://www.w3.org/2000/svg\" height=\"24px\"viewBox=\"0 0 24 24\"\n",
              "       width=\"24px\">\n",
              "    <path d=\"M0 0h24v24H0V0z\" fill=\"none\"/>\n",
              "    <path d=\"M18.56 5.44l.94 2.06.94-2.06 2.06-.94-2.06-.94-.94-2.06-.94 2.06-2.06.94zm-11 1L8.5 8.5l.94-2.06 2.06-.94-2.06-.94L8.5 2.5l-.94 2.06-2.06.94zm10 10l.94 2.06.94-2.06 2.06-.94-2.06-.94-.94-2.06-.94 2.06-2.06.94z\"/><path d=\"M17.41 7.96l-1.37-1.37c-.4-.4-.92-.59-1.43-.59-.52 0-1.04.2-1.43.59L10.3 9.45l-7.72 7.72c-.78.78-.78 2.05 0 2.83L4 21.41c.39.39.9.59 1.41.59.51 0 1.02-.2 1.41-.59l7.78-7.78 2.81-2.81c.8-.78.8-2.07 0-2.86zM5.41 20L4 18.59l7.72-7.72 1.47 1.35L5.41 20z\"/>\n",
              "  </svg>\n",
              "      </button>\n",
              "      \n",
              "  <style>\n",
              "    .colab-df-container {\n",
              "      display:flex;\n",
              "      flex-wrap:wrap;\n",
              "      gap: 12px;\n",
              "    }\n",
              "\n",
              "    .colab-df-convert {\n",
              "      background-color: #E8F0FE;\n",
              "      border: none;\n",
              "      border-radius: 50%;\n",
              "      cursor: pointer;\n",
              "      display: none;\n",
              "      fill: #1967D2;\n",
              "      height: 32px;\n",
              "      padding: 0 0 0 0;\n",
              "      width: 32px;\n",
              "    }\n",
              "\n",
              "    .colab-df-convert:hover {\n",
              "      background-color: #E2EBFA;\n",
              "      box-shadow: 0px 1px 2px rgba(60, 64, 67, 0.3), 0px 1px 3px 1px rgba(60, 64, 67, 0.15);\n",
              "      fill: #174EA6;\n",
              "    }\n",
              "\n",
              "    [theme=dark] .colab-df-convert {\n",
              "      background-color: #3B4455;\n",
              "      fill: #D2E3FC;\n",
              "    }\n",
              "\n",
              "    [theme=dark] .colab-df-convert:hover {\n",
              "      background-color: #434B5C;\n",
              "      box-shadow: 0px 1px 3px 1px rgba(0, 0, 0, 0.15);\n",
              "      filter: drop-shadow(0px 1px 2px rgba(0, 0, 0, 0.3));\n",
              "      fill: #FFFFFF;\n",
              "    }\n",
              "  </style>\n",
              "\n",
              "      <script>\n",
              "        const buttonEl =\n",
              "          document.querySelector('#df-9f6dcba0-ed40-4074-93aa-238e639da98c button.colab-df-convert');\n",
              "        buttonEl.style.display =\n",
              "          google.colab.kernel.accessAllowed ? 'block' : 'none';\n",
              "\n",
              "        async function convertToInteractive(key) {\n",
              "          const element = document.querySelector('#df-9f6dcba0-ed40-4074-93aa-238e639da98c');\n",
              "          const dataTable =\n",
              "            await google.colab.kernel.invokeFunction('convertToInteractive',\n",
              "                                                     [key], {});\n",
              "          if (!dataTable) return;\n",
              "\n",
              "          const docLinkHtml = 'Like what you see? Visit the ' +\n",
              "            '<a target=\"_blank\" href=https://colab.research.google.com/notebooks/data_table.ipynb>data table notebook</a>'\n",
              "            + ' to learn more about interactive tables.';\n",
              "          element.innerHTML = '';\n",
              "          dataTable['output_type'] = 'display_data';\n",
              "          await google.colab.output.renderOutput(dataTable, element);\n",
              "          const docLink = document.createElement('div');\n",
              "          docLink.innerHTML = docLinkHtml;\n",
              "          element.appendChild(docLink);\n",
              "        }\n",
              "      </script>\n",
              "    </div>\n",
              "  </div>\n",
              "  "
            ],
            "text/plain": [
              "   Unnamed: 0 activity_day    workout_type  distance  time  calories  \\\n",
              "0           0   2022-01-01       Freestyle      9.30    77       123   \n",
              "1           1   2022-01-01       Freestyle      3.44    96        55   \n",
              "2           2   2022-01-01  Indoor Cycling      6.34    85        33   \n",
              "3           3   2022-01-01         Walking      7.91    42        82   \n",
              "4           4   2022-01-01      Open Water      8.99    36       131   \n",
              "\n",
              "   total_steps  avg_speed  avg_cadence  max_cadence  ... max_pace min_pace  \\\n",
              "0          NaN      18.88       168.54       138.30  ...      NaN      NaN   \n",
              "1          NaN      29.65       125.92       292.81  ...      NaN      NaN   \n",
              "2          NaN      17.85        81.93       323.69  ...      NaN      NaN   \n",
              "3       1571.0      22.10        29.63       180.16  ...    28:58    07:58   \n",
              "4          NaN      25.83        64.55       342.89  ...      NaN      NaN   \n",
              "\n",
              "  avg_heart_rate  max_heart_rate  min_heart_rate  vo2_max(%)  aerobic(%)  \\\n",
              "0          112.5           122.0             103          19          28   \n",
              "1          111.0           122.0             100          42          28   \n",
              "2           95.0            90.0             100           1          32   \n",
              "3           83.0            85.0              81           3          22   \n",
              "4          138.0           166.0             110           7           0   \n",
              "\n",
              "   anaerobic(%)  intensive(%)  light(%)  \n",
              "0             2             7        50  \n",
              "1             2            29        88  \n",
              "2             0            22        43  \n",
              "3             0            24        65  \n",
              "4             5            21        88  \n",
              "\n",
              "[5 rows x 21 columns]"
            ]
          },
          "metadata": {},
          "execution_count": 239
        }
      ]
    },
    {
      "cell_type": "markdown",
      "source": [
        "Now I am going to take a look at the datatypes of each column"
      ],
      "metadata": {
        "id": "aqMkW6IW5j67"
      }
    },
    {
      "cell_type": "code",
      "source": [
        "df.dtypes"
      ],
      "metadata": {
        "colab": {
          "base_uri": "https://localhost:8080/"
        },
        "id": "nCpxwMc05sdU",
        "outputId": "b5b2ca2c-2ae6-4956-b9d4-92f28dcb2305"
      },
      "execution_count": 240,
      "outputs": [
        {
          "output_type": "execute_result",
          "data": {
            "text/plain": [
              "Unnamed: 0          int64\n",
              "activity_day       object\n",
              "workout_type       object\n",
              "distance          float64\n",
              "time                int64\n",
              "calories            int64\n",
              "total_steps       float64\n",
              "avg_speed         float64\n",
              "avg_cadence       float64\n",
              "max_cadence       float64\n",
              "avg_pace           object\n",
              "max_pace           object\n",
              "min_pace           object\n",
              "avg_heart_rate    float64\n",
              "max_heart_rate    float64\n",
              "min_heart_rate      int64\n",
              "vo2_max(%)          int64\n",
              "aerobic(%)          int64\n",
              "anaerobic(%)        int64\n",
              "intensive(%)        int64\n",
              "light(%)            int64\n",
              "dtype: object"
            ]
          },
          "metadata": {},
          "execution_count": 240
        }
      ]
    },
    {
      "cell_type": "markdown",
      "source": [
        "It looks to me like \"workout_type\" should be a string. Also \"total_steps\" and \"max_heart_rate\" should be an int unless they are counting partial steps."
      ],
      "metadata": {
        "id": "LTXNGrl97ST7"
      }
    },
    {
      "cell_type": "markdown",
      "source": [
        "### b"
      ],
      "metadata": {
        "id": "Ild6hg9l8uWk"
      }
    },
    {
      "cell_type": "markdown",
      "source": [
        "Now I will remove the column \"unnamed\" because it is unnecesary"
      ],
      "metadata": {
        "id": "IZSTI1CO8vww"
      }
    },
    {
      "cell_type": "code",
      "source": [
        "df = df.drop(columns = ['Unnamed: 0'])"
      ],
      "metadata": {
        "id": "3JfSyusz825K"
      },
      "execution_count": 241,
      "outputs": []
    },
    {
      "cell_type": "markdown",
      "source": [
        "### c"
      ],
      "metadata": {
        "id": "NeLKPRLO-xHT"
      }
    },
    {
      "cell_type": "markdown",
      "source": [
        "Now to clean up the column names"
      ],
      "metadata": {
        "id": "HQnrXeS4-y-_"
      }
    },
    {
      "cell_type": "code",
      "source": [
        "df = df.rename(columns=lambda x: re.sub(\"\\([^()]*\\)\", '', x))\n",
        "df.columns"
      ],
      "metadata": {
        "colab": {
          "base_uri": "https://localhost:8080/"
        },
        "id": "IUOp6wIm-18w",
        "outputId": "a82504b9-f7ef-4cf1-8475-3f140daec8f9"
      },
      "execution_count": 242,
      "outputs": [
        {
          "output_type": "execute_result",
          "data": {
            "text/plain": [
              "Index(['activity_day', 'workout_type', 'distance', 'time', 'calories',\n",
              "       'total_steps', 'avg_speed', 'avg_cadence', 'max_cadence', 'avg_pace',\n",
              "       'max_pace', 'min_pace', 'avg_heart_rate', 'max_heart_rate',\n",
              "       'min_heart_rate', 'vo2_max', 'aerobic', 'anaerobic', 'intensive',\n",
              "       'light'],\n",
              "      dtype='object')"
            ]
          },
          "metadata": {},
          "execution_count": 242
        }
      ]
    },
    {
      "cell_type": "markdown",
      "source": [
        "### d"
      ],
      "metadata": {
        "id": "vGXnIMK__sl4"
      }
    },
    {
      "cell_type": "markdown",
      "source": [
        "Now I will donvert the column \"activity_day\" to date-time format"
      ],
      "metadata": {
        "id": "YSQGmPCV_mfi"
      }
    },
    {
      "cell_type": "code",
      "source": [
        "df['activity_day'] = pd.to_datetime(df.activity_day, format = '%Y-%m-%d')\n",
        "df.dtypes"
      ],
      "metadata": {
        "colab": {
          "base_uri": "https://localhost:8080/"
        },
        "id": "NbwN3YtB_vEl",
        "outputId": "a10c1655-e951-435a-8397-0d24be0f885b"
      },
      "execution_count": 243,
      "outputs": [
        {
          "output_type": "execute_result",
          "data": {
            "text/plain": [
              "activity_day      datetime64[ns]\n",
              "workout_type              object\n",
              "distance                 float64\n",
              "time                       int64\n",
              "calories                   int64\n",
              "total_steps              float64\n",
              "avg_speed                float64\n",
              "avg_cadence              float64\n",
              "max_cadence              float64\n",
              "avg_pace                  object\n",
              "max_pace                  object\n",
              "min_pace                  object\n",
              "avg_heart_rate           float64\n",
              "max_heart_rate           float64\n",
              "min_heart_rate             int64\n",
              "vo2_max                    int64\n",
              "aerobic                    int64\n",
              "anaerobic                  int64\n",
              "intensive                  int64\n",
              "light                      int64\n",
              "dtype: object"
            ]
          },
          "metadata": {},
          "execution_count": 243
        }
      ]
    },
    {
      "cell_type": "markdown",
      "source": [
        "### e"
      ],
      "metadata": {
        "id": "V1PCQ5YPA_bu"
      }
    },
    {
      "cell_type": "markdown",
      "source": [
        "I will also be looking at the column \"total_steps\". Here I will replace the NaN's with the column mean trunctated to the whole number and convert the data type to an int. This is done to make future analysis of the column easier. "
      ],
      "metadata": {
        "id": "2XobB2AXBDjD"
      }
    },
    {
      "cell_type": "code",
      "source": [
        "StepMean = df['total_steps'].mean()\n",
        "StepMean = math.trunc(StepMean)\n",
        "df['total_steps'] = df['total_steps'].fillna(value = int(StepMean))\n",
        "df.total_steps = df.total_steps.astype('int')\n",
        "df['total_steps']"
      ],
      "metadata": {
        "colab": {
          "base_uri": "https://localhost:8080/"
        },
        "id": "4PeY6a1FBX3u",
        "outputId": "36aee920-266d-46ec-f989-a3a0c9ba3d5e"
      },
      "execution_count": 244,
      "outputs": [
        {
          "output_type": "execute_result",
          "data": {
            "text/plain": [
              "0      4081\n",
              "1      4081\n",
              "2      4081\n",
              "3      1571\n",
              "4      4081\n",
              "       ... \n",
              "995    4081\n",
              "996    4081\n",
              "997    4081\n",
              "998    4081\n",
              "999    4081\n",
              "Name: total_steps, Length: 1000, dtype: int64"
            ]
          },
          "metadata": {},
          "execution_count": 244
        }
      ]
    },
    {
      "cell_type": "markdown",
      "source": [
        "### f"
      ],
      "metadata": {
        "id": "yB0JOI0VFKsb"
      }
    },
    {
      "cell_type": "markdown",
      "source": [
        "Following with the theme of converting columns, I will change the \"avg_pace\" column into a float representing minutes."
      ],
      "metadata": {
        "id": "t18t4lTjFMnC"
      }
    },
    {
      "cell_type": "markdown",
      "source": [
        "Here is how it looks now"
      ],
      "metadata": {
        "id": "HHBeHB5WFuPy"
      }
    },
    {
      "cell_type": "code",
      "source": [
        "df['avg_pace']"
      ],
      "metadata": {
        "colab": {
          "base_uri": "https://localhost:8080/"
        },
        "id": "iWPwC8erFwls",
        "outputId": "8cc978ad-fea8-4fab-c564-dd76cccf1da6"
      },
      "execution_count": 245,
      "outputs": [
        {
          "output_type": "execute_result",
          "data": {
            "text/plain": [
              "0        NaN\n",
              "1        NaN\n",
              "2        NaN\n",
              "3      07:58\n",
              "4        NaN\n",
              "       ...  \n",
              "995      NaN\n",
              "996      NaN\n",
              "997      NaN\n",
              "998      NaN\n",
              "999      NaN\n",
              "Name: avg_pace, Length: 1000, dtype: object"
            ]
          },
          "metadata": {},
          "execution_count": 245
        }
      ]
    },
    {
      "cell_type": "markdown",
      "source": [
        "Time to change that"
      ],
      "metadata": {
        "id": "-vgKf4oLGRxF"
      }
    },
    {
      "cell_type": "markdown",
      "source": [
        "First I will get the values in the form of minutes."
      ],
      "metadata": {
        "id": "TY_eCkkTWlMG"
      }
    },
    {
      "cell_type": "code",
      "source": [
        "df['avg_pace'] = [re.sub(':','.', str(x)) for x in df['avg_pace']]\n",
        "df.avg_pace = df.avg_pace.astype('float')\n",
        "df['avg_pace']"
      ],
      "metadata": {
        "colab": {
          "base_uri": "https://localhost:8080/"
        },
        "id": "n_TtUhEFdjuG",
        "outputId": "3fe19589-b081-4e9d-a67f-c772ee3431de"
      },
      "execution_count": 246,
      "outputs": [
        {
          "output_type": "execute_result",
          "data": {
            "text/plain": [
              "0       NaN\n",
              "1       NaN\n",
              "2       NaN\n",
              "3      7.58\n",
              "4       NaN\n",
              "       ... \n",
              "995     NaN\n",
              "996     NaN\n",
              "997     NaN\n",
              "998     NaN\n",
              "999     NaN\n",
              "Name: avg_pace, Length: 1000, dtype: float64"
            ]
          },
          "metadata": {},
          "execution_count": 246
        }
      ]
    },
    {
      "cell_type": "markdown",
      "source": [
        "Now I will raplace all the NaNs with the mean, once again for future data processing reasons."
      ],
      "metadata": {
        "id": "RbMQDlrRxiS8"
      }
    },
    {
      "cell_type": "code",
      "source": [
        "df['avg_pace'] = df['avg_pace'].fillna(value = df['avg_pace'].mean())\n",
        "df['avg_pace']"
      ],
      "metadata": {
        "id": "N-hfH9unxiuI",
        "outputId": "75058d13-df45-4534-b189-72462ff3cb86",
        "colab": {
          "base_uri": "https://localhost:8080/"
        }
      },
      "execution_count": 247,
      "outputs": [
        {
          "output_type": "execute_result",
          "data": {
            "text/plain": [
              "0      7.136453\n",
              "1      7.136453\n",
              "2      7.136453\n",
              "3      7.580000\n",
              "4      7.136453\n",
              "         ...   \n",
              "995    7.136453\n",
              "996    7.136453\n",
              "997    7.136453\n",
              "998    7.136453\n",
              "999    7.136453\n",
              "Name: avg_pace, Length: 1000, dtype: float64"
            ]
          },
          "metadata": {},
          "execution_count": 247
        }
      ]
    },
    {
      "cell_type": "markdown",
      "source": [
        "This still isn't right yet as I just replaced the comma with a decimal place. Time to do some math"
      ],
      "metadata": {
        "id": "-mB1ZcLEzTlx"
      }
    },
    {
      "cell_type": "code",
      "source": [
        "for i in range(0,len(df['avg_pace']),1):\n",
        "  dec = df['avg_pace'][i]%1\n",
        "  dec = dec/.6\n",
        "  df['avg_pace'][i] = trunc(df['avg_pace'][i])+dec\n",
        "df['avg_pace']"
      ],
      "metadata": {
        "id": "N5kbFMoH11G0",
        "outputId": "1e4edea2-c81f-4cf3-c473-7c9c09d2f68f",
        "colab": {
          "base_uri": "https://localhost:8080/"
        }
      },
      "execution_count": 248,
      "outputs": [
        {
          "output_type": "execute_result",
          "data": {
            "text/plain": [
              "0      7.227422\n",
              "1      7.227422\n",
              "2      7.227422\n",
              "3      7.966667\n",
              "4      7.227422\n",
              "         ...   \n",
              "995    7.227422\n",
              "996    7.227422\n",
              "997    7.227422\n",
              "998    7.227422\n",
              "999    7.227422\n",
              "Name: avg_pace, Length: 1000, dtype: float64"
            ]
          },
          "metadata": {},
          "execution_count": 248
        }
      ]
    },
    {
      "cell_type": "markdown",
      "source": [
        "And there we have it"
      ],
      "metadata": {
        "id": "zQWt4ZJf26Kg"
      }
    },
    {
      "cell_type": "markdown",
      "source": [
        "### g"
      ],
      "metadata": {
        "id": "f_jBhHP63Vg9"
      }
    },
    {
      "cell_type": "markdown",
      "source": [
        "Now I will gather some data on calories per workout type"
      ],
      "metadata": {
        "id": "EUUQqIeR3Xtl"
      }
    },
    {
      "cell_type": "code",
      "source": [
        "df.groupby(by='workout_type').agg(['mean','median','count','std'])['calories']"
      ],
      "metadata": {
        "id": "eIj4lQPt3jeN",
        "outputId": "0d2f8607-a67c-45a3-c828-add57b3458df",
        "colab": {
          "base_uri": "https://localhost:8080/",
          "height": 425
        }
      },
      "execution_count": 249,
      "outputs": [
        {
          "output_type": "execute_result",
          "data": {
            "text/html": [
              "\n",
              "  <div id=\"df-84c81889-3296-4039-8b0b-4fe62256fae6\">\n",
              "    <div class=\"colab-df-container\">\n",
              "      <div>\n",
              "<style scoped>\n",
              "    .dataframe tbody tr th:only-of-type {\n",
              "        vertical-align: middle;\n",
              "    }\n",
              "\n",
              "    .dataframe tbody tr th {\n",
              "        vertical-align: top;\n",
              "    }\n",
              "\n",
              "    .dataframe thead th {\n",
              "        text-align: right;\n",
              "    }\n",
              "</style>\n",
              "<table border=\"1\" class=\"dataframe\">\n",
              "  <thead>\n",
              "    <tr style=\"text-align: right;\">\n",
              "      <th></th>\n",
              "      <th>mean</th>\n",
              "      <th>median</th>\n",
              "      <th>count</th>\n",
              "      <th>std</th>\n",
              "    </tr>\n",
              "    <tr>\n",
              "      <th>workout_type</th>\n",
              "      <th></th>\n",
              "      <th></th>\n",
              "      <th></th>\n",
              "      <th></th>\n",
              "    </tr>\n",
              "  </thead>\n",
              "  <tbody>\n",
              "    <tr>\n",
              "      <th>Cricket</th>\n",
              "      <td>307.548387</td>\n",
              "      <td>330.0</td>\n",
              "      <td>93</td>\n",
              "      <td>149.950609</td>\n",
              "    </tr>\n",
              "    <tr>\n",
              "      <th>Freestyle</th>\n",
              "      <td>278.552083</td>\n",
              "      <td>294.0</td>\n",
              "      <td>96</td>\n",
              "      <td>163.703768</td>\n",
              "    </tr>\n",
              "    <tr>\n",
              "      <th>Indoor Cycling</th>\n",
              "      <td>280.450000</td>\n",
              "      <td>306.0</td>\n",
              "      <td>80</td>\n",
              "      <td>156.633322</td>\n",
              "    </tr>\n",
              "    <tr>\n",
              "      <th>Open Water</th>\n",
              "      <td>296.747253</td>\n",
              "      <td>328.0</td>\n",
              "      <td>91</td>\n",
              "      <td>160.068499</td>\n",
              "    </tr>\n",
              "    <tr>\n",
              "      <th>Outdoor Cycling</th>\n",
              "      <td>299.129412</td>\n",
              "      <td>301.0</td>\n",
              "      <td>85</td>\n",
              "      <td>158.731263</td>\n",
              "    </tr>\n",
              "    <tr>\n",
              "      <th>Outdoor Running</th>\n",
              "      <td>301.469136</td>\n",
              "      <td>349.0</td>\n",
              "      <td>81</td>\n",
              "      <td>165.725080</td>\n",
              "    </tr>\n",
              "    <tr>\n",
              "      <th>Pool Swimming</th>\n",
              "      <td>283.414894</td>\n",
              "      <td>300.0</td>\n",
              "      <td>94</td>\n",
              "      <td>157.576703</td>\n",
              "    </tr>\n",
              "    <tr>\n",
              "      <th>Trail Run</th>\n",
              "      <td>267.966667</td>\n",
              "      <td>264.0</td>\n",
              "      <td>90</td>\n",
              "      <td>155.748533</td>\n",
              "    </tr>\n",
              "    <tr>\n",
              "      <th>Treadmill</th>\n",
              "      <td>278.142857</td>\n",
              "      <td>269.5</td>\n",
              "      <td>98</td>\n",
              "      <td>146.963352</td>\n",
              "    </tr>\n",
              "    <tr>\n",
              "      <th>Trekking</th>\n",
              "      <td>283.127660</td>\n",
              "      <td>280.5</td>\n",
              "      <td>94</td>\n",
              "      <td>151.034870</td>\n",
              "    </tr>\n",
              "    <tr>\n",
              "      <th>Walking</th>\n",
              "      <td>276.040816</td>\n",
              "      <td>270.5</td>\n",
              "      <td>98</td>\n",
              "      <td>157.287570</td>\n",
              "    </tr>\n",
              "  </tbody>\n",
              "</table>\n",
              "</div>\n",
              "      <button class=\"colab-df-convert\" onclick=\"convertToInteractive('df-84c81889-3296-4039-8b0b-4fe62256fae6')\"\n",
              "              title=\"Convert this dataframe to an interactive table.\"\n",
              "              style=\"display:none;\">\n",
              "        \n",
              "  <svg xmlns=\"http://www.w3.org/2000/svg\" height=\"24px\"viewBox=\"0 0 24 24\"\n",
              "       width=\"24px\">\n",
              "    <path d=\"M0 0h24v24H0V0z\" fill=\"none\"/>\n",
              "    <path d=\"M18.56 5.44l.94 2.06.94-2.06 2.06-.94-2.06-.94-.94-2.06-.94 2.06-2.06.94zm-11 1L8.5 8.5l.94-2.06 2.06-.94-2.06-.94L8.5 2.5l-.94 2.06-2.06.94zm10 10l.94 2.06.94-2.06 2.06-.94-2.06-.94-.94-2.06-.94 2.06-2.06.94z\"/><path d=\"M17.41 7.96l-1.37-1.37c-.4-.4-.92-.59-1.43-.59-.52 0-1.04.2-1.43.59L10.3 9.45l-7.72 7.72c-.78.78-.78 2.05 0 2.83L4 21.41c.39.39.9.59 1.41.59.51 0 1.02-.2 1.41-.59l7.78-7.78 2.81-2.81c.8-.78.8-2.07 0-2.86zM5.41 20L4 18.59l7.72-7.72 1.47 1.35L5.41 20z\"/>\n",
              "  </svg>\n",
              "      </button>\n",
              "      \n",
              "  <style>\n",
              "    .colab-df-container {\n",
              "      display:flex;\n",
              "      flex-wrap:wrap;\n",
              "      gap: 12px;\n",
              "    }\n",
              "\n",
              "    .colab-df-convert {\n",
              "      background-color: #E8F0FE;\n",
              "      border: none;\n",
              "      border-radius: 50%;\n",
              "      cursor: pointer;\n",
              "      display: none;\n",
              "      fill: #1967D2;\n",
              "      height: 32px;\n",
              "      padding: 0 0 0 0;\n",
              "      width: 32px;\n",
              "    }\n",
              "\n",
              "    .colab-df-convert:hover {\n",
              "      background-color: #E2EBFA;\n",
              "      box-shadow: 0px 1px 2px rgba(60, 64, 67, 0.3), 0px 1px 3px 1px rgba(60, 64, 67, 0.15);\n",
              "      fill: #174EA6;\n",
              "    }\n",
              "\n",
              "    [theme=dark] .colab-df-convert {\n",
              "      background-color: #3B4455;\n",
              "      fill: #D2E3FC;\n",
              "    }\n",
              "\n",
              "    [theme=dark] .colab-df-convert:hover {\n",
              "      background-color: #434B5C;\n",
              "      box-shadow: 0px 1px 3px 1px rgba(0, 0, 0, 0.15);\n",
              "      filter: drop-shadow(0px 1px 2px rgba(0, 0, 0, 0.3));\n",
              "      fill: #FFFFFF;\n",
              "    }\n",
              "  </style>\n",
              "\n",
              "      <script>\n",
              "        const buttonEl =\n",
              "          document.querySelector('#df-84c81889-3296-4039-8b0b-4fe62256fae6 button.colab-df-convert');\n",
              "        buttonEl.style.display =\n",
              "          google.colab.kernel.accessAllowed ? 'block' : 'none';\n",
              "\n",
              "        async function convertToInteractive(key) {\n",
              "          const element = document.querySelector('#df-84c81889-3296-4039-8b0b-4fe62256fae6');\n",
              "          const dataTable =\n",
              "            await google.colab.kernel.invokeFunction('convertToInteractive',\n",
              "                                                     [key], {});\n",
              "          if (!dataTable) return;\n",
              "\n",
              "          const docLinkHtml = 'Like what you see? Visit the ' +\n",
              "            '<a target=\"_blank\" href=https://colab.research.google.com/notebooks/data_table.ipynb>data table notebook</a>'\n",
              "            + ' to learn more about interactive tables.';\n",
              "          element.innerHTML = '';\n",
              "          dataTable['output_type'] = 'display_data';\n",
              "          await google.colab.output.renderOutput(dataTable, element);\n",
              "          const docLink = document.createElement('div');\n",
              "          docLink.innerHTML = docLinkHtml;\n",
              "          element.appendChild(docLink);\n",
              "        }\n",
              "      </script>\n",
              "    </div>\n",
              "  </div>\n",
              "  "
            ],
            "text/plain": [
              "                       mean  median  count         std\n",
              "workout_type                                          \n",
              "Cricket          307.548387   330.0     93  149.950609\n",
              "Freestyle        278.552083   294.0     96  163.703768\n",
              "Indoor Cycling   280.450000   306.0     80  156.633322\n",
              "Open Water       296.747253   328.0     91  160.068499\n",
              "Outdoor Cycling  299.129412   301.0     85  158.731263\n",
              "Outdoor Running  301.469136   349.0     81  165.725080\n",
              "Pool Swimming    283.414894   300.0     94  157.576703\n",
              "Trail Run        267.966667   264.0     90  155.748533\n",
              "Treadmill        278.142857   269.5     98  146.963352\n",
              "Trekking         283.127660   280.5     94  151.034870\n",
              "Walking          276.040816   270.5     98  157.287570"
            ]
          },
          "metadata": {},
          "execution_count": 249
        }
      ]
    },
    {
      "cell_type": "markdown",
      "source": [
        "Note you could get this for all columns by deleting the last brackets, or get this for any other column by changing the contents of the brackets."
      ],
      "metadata": {
        "id": "rmcVc-T-4CD9"
      }
    },
    {
      "cell_type": "markdown",
      "source": [
        "### h"
      ],
      "metadata": {
        "id": "U7eWQ6fK4tf8"
      }
    },
    {
      "cell_type": "markdown",
      "source": [
        "Next I will create an indicator column indicating grater than or equal to 30% aerobic activity"
      ],
      "metadata": {
        "id": "lKjNbEtU4vXX"
      }
    },
    {
      "cell_type": "markdown",
      "source": [
        "First however I will be reformatting the columns that are in percent because the current format is getting annoying."
      ],
      "metadata": {
        "id": "iT-4UMiA46JQ"
      }
    },
    {
      "cell_type": "code",
      "source": [
        "cols = ('vo2_max','aerobic','anaerobic','intensive','light')\n",
        "for col in cols:\n",
        "  df[col] = df[col].astype('float')\n",
        "  for j in range(0,len(df[col]),1):\n",
        "    df[col][j] = df[col][j]/100\n",
        "df.head()"
      ],
      "metadata": {
        "id": "F-FgG_4t5FUr",
        "outputId": "6120b4d4-1d2a-4805-face-ac4216dfc4b4",
        "colab": {
          "base_uri": "https://localhost:8080/",
          "height": 270
        }
      },
      "execution_count": 250,
      "outputs": [
        {
          "output_type": "execute_result",
          "data": {
            "text/html": [
              "\n",
              "  <div id=\"df-ee93e741-8187-4376-93ac-2d8bf8863058\">\n",
              "    <div class=\"colab-df-container\">\n",
              "      <div>\n",
              "<style scoped>\n",
              "    .dataframe tbody tr th:only-of-type {\n",
              "        vertical-align: middle;\n",
              "    }\n",
              "\n",
              "    .dataframe tbody tr th {\n",
              "        vertical-align: top;\n",
              "    }\n",
              "\n",
              "    .dataframe thead th {\n",
              "        text-align: right;\n",
              "    }\n",
              "</style>\n",
              "<table border=\"1\" class=\"dataframe\">\n",
              "  <thead>\n",
              "    <tr style=\"text-align: right;\">\n",
              "      <th></th>\n",
              "      <th>activity_day</th>\n",
              "      <th>workout_type</th>\n",
              "      <th>distance</th>\n",
              "      <th>time</th>\n",
              "      <th>calories</th>\n",
              "      <th>total_steps</th>\n",
              "      <th>avg_speed</th>\n",
              "      <th>avg_cadence</th>\n",
              "      <th>max_cadence</th>\n",
              "      <th>avg_pace</th>\n",
              "      <th>max_pace</th>\n",
              "      <th>min_pace</th>\n",
              "      <th>avg_heart_rate</th>\n",
              "      <th>max_heart_rate</th>\n",
              "      <th>min_heart_rate</th>\n",
              "      <th>vo2_max</th>\n",
              "      <th>aerobic</th>\n",
              "      <th>anaerobic</th>\n",
              "      <th>intensive</th>\n",
              "      <th>light</th>\n",
              "    </tr>\n",
              "  </thead>\n",
              "  <tbody>\n",
              "    <tr>\n",
              "      <th>0</th>\n",
              "      <td>2022-01-01</td>\n",
              "      <td>Freestyle</td>\n",
              "      <td>9.30</td>\n",
              "      <td>77</td>\n",
              "      <td>123</td>\n",
              "      <td>4081</td>\n",
              "      <td>18.88</td>\n",
              "      <td>168.54</td>\n",
              "      <td>138.30</td>\n",
              "      <td>7.227422</td>\n",
              "      <td>NaN</td>\n",
              "      <td>NaN</td>\n",
              "      <td>112.5</td>\n",
              "      <td>122.0</td>\n",
              "      <td>103</td>\n",
              "      <td>0.19</td>\n",
              "      <td>0.28</td>\n",
              "      <td>0.02</td>\n",
              "      <td>0.07</td>\n",
              "      <td>0.50</td>\n",
              "    </tr>\n",
              "    <tr>\n",
              "      <th>1</th>\n",
              "      <td>2022-01-01</td>\n",
              "      <td>Freestyle</td>\n",
              "      <td>3.44</td>\n",
              "      <td>96</td>\n",
              "      <td>55</td>\n",
              "      <td>4081</td>\n",
              "      <td>29.65</td>\n",
              "      <td>125.92</td>\n",
              "      <td>292.81</td>\n",
              "      <td>7.227422</td>\n",
              "      <td>NaN</td>\n",
              "      <td>NaN</td>\n",
              "      <td>111.0</td>\n",
              "      <td>122.0</td>\n",
              "      <td>100</td>\n",
              "      <td>0.42</td>\n",
              "      <td>0.28</td>\n",
              "      <td>0.02</td>\n",
              "      <td>0.29</td>\n",
              "      <td>0.88</td>\n",
              "    </tr>\n",
              "    <tr>\n",
              "      <th>2</th>\n",
              "      <td>2022-01-01</td>\n",
              "      <td>Indoor Cycling</td>\n",
              "      <td>6.34</td>\n",
              "      <td>85</td>\n",
              "      <td>33</td>\n",
              "      <td>4081</td>\n",
              "      <td>17.85</td>\n",
              "      <td>81.93</td>\n",
              "      <td>323.69</td>\n",
              "      <td>7.227422</td>\n",
              "      <td>NaN</td>\n",
              "      <td>NaN</td>\n",
              "      <td>95.0</td>\n",
              "      <td>90.0</td>\n",
              "      <td>100</td>\n",
              "      <td>0.01</td>\n",
              "      <td>0.32</td>\n",
              "      <td>0.00</td>\n",
              "      <td>0.22</td>\n",
              "      <td>0.43</td>\n",
              "    </tr>\n",
              "    <tr>\n",
              "      <th>3</th>\n",
              "      <td>2022-01-01</td>\n",
              "      <td>Walking</td>\n",
              "      <td>7.91</td>\n",
              "      <td>42</td>\n",
              "      <td>82</td>\n",
              "      <td>1571</td>\n",
              "      <td>22.10</td>\n",
              "      <td>29.63</td>\n",
              "      <td>180.16</td>\n",
              "      <td>7.966667</td>\n",
              "      <td>28:58</td>\n",
              "      <td>07:58</td>\n",
              "      <td>83.0</td>\n",
              "      <td>85.0</td>\n",
              "      <td>81</td>\n",
              "      <td>0.03</td>\n",
              "      <td>0.22</td>\n",
              "      <td>0.00</td>\n",
              "      <td>0.24</td>\n",
              "      <td>0.65</td>\n",
              "    </tr>\n",
              "    <tr>\n",
              "      <th>4</th>\n",
              "      <td>2022-01-01</td>\n",
              "      <td>Open Water</td>\n",
              "      <td>8.99</td>\n",
              "      <td>36</td>\n",
              "      <td>131</td>\n",
              "      <td>4081</td>\n",
              "      <td>25.83</td>\n",
              "      <td>64.55</td>\n",
              "      <td>342.89</td>\n",
              "      <td>7.227422</td>\n",
              "      <td>NaN</td>\n",
              "      <td>NaN</td>\n",
              "      <td>138.0</td>\n",
              "      <td>166.0</td>\n",
              "      <td>110</td>\n",
              "      <td>0.07</td>\n",
              "      <td>0.00</td>\n",
              "      <td>0.05</td>\n",
              "      <td>0.21</td>\n",
              "      <td>0.88</td>\n",
              "    </tr>\n",
              "  </tbody>\n",
              "</table>\n",
              "</div>\n",
              "      <button class=\"colab-df-convert\" onclick=\"convertToInteractive('df-ee93e741-8187-4376-93ac-2d8bf8863058')\"\n",
              "              title=\"Convert this dataframe to an interactive table.\"\n",
              "              style=\"display:none;\">\n",
              "        \n",
              "  <svg xmlns=\"http://www.w3.org/2000/svg\" height=\"24px\"viewBox=\"0 0 24 24\"\n",
              "       width=\"24px\">\n",
              "    <path d=\"M0 0h24v24H0V0z\" fill=\"none\"/>\n",
              "    <path d=\"M18.56 5.44l.94 2.06.94-2.06 2.06-.94-2.06-.94-.94-2.06-.94 2.06-2.06.94zm-11 1L8.5 8.5l.94-2.06 2.06-.94-2.06-.94L8.5 2.5l-.94 2.06-2.06.94zm10 10l.94 2.06.94-2.06 2.06-.94-2.06-.94-.94-2.06-.94 2.06-2.06.94z\"/><path d=\"M17.41 7.96l-1.37-1.37c-.4-.4-.92-.59-1.43-.59-.52 0-1.04.2-1.43.59L10.3 9.45l-7.72 7.72c-.78.78-.78 2.05 0 2.83L4 21.41c.39.39.9.59 1.41.59.51 0 1.02-.2 1.41-.59l7.78-7.78 2.81-2.81c.8-.78.8-2.07 0-2.86zM5.41 20L4 18.59l7.72-7.72 1.47 1.35L5.41 20z\"/>\n",
              "  </svg>\n",
              "      </button>\n",
              "      \n",
              "  <style>\n",
              "    .colab-df-container {\n",
              "      display:flex;\n",
              "      flex-wrap:wrap;\n",
              "      gap: 12px;\n",
              "    }\n",
              "\n",
              "    .colab-df-convert {\n",
              "      background-color: #E8F0FE;\n",
              "      border: none;\n",
              "      border-radius: 50%;\n",
              "      cursor: pointer;\n",
              "      display: none;\n",
              "      fill: #1967D2;\n",
              "      height: 32px;\n",
              "      padding: 0 0 0 0;\n",
              "      width: 32px;\n",
              "    }\n",
              "\n",
              "    .colab-df-convert:hover {\n",
              "      background-color: #E2EBFA;\n",
              "      box-shadow: 0px 1px 2px rgba(60, 64, 67, 0.3), 0px 1px 3px 1px rgba(60, 64, 67, 0.15);\n",
              "      fill: #174EA6;\n",
              "    }\n",
              "\n",
              "    [theme=dark] .colab-df-convert {\n",
              "      background-color: #3B4455;\n",
              "      fill: #D2E3FC;\n",
              "    }\n",
              "\n",
              "    [theme=dark] .colab-df-convert:hover {\n",
              "      background-color: #434B5C;\n",
              "      box-shadow: 0px 1px 3px 1px rgba(0, 0, 0, 0.15);\n",
              "      filter: drop-shadow(0px 1px 2px rgba(0, 0, 0, 0.3));\n",
              "      fill: #FFFFFF;\n",
              "    }\n",
              "  </style>\n",
              "\n",
              "      <script>\n",
              "        const buttonEl =\n",
              "          document.querySelector('#df-ee93e741-8187-4376-93ac-2d8bf8863058 button.colab-df-convert');\n",
              "        buttonEl.style.display =\n",
              "          google.colab.kernel.accessAllowed ? 'block' : 'none';\n",
              "\n",
              "        async function convertToInteractive(key) {\n",
              "          const element = document.querySelector('#df-ee93e741-8187-4376-93ac-2d8bf8863058');\n",
              "          const dataTable =\n",
              "            await google.colab.kernel.invokeFunction('convertToInteractive',\n",
              "                                                     [key], {});\n",
              "          if (!dataTable) return;\n",
              "\n",
              "          const docLinkHtml = 'Like what you see? Visit the ' +\n",
              "            '<a target=\"_blank\" href=https://colab.research.google.com/notebooks/data_table.ipynb>data table notebook</a>'\n",
              "            + ' to learn more about interactive tables.';\n",
              "          element.innerHTML = '';\n",
              "          dataTable['output_type'] = 'display_data';\n",
              "          await google.colab.output.renderOutput(dataTable, element);\n",
              "          const docLink = document.createElement('div');\n",
              "          docLink.innerHTML = docLinkHtml;\n",
              "          element.appendChild(docLink);\n",
              "        }\n",
              "      </script>\n",
              "    </div>\n",
              "  </div>\n",
              "  "
            ],
            "text/plain": [
              "  activity_day    workout_type  distance  time  calories  total_steps  \\\n",
              "0   2022-01-01       Freestyle      9.30    77       123         4081   \n",
              "1   2022-01-01       Freestyle      3.44    96        55         4081   \n",
              "2   2022-01-01  Indoor Cycling      6.34    85        33         4081   \n",
              "3   2022-01-01         Walking      7.91    42        82         1571   \n",
              "4   2022-01-01      Open Water      8.99    36       131         4081   \n",
              "\n",
              "   avg_speed  avg_cadence  max_cadence  avg_pace max_pace min_pace  \\\n",
              "0      18.88       168.54       138.30  7.227422      NaN      NaN   \n",
              "1      29.65       125.92       292.81  7.227422      NaN      NaN   \n",
              "2      17.85        81.93       323.69  7.227422      NaN      NaN   \n",
              "3      22.10        29.63       180.16  7.966667    28:58    07:58   \n",
              "4      25.83        64.55       342.89  7.227422      NaN      NaN   \n",
              "\n",
              "   avg_heart_rate  max_heart_rate  min_heart_rate  vo2_max  aerobic  \\\n",
              "0           112.5           122.0             103     0.19     0.28   \n",
              "1           111.0           122.0             100     0.42     0.28   \n",
              "2            95.0            90.0             100     0.01     0.32   \n",
              "3            83.0            85.0              81     0.03     0.22   \n",
              "4           138.0           166.0             110     0.07     0.00   \n",
              "\n",
              "   anaerobic  intensive  light  \n",
              "0       0.02       0.07   0.50  \n",
              "1       0.02       0.29   0.88  \n",
              "2       0.00       0.22   0.43  \n",
              "3       0.00       0.24   0.65  \n",
              "4       0.05       0.21   0.88  "
            ]
          },
          "metadata": {},
          "execution_count": 250
        }
      ]
    },
    {
      "cell_type": "markdown",
      "source": [
        "I will now create the indicator column"
      ],
      "metadata": {
        "id": "CbkA52GGXl7p"
      }
    },
    {
      "cell_type": "code",
      "source": [
        "df['aerobic_indicator'] = 0\n",
        "for k in range(0,len(df['aerobic']),1):\n",
        "  if df['aerobic'][k] >= .3:\n",
        "   df['aerobic_indicator'][k] = 1\n",
        "  else:\n",
        "    df['aerobic_indicator'][k] = 0\n",
        "df.head()"
      ],
      "metadata": {
        "id": "GVUNR71xXqtQ",
        "outputId": "27227919-2555-42a0-d7b6-b16281061997",
        "colab": {
          "base_uri": "https://localhost:8080/",
          "height": 299
        }
      },
      "execution_count": 251,
      "outputs": [
        {
          "output_type": "execute_result",
          "data": {
            "text/html": [
              "\n",
              "  <div id=\"df-f847d0a7-fa9c-466a-bcce-fb6472895170\">\n",
              "    <div class=\"colab-df-container\">\n",
              "      <div>\n",
              "<style scoped>\n",
              "    .dataframe tbody tr th:only-of-type {\n",
              "        vertical-align: middle;\n",
              "    }\n",
              "\n",
              "    .dataframe tbody tr th {\n",
              "        vertical-align: top;\n",
              "    }\n",
              "\n",
              "    .dataframe thead th {\n",
              "        text-align: right;\n",
              "    }\n",
              "</style>\n",
              "<table border=\"1\" class=\"dataframe\">\n",
              "  <thead>\n",
              "    <tr style=\"text-align: right;\">\n",
              "      <th></th>\n",
              "      <th>activity_day</th>\n",
              "      <th>workout_type</th>\n",
              "      <th>distance</th>\n",
              "      <th>time</th>\n",
              "      <th>calories</th>\n",
              "      <th>total_steps</th>\n",
              "      <th>avg_speed</th>\n",
              "      <th>avg_cadence</th>\n",
              "      <th>max_cadence</th>\n",
              "      <th>avg_pace</th>\n",
              "      <th>...</th>\n",
              "      <th>min_pace</th>\n",
              "      <th>avg_heart_rate</th>\n",
              "      <th>max_heart_rate</th>\n",
              "      <th>min_heart_rate</th>\n",
              "      <th>vo2_max</th>\n",
              "      <th>aerobic</th>\n",
              "      <th>anaerobic</th>\n",
              "      <th>intensive</th>\n",
              "      <th>light</th>\n",
              "      <th>aerobic_indicator</th>\n",
              "    </tr>\n",
              "  </thead>\n",
              "  <tbody>\n",
              "    <tr>\n",
              "      <th>0</th>\n",
              "      <td>2022-01-01</td>\n",
              "      <td>Freestyle</td>\n",
              "      <td>9.30</td>\n",
              "      <td>77</td>\n",
              "      <td>123</td>\n",
              "      <td>4081</td>\n",
              "      <td>18.88</td>\n",
              "      <td>168.54</td>\n",
              "      <td>138.30</td>\n",
              "      <td>7.227422</td>\n",
              "      <td>...</td>\n",
              "      <td>NaN</td>\n",
              "      <td>112.5</td>\n",
              "      <td>122.0</td>\n",
              "      <td>103</td>\n",
              "      <td>0.19</td>\n",
              "      <td>0.28</td>\n",
              "      <td>0.02</td>\n",
              "      <td>0.07</td>\n",
              "      <td>0.50</td>\n",
              "      <td>0</td>\n",
              "    </tr>\n",
              "    <tr>\n",
              "      <th>1</th>\n",
              "      <td>2022-01-01</td>\n",
              "      <td>Freestyle</td>\n",
              "      <td>3.44</td>\n",
              "      <td>96</td>\n",
              "      <td>55</td>\n",
              "      <td>4081</td>\n",
              "      <td>29.65</td>\n",
              "      <td>125.92</td>\n",
              "      <td>292.81</td>\n",
              "      <td>7.227422</td>\n",
              "      <td>...</td>\n",
              "      <td>NaN</td>\n",
              "      <td>111.0</td>\n",
              "      <td>122.0</td>\n",
              "      <td>100</td>\n",
              "      <td>0.42</td>\n",
              "      <td>0.28</td>\n",
              "      <td>0.02</td>\n",
              "      <td>0.29</td>\n",
              "      <td>0.88</td>\n",
              "      <td>0</td>\n",
              "    </tr>\n",
              "    <tr>\n",
              "      <th>2</th>\n",
              "      <td>2022-01-01</td>\n",
              "      <td>Indoor Cycling</td>\n",
              "      <td>6.34</td>\n",
              "      <td>85</td>\n",
              "      <td>33</td>\n",
              "      <td>4081</td>\n",
              "      <td>17.85</td>\n",
              "      <td>81.93</td>\n",
              "      <td>323.69</td>\n",
              "      <td>7.227422</td>\n",
              "      <td>...</td>\n",
              "      <td>NaN</td>\n",
              "      <td>95.0</td>\n",
              "      <td>90.0</td>\n",
              "      <td>100</td>\n",
              "      <td>0.01</td>\n",
              "      <td>0.32</td>\n",
              "      <td>0.00</td>\n",
              "      <td>0.22</td>\n",
              "      <td>0.43</td>\n",
              "      <td>1</td>\n",
              "    </tr>\n",
              "    <tr>\n",
              "      <th>3</th>\n",
              "      <td>2022-01-01</td>\n",
              "      <td>Walking</td>\n",
              "      <td>7.91</td>\n",
              "      <td>42</td>\n",
              "      <td>82</td>\n",
              "      <td>1571</td>\n",
              "      <td>22.10</td>\n",
              "      <td>29.63</td>\n",
              "      <td>180.16</td>\n",
              "      <td>7.966667</td>\n",
              "      <td>...</td>\n",
              "      <td>07:58</td>\n",
              "      <td>83.0</td>\n",
              "      <td>85.0</td>\n",
              "      <td>81</td>\n",
              "      <td>0.03</td>\n",
              "      <td>0.22</td>\n",
              "      <td>0.00</td>\n",
              "      <td>0.24</td>\n",
              "      <td>0.65</td>\n",
              "      <td>0</td>\n",
              "    </tr>\n",
              "    <tr>\n",
              "      <th>4</th>\n",
              "      <td>2022-01-01</td>\n",
              "      <td>Open Water</td>\n",
              "      <td>8.99</td>\n",
              "      <td>36</td>\n",
              "      <td>131</td>\n",
              "      <td>4081</td>\n",
              "      <td>25.83</td>\n",
              "      <td>64.55</td>\n",
              "      <td>342.89</td>\n",
              "      <td>7.227422</td>\n",
              "      <td>...</td>\n",
              "      <td>NaN</td>\n",
              "      <td>138.0</td>\n",
              "      <td>166.0</td>\n",
              "      <td>110</td>\n",
              "      <td>0.07</td>\n",
              "      <td>0.00</td>\n",
              "      <td>0.05</td>\n",
              "      <td>0.21</td>\n",
              "      <td>0.88</td>\n",
              "      <td>0</td>\n",
              "    </tr>\n",
              "  </tbody>\n",
              "</table>\n",
              "<p>5 rows × 21 columns</p>\n",
              "</div>\n",
              "      <button class=\"colab-df-convert\" onclick=\"convertToInteractive('df-f847d0a7-fa9c-466a-bcce-fb6472895170')\"\n",
              "              title=\"Convert this dataframe to an interactive table.\"\n",
              "              style=\"display:none;\">\n",
              "        \n",
              "  <svg xmlns=\"http://www.w3.org/2000/svg\" height=\"24px\"viewBox=\"0 0 24 24\"\n",
              "       width=\"24px\">\n",
              "    <path d=\"M0 0h24v24H0V0z\" fill=\"none\"/>\n",
              "    <path d=\"M18.56 5.44l.94 2.06.94-2.06 2.06-.94-2.06-.94-.94-2.06-.94 2.06-2.06.94zm-11 1L8.5 8.5l.94-2.06 2.06-.94-2.06-.94L8.5 2.5l-.94 2.06-2.06.94zm10 10l.94 2.06.94-2.06 2.06-.94-2.06-.94-.94-2.06-.94 2.06-2.06.94z\"/><path d=\"M17.41 7.96l-1.37-1.37c-.4-.4-.92-.59-1.43-.59-.52 0-1.04.2-1.43.59L10.3 9.45l-7.72 7.72c-.78.78-.78 2.05 0 2.83L4 21.41c.39.39.9.59 1.41.59.51 0 1.02-.2 1.41-.59l7.78-7.78 2.81-2.81c.8-.78.8-2.07 0-2.86zM5.41 20L4 18.59l7.72-7.72 1.47 1.35L5.41 20z\"/>\n",
              "  </svg>\n",
              "      </button>\n",
              "      \n",
              "  <style>\n",
              "    .colab-df-container {\n",
              "      display:flex;\n",
              "      flex-wrap:wrap;\n",
              "      gap: 12px;\n",
              "    }\n",
              "\n",
              "    .colab-df-convert {\n",
              "      background-color: #E8F0FE;\n",
              "      border: none;\n",
              "      border-radius: 50%;\n",
              "      cursor: pointer;\n",
              "      display: none;\n",
              "      fill: #1967D2;\n",
              "      height: 32px;\n",
              "      padding: 0 0 0 0;\n",
              "      width: 32px;\n",
              "    }\n",
              "\n",
              "    .colab-df-convert:hover {\n",
              "      background-color: #E2EBFA;\n",
              "      box-shadow: 0px 1px 2px rgba(60, 64, 67, 0.3), 0px 1px 3px 1px rgba(60, 64, 67, 0.15);\n",
              "      fill: #174EA6;\n",
              "    }\n",
              "\n",
              "    [theme=dark] .colab-df-convert {\n",
              "      background-color: #3B4455;\n",
              "      fill: #D2E3FC;\n",
              "    }\n",
              "\n",
              "    [theme=dark] .colab-df-convert:hover {\n",
              "      background-color: #434B5C;\n",
              "      box-shadow: 0px 1px 3px 1px rgba(0, 0, 0, 0.15);\n",
              "      filter: drop-shadow(0px 1px 2px rgba(0, 0, 0, 0.3));\n",
              "      fill: #FFFFFF;\n",
              "    }\n",
              "  </style>\n",
              "\n",
              "      <script>\n",
              "        const buttonEl =\n",
              "          document.querySelector('#df-f847d0a7-fa9c-466a-bcce-fb6472895170 button.colab-df-convert');\n",
              "        buttonEl.style.display =\n",
              "          google.colab.kernel.accessAllowed ? 'block' : 'none';\n",
              "\n",
              "        async function convertToInteractive(key) {\n",
              "          const element = document.querySelector('#df-f847d0a7-fa9c-466a-bcce-fb6472895170');\n",
              "          const dataTable =\n",
              "            await google.colab.kernel.invokeFunction('convertToInteractive',\n",
              "                                                     [key], {});\n",
              "          if (!dataTable) return;\n",
              "\n",
              "          const docLinkHtml = 'Like what you see? Visit the ' +\n",
              "            '<a target=\"_blank\" href=https://colab.research.google.com/notebooks/data_table.ipynb>data table notebook</a>'\n",
              "            + ' to learn more about interactive tables.';\n",
              "          element.innerHTML = '';\n",
              "          dataTable['output_type'] = 'display_data';\n",
              "          await google.colab.output.renderOutput(dataTable, element);\n",
              "          const docLink = document.createElement('div');\n",
              "          docLink.innerHTML = docLinkHtml;\n",
              "          element.appendChild(docLink);\n",
              "        }\n",
              "      </script>\n",
              "    </div>\n",
              "  </div>\n",
              "  "
            ],
            "text/plain": [
              "  activity_day    workout_type  distance  time  calories  total_steps  \\\n",
              "0   2022-01-01       Freestyle      9.30    77       123         4081   \n",
              "1   2022-01-01       Freestyle      3.44    96        55         4081   \n",
              "2   2022-01-01  Indoor Cycling      6.34    85        33         4081   \n",
              "3   2022-01-01         Walking      7.91    42        82         1571   \n",
              "4   2022-01-01      Open Water      8.99    36       131         4081   \n",
              "\n",
              "   avg_speed  avg_cadence  max_cadence  avg_pace  ... min_pace avg_heart_rate  \\\n",
              "0      18.88       168.54       138.30  7.227422  ...      NaN          112.5   \n",
              "1      29.65       125.92       292.81  7.227422  ...      NaN          111.0   \n",
              "2      17.85        81.93       323.69  7.227422  ...      NaN           95.0   \n",
              "3      22.10        29.63       180.16  7.966667  ...    07:58           83.0   \n",
              "4      25.83        64.55       342.89  7.227422  ...      NaN          138.0   \n",
              "\n",
              "   max_heart_rate  min_heart_rate  vo2_max  aerobic  anaerobic  intensive  \\\n",
              "0           122.0             103     0.19     0.28       0.02       0.07   \n",
              "1           122.0             100     0.42     0.28       0.02       0.29   \n",
              "2            90.0             100     0.01     0.32       0.00       0.22   \n",
              "3            85.0              81     0.03     0.22       0.00       0.24   \n",
              "4           166.0             110     0.07     0.00       0.05       0.21   \n",
              "\n",
              "   light  aerobic_indicator  \n",
              "0   0.50                  0  \n",
              "1   0.88                  0  \n",
              "2   0.43                  1  \n",
              "3   0.65                  0  \n",
              "4   0.88                  0  \n",
              "\n",
              "[5 rows x 21 columns]"
            ]
          },
          "metadata": {},
          "execution_count": 251
        }
      ]
    },
    {
      "cell_type": "markdown",
      "source": [
        "### i"
      ],
      "metadata": {
        "id": "Y_0h3hvib_LV"
      }
    },
    {
      "cell_type": "markdown",
      "source": [
        "Finally, I will show which day of the week and workout type has the maximum 'max_cadence'"
      ],
      "metadata": {
        "id": "cD9HzHpqcAf2"
      }
    },
    {
      "cell_type": "markdown",
      "source": [
        "first the day"
      ],
      "metadata": {
        "id": "N7feSLubcNF5"
      }
    },
    {
      "cell_type": "markdown",
      "source": [
        "I will start by adding a column with the day of the week"
      ],
      "metadata": {
        "id": "g0b0nfJvcqYE"
      }
    },
    {
      "cell_type": "code",
      "source": [
        "df['weekday'] = 0\n",
        "days = ['monday','tuesday','wednesday','thursday','friday','saturday','sunday']\n",
        "for l in range(0,len(df['activity_day']),1):\n",
        "  df['weekday'][l] = days[df['activity_day'][l].weekday()]\n",
        "df['weekday']"
      ],
      "metadata": {
        "id": "J8FYuPkdcPOD",
        "outputId": "fa58ab74-cb4d-424a-e2bd-f284512a817b",
        "colab": {
          "base_uri": "https://localhost:8080/"
        }
      },
      "execution_count": 255,
      "outputs": [
        {
          "output_type": "execute_result",
          "data": {
            "text/plain": [
              "0      saturday\n",
              "1      saturday\n",
              "2      saturday\n",
              "3      saturday\n",
              "4      saturday\n",
              "         ...   \n",
              "995      monday\n",
              "996      monday\n",
              "997      monday\n",
              "998      monday\n",
              "999      monday\n",
              "Name: weekday, Length: 1000, dtype: object"
            ]
          },
          "metadata": {},
          "execution_count": 255
        }
      ]
    },
    {
      "cell_type": "markdown",
      "source": [
        "My code above might be a little confusing, but let me explain. I created a new column for day of the week and initialized all values to 0. I will be using the .weekday() function from datetime which returns a value in the range of 0-6 corresponding to monday-sunday respectively. Before my loop I created a list with the value in each index in that list corresponding to that day. IE: day[0] = monday, day[1] = tuesday ... I then set each row of the new column to be equal to the value contained in the index number that .weekday() returned, which corresponded with that day as a string"
      ],
      "metadata": {
        "id": "hkbosipCd4UA"
      }
    },
    {
      "cell_type": "markdown",
      "source": [
        "Now moving on the finding the maxes"
      ],
      "metadata": {
        "id": "IN-XyL6JfMm-"
      }
    },
    {
      "cell_type": "code",
      "source": [
        "df.groupby(by='weekday').agg(['max'])['max_cadence']"
      ],
      "metadata": {
        "id": "bKBK7AVzfO85",
        "outputId": "7ab6965a-fef7-4ea4-98de-a39a7877fb9e",
        "colab": {
          "base_uri": "https://localhost:8080/",
          "height": 300
        }
      },
      "execution_count": 262,
      "outputs": [
        {
          "output_type": "execute_result",
          "data": {
            "text/html": [
              "\n",
              "  <div id=\"df-4d420932-5057-47ea-89cf-a0e0357ac295\">\n",
              "    <div class=\"colab-df-container\">\n",
              "      <div>\n",
              "<style scoped>\n",
              "    .dataframe tbody tr th:only-of-type {\n",
              "        vertical-align: middle;\n",
              "    }\n",
              "\n",
              "    .dataframe tbody tr th {\n",
              "        vertical-align: top;\n",
              "    }\n",
              "\n",
              "    .dataframe thead th {\n",
              "        text-align: right;\n",
              "    }\n",
              "</style>\n",
              "<table border=\"1\" class=\"dataframe\">\n",
              "  <thead>\n",
              "    <tr style=\"text-align: right;\">\n",
              "      <th></th>\n",
              "      <th>max</th>\n",
              "    </tr>\n",
              "    <tr>\n",
              "      <th>weekday</th>\n",
              "      <th></th>\n",
              "    </tr>\n",
              "  </thead>\n",
              "  <tbody>\n",
              "    <tr>\n",
              "      <th>friday</th>\n",
              "      <td>347.81</td>\n",
              "    </tr>\n",
              "    <tr>\n",
              "      <th>monday</th>\n",
              "      <td>348.96</td>\n",
              "    </tr>\n",
              "    <tr>\n",
              "      <th>saturday</th>\n",
              "      <td>349.76</td>\n",
              "    </tr>\n",
              "    <tr>\n",
              "      <th>sunday</th>\n",
              "      <td>346.43</td>\n",
              "    </tr>\n",
              "    <tr>\n",
              "      <th>thursday</th>\n",
              "      <td>347.40</td>\n",
              "    </tr>\n",
              "    <tr>\n",
              "      <th>tuesday</th>\n",
              "      <td>349.39</td>\n",
              "    </tr>\n",
              "    <tr>\n",
              "      <th>wednesday</th>\n",
              "      <td>349.78</td>\n",
              "    </tr>\n",
              "  </tbody>\n",
              "</table>\n",
              "</div>\n",
              "      <button class=\"colab-df-convert\" onclick=\"convertToInteractive('df-4d420932-5057-47ea-89cf-a0e0357ac295')\"\n",
              "              title=\"Convert this dataframe to an interactive table.\"\n",
              "              style=\"display:none;\">\n",
              "        \n",
              "  <svg xmlns=\"http://www.w3.org/2000/svg\" height=\"24px\"viewBox=\"0 0 24 24\"\n",
              "       width=\"24px\">\n",
              "    <path d=\"M0 0h24v24H0V0z\" fill=\"none\"/>\n",
              "    <path d=\"M18.56 5.44l.94 2.06.94-2.06 2.06-.94-2.06-.94-.94-2.06-.94 2.06-2.06.94zm-11 1L8.5 8.5l.94-2.06 2.06-.94-2.06-.94L8.5 2.5l-.94 2.06-2.06.94zm10 10l.94 2.06.94-2.06 2.06-.94-2.06-.94-.94-2.06-.94 2.06-2.06.94z\"/><path d=\"M17.41 7.96l-1.37-1.37c-.4-.4-.92-.59-1.43-.59-.52 0-1.04.2-1.43.59L10.3 9.45l-7.72 7.72c-.78.78-.78 2.05 0 2.83L4 21.41c.39.39.9.59 1.41.59.51 0 1.02-.2 1.41-.59l7.78-7.78 2.81-2.81c.8-.78.8-2.07 0-2.86zM5.41 20L4 18.59l7.72-7.72 1.47 1.35L5.41 20z\"/>\n",
              "  </svg>\n",
              "      </button>\n",
              "      \n",
              "  <style>\n",
              "    .colab-df-container {\n",
              "      display:flex;\n",
              "      flex-wrap:wrap;\n",
              "      gap: 12px;\n",
              "    }\n",
              "\n",
              "    .colab-df-convert {\n",
              "      background-color: #E8F0FE;\n",
              "      border: none;\n",
              "      border-radius: 50%;\n",
              "      cursor: pointer;\n",
              "      display: none;\n",
              "      fill: #1967D2;\n",
              "      height: 32px;\n",
              "      padding: 0 0 0 0;\n",
              "      width: 32px;\n",
              "    }\n",
              "\n",
              "    .colab-df-convert:hover {\n",
              "      background-color: #E2EBFA;\n",
              "      box-shadow: 0px 1px 2px rgba(60, 64, 67, 0.3), 0px 1px 3px 1px rgba(60, 64, 67, 0.15);\n",
              "      fill: #174EA6;\n",
              "    }\n",
              "\n",
              "    [theme=dark] .colab-df-convert {\n",
              "      background-color: #3B4455;\n",
              "      fill: #D2E3FC;\n",
              "    }\n",
              "\n",
              "    [theme=dark] .colab-df-convert:hover {\n",
              "      background-color: #434B5C;\n",
              "      box-shadow: 0px 1px 3px 1px rgba(0, 0, 0, 0.15);\n",
              "      filter: drop-shadow(0px 1px 2px rgba(0, 0, 0, 0.3));\n",
              "      fill: #FFFFFF;\n",
              "    }\n",
              "  </style>\n",
              "\n",
              "      <script>\n",
              "        const buttonEl =\n",
              "          document.querySelector('#df-4d420932-5057-47ea-89cf-a0e0357ac295 button.colab-df-convert');\n",
              "        buttonEl.style.display =\n",
              "          google.colab.kernel.accessAllowed ? 'block' : 'none';\n",
              "\n",
              "        async function convertToInteractive(key) {\n",
              "          const element = document.querySelector('#df-4d420932-5057-47ea-89cf-a0e0357ac295');\n",
              "          const dataTable =\n",
              "            await google.colab.kernel.invokeFunction('convertToInteractive',\n",
              "                                                     [key], {});\n",
              "          if (!dataTable) return;\n",
              "\n",
              "          const docLinkHtml = 'Like what you see? Visit the ' +\n",
              "            '<a target=\"_blank\" href=https://colab.research.google.com/notebooks/data_table.ipynb>data table notebook</a>'\n",
              "            + ' to learn more about interactive tables.';\n",
              "          element.innerHTML = '';\n",
              "          dataTable['output_type'] = 'display_data';\n",
              "          await google.colab.output.renderOutput(dataTable, element);\n",
              "          const docLink = document.createElement('div');\n",
              "          docLink.innerHTML = docLinkHtml;\n",
              "          element.appendChild(docLink);\n",
              "        }\n",
              "      </script>\n",
              "    </div>\n",
              "  </div>\n",
              "  "
            ],
            "text/plain": [
              "              max\n",
              "weekday          \n",
              "friday     347.81\n",
              "monday     348.96\n",
              "saturday   349.76\n",
              "sunday     346.43\n",
              "thursday   347.40\n",
              "tuesday    349.39\n",
              "wednesday  349.78"
            ]
          },
          "metadata": {},
          "execution_count": 262
        }
      ]
    },
    {
      "cell_type": "markdown",
      "source": [
        "It looks like saturday had the max 'max_cadence'"
      ],
      "metadata": {
        "id": "2yHFkJ5nfi3k"
      }
    },
    {
      "cell_type": "markdown",
      "source": [
        "Now for grouped by workout type"
      ],
      "metadata": {
        "id": "YZVOLBP7fxPJ"
      }
    },
    {
      "cell_type": "code",
      "source": [
        "df.groupby(by='workout_type').agg(['max'])['max_cadence']"
      ],
      "metadata": {
        "id": "qTcCtbMOf06-",
        "outputId": "2d8132ba-e8e2-426e-c433-33cd12e8bd62",
        "colab": {
          "base_uri": "https://localhost:8080/",
          "height": 425
        }
      },
      "execution_count": 259,
      "outputs": [
        {
          "output_type": "execute_result",
          "data": {
            "text/html": [
              "\n",
              "  <div id=\"df-4677f1e9-7ecd-40bf-8835-6b73aea442ef\">\n",
              "    <div class=\"colab-df-container\">\n",
              "      <div>\n",
              "<style scoped>\n",
              "    .dataframe tbody tr th:only-of-type {\n",
              "        vertical-align: middle;\n",
              "    }\n",
              "\n",
              "    .dataframe tbody tr th {\n",
              "        vertical-align: top;\n",
              "    }\n",
              "\n",
              "    .dataframe thead th {\n",
              "        text-align: right;\n",
              "    }\n",
              "</style>\n",
              "<table border=\"1\" class=\"dataframe\">\n",
              "  <thead>\n",
              "    <tr style=\"text-align: right;\">\n",
              "      <th></th>\n",
              "      <th>max</th>\n",
              "    </tr>\n",
              "    <tr>\n",
              "      <th>workout_type</th>\n",
              "      <th></th>\n",
              "    </tr>\n",
              "  </thead>\n",
              "  <tbody>\n",
              "    <tr>\n",
              "      <th>Cricket</th>\n",
              "      <td>331.36</td>\n",
              "    </tr>\n",
              "    <tr>\n",
              "      <th>Freestyle</th>\n",
              "      <td>347.81</td>\n",
              "    </tr>\n",
              "    <tr>\n",
              "      <th>Indoor Cycling</th>\n",
              "      <td>342.94</td>\n",
              "    </tr>\n",
              "    <tr>\n",
              "      <th>Open Water</th>\n",
              "      <td>349.76</td>\n",
              "    </tr>\n",
              "    <tr>\n",
              "      <th>Outdoor Cycling</th>\n",
              "      <td>346.40</td>\n",
              "    </tr>\n",
              "    <tr>\n",
              "      <th>Outdoor Running</th>\n",
              "      <td>348.80</td>\n",
              "    </tr>\n",
              "    <tr>\n",
              "      <th>Pool Swimming</th>\n",
              "      <td>349.78</td>\n",
              "    </tr>\n",
              "    <tr>\n",
              "      <th>Trail Run</th>\n",
              "      <td>341.55</td>\n",
              "    </tr>\n",
              "    <tr>\n",
              "      <th>Treadmill</th>\n",
              "      <td>349.66</td>\n",
              "    </tr>\n",
              "    <tr>\n",
              "      <th>Trekking</th>\n",
              "      <td>349.31</td>\n",
              "    </tr>\n",
              "    <tr>\n",
              "      <th>Walking</th>\n",
              "      <td>348.96</td>\n",
              "    </tr>\n",
              "  </tbody>\n",
              "</table>\n",
              "</div>\n",
              "      <button class=\"colab-df-convert\" onclick=\"convertToInteractive('df-4677f1e9-7ecd-40bf-8835-6b73aea442ef')\"\n",
              "              title=\"Convert this dataframe to an interactive table.\"\n",
              "              style=\"display:none;\">\n",
              "        \n",
              "  <svg xmlns=\"http://www.w3.org/2000/svg\" height=\"24px\"viewBox=\"0 0 24 24\"\n",
              "       width=\"24px\">\n",
              "    <path d=\"M0 0h24v24H0V0z\" fill=\"none\"/>\n",
              "    <path d=\"M18.56 5.44l.94 2.06.94-2.06 2.06-.94-2.06-.94-.94-2.06-.94 2.06-2.06.94zm-11 1L8.5 8.5l.94-2.06 2.06-.94-2.06-.94L8.5 2.5l-.94 2.06-2.06.94zm10 10l.94 2.06.94-2.06 2.06-.94-2.06-.94-.94-2.06-.94 2.06-2.06.94z\"/><path d=\"M17.41 7.96l-1.37-1.37c-.4-.4-.92-.59-1.43-.59-.52 0-1.04.2-1.43.59L10.3 9.45l-7.72 7.72c-.78.78-.78 2.05 0 2.83L4 21.41c.39.39.9.59 1.41.59.51 0 1.02-.2 1.41-.59l7.78-7.78 2.81-2.81c.8-.78.8-2.07 0-2.86zM5.41 20L4 18.59l7.72-7.72 1.47 1.35L5.41 20z\"/>\n",
              "  </svg>\n",
              "      </button>\n",
              "      \n",
              "  <style>\n",
              "    .colab-df-container {\n",
              "      display:flex;\n",
              "      flex-wrap:wrap;\n",
              "      gap: 12px;\n",
              "    }\n",
              "\n",
              "    .colab-df-convert {\n",
              "      background-color: #E8F0FE;\n",
              "      border: none;\n",
              "      border-radius: 50%;\n",
              "      cursor: pointer;\n",
              "      display: none;\n",
              "      fill: #1967D2;\n",
              "      height: 32px;\n",
              "      padding: 0 0 0 0;\n",
              "      width: 32px;\n",
              "    }\n",
              "\n",
              "    .colab-df-convert:hover {\n",
              "      background-color: #E2EBFA;\n",
              "      box-shadow: 0px 1px 2px rgba(60, 64, 67, 0.3), 0px 1px 3px 1px rgba(60, 64, 67, 0.15);\n",
              "      fill: #174EA6;\n",
              "    }\n",
              "\n",
              "    [theme=dark] .colab-df-convert {\n",
              "      background-color: #3B4455;\n",
              "      fill: #D2E3FC;\n",
              "    }\n",
              "\n",
              "    [theme=dark] .colab-df-convert:hover {\n",
              "      background-color: #434B5C;\n",
              "      box-shadow: 0px 1px 3px 1px rgba(0, 0, 0, 0.15);\n",
              "      filter: drop-shadow(0px 1px 2px rgba(0, 0, 0, 0.3));\n",
              "      fill: #FFFFFF;\n",
              "    }\n",
              "  </style>\n",
              "\n",
              "      <script>\n",
              "        const buttonEl =\n",
              "          document.querySelector('#df-4677f1e9-7ecd-40bf-8835-6b73aea442ef button.colab-df-convert');\n",
              "        buttonEl.style.display =\n",
              "          google.colab.kernel.accessAllowed ? 'block' : 'none';\n",
              "\n",
              "        async function convertToInteractive(key) {\n",
              "          const element = document.querySelector('#df-4677f1e9-7ecd-40bf-8835-6b73aea442ef');\n",
              "          const dataTable =\n",
              "            await google.colab.kernel.invokeFunction('convertToInteractive',\n",
              "                                                     [key], {});\n",
              "          if (!dataTable) return;\n",
              "\n",
              "          const docLinkHtml = 'Like what you see? Visit the ' +\n",
              "            '<a target=\"_blank\" href=https://colab.research.google.com/notebooks/data_table.ipynb>data table notebook</a>'\n",
              "            + ' to learn more about interactive tables.';\n",
              "          element.innerHTML = '';\n",
              "          dataTable['output_type'] = 'display_data';\n",
              "          await google.colab.output.renderOutput(dataTable, element);\n",
              "          const docLink = document.createElement('div');\n",
              "          docLink.innerHTML = docLinkHtml;\n",
              "          element.appendChild(docLink);\n",
              "        }\n",
              "      </script>\n",
              "    </div>\n",
              "  </div>\n",
              "  "
            ],
            "text/plain": [
              "                    max\n",
              "workout_type           \n",
              "Cricket          331.36\n",
              "Freestyle        347.81\n",
              "Indoor Cycling   342.94\n",
              "Open Water       349.76\n",
              "Outdoor Cycling  346.40\n",
              "Outdoor Running  348.80\n",
              "Pool Swimming    349.78\n",
              "Trail Run        341.55\n",
              "Treadmill        349.66\n",
              "Trekking         349.31\n",
              "Walking          348.96"
            ]
          },
          "metadata": {},
          "execution_count": 259
        }
      ]
    },
    {
      "cell_type": "markdown",
      "source": [
        "And the max here was pool swimming"
      ],
      "metadata": {
        "id": "rYCZtAtfgyq2"
      }
    },
    {
      "cell_type": "markdown",
      "source": [
        "Now I will do which pair of the two had the max"
      ],
      "metadata": {
        "id": "Sm1LRKcCg3rG"
      }
    },
    {
      "cell_type": "code",
      "source": [
        "df.groupby(by=['weekday','workout_type']).agg(['max'])['max_cadence']"
      ],
      "metadata": {
        "id": "vuIxU8JMg6px",
        "outputId": "781d24f7-6eac-4236-8bb5-1bebc5e3da2a",
        "colab": {
          "base_uri": "https://localhost:8080/",
          "height": 455
        }
      },
      "execution_count": 264,
      "outputs": [
        {
          "output_type": "execute_result",
          "data": {
            "text/html": [
              "\n",
              "  <div id=\"df-921fc396-3740-4818-9627-1af35664786e\">\n",
              "    <div class=\"colab-df-container\">\n",
              "      <div>\n",
              "<style scoped>\n",
              "    .dataframe tbody tr th:only-of-type {\n",
              "        vertical-align: middle;\n",
              "    }\n",
              "\n",
              "    .dataframe tbody tr th {\n",
              "        vertical-align: top;\n",
              "    }\n",
              "\n",
              "    .dataframe thead th {\n",
              "        text-align: right;\n",
              "    }\n",
              "</style>\n",
              "<table border=\"1\" class=\"dataframe\">\n",
              "  <thead>\n",
              "    <tr style=\"text-align: right;\">\n",
              "      <th></th>\n",
              "      <th></th>\n",
              "      <th>max</th>\n",
              "    </tr>\n",
              "    <tr>\n",
              "      <th>weekday</th>\n",
              "      <th>workout_type</th>\n",
              "      <th></th>\n",
              "    </tr>\n",
              "  </thead>\n",
              "  <tbody>\n",
              "    <tr>\n",
              "      <th rowspan=\"5\" valign=\"top\">friday</th>\n",
              "      <th>Cricket</th>\n",
              "      <td>217.25</td>\n",
              "    </tr>\n",
              "    <tr>\n",
              "      <th>Freestyle</th>\n",
              "      <td>347.81</td>\n",
              "    </tr>\n",
              "    <tr>\n",
              "      <th>Indoor Cycling</th>\n",
              "      <td>290.15</td>\n",
              "    </tr>\n",
              "    <tr>\n",
              "      <th>Open Water</th>\n",
              "      <td>319.61</td>\n",
              "    </tr>\n",
              "    <tr>\n",
              "      <th>Outdoor Cycling</th>\n",
              "      <td>282.35</td>\n",
              "    </tr>\n",
              "    <tr>\n",
              "      <th>...</th>\n",
              "      <th>...</th>\n",
              "      <td>...</td>\n",
              "    </tr>\n",
              "    <tr>\n",
              "      <th rowspan=\"5\" valign=\"top\">wednesday</th>\n",
              "      <th>Pool Swimming</th>\n",
              "      <td>349.78</td>\n",
              "    </tr>\n",
              "    <tr>\n",
              "      <th>Trail Run</th>\n",
              "      <td>286.10</td>\n",
              "    </tr>\n",
              "    <tr>\n",
              "      <th>Treadmill</th>\n",
              "      <td>349.66</td>\n",
              "    </tr>\n",
              "    <tr>\n",
              "      <th>Trekking</th>\n",
              "      <td>339.65</td>\n",
              "    </tr>\n",
              "    <tr>\n",
              "      <th>Walking</th>\n",
              "      <td>337.74</td>\n",
              "    </tr>\n",
              "  </tbody>\n",
              "</table>\n",
              "<p>77 rows × 1 columns</p>\n",
              "</div>\n",
              "      <button class=\"colab-df-convert\" onclick=\"convertToInteractive('df-921fc396-3740-4818-9627-1af35664786e')\"\n",
              "              title=\"Convert this dataframe to an interactive table.\"\n",
              "              style=\"display:none;\">\n",
              "        \n",
              "  <svg xmlns=\"http://www.w3.org/2000/svg\" height=\"24px\"viewBox=\"0 0 24 24\"\n",
              "       width=\"24px\">\n",
              "    <path d=\"M0 0h24v24H0V0z\" fill=\"none\"/>\n",
              "    <path d=\"M18.56 5.44l.94 2.06.94-2.06 2.06-.94-2.06-.94-.94-2.06-.94 2.06-2.06.94zm-11 1L8.5 8.5l.94-2.06 2.06-.94-2.06-.94L8.5 2.5l-.94 2.06-2.06.94zm10 10l.94 2.06.94-2.06 2.06-.94-2.06-.94-.94-2.06-.94 2.06-2.06.94z\"/><path d=\"M17.41 7.96l-1.37-1.37c-.4-.4-.92-.59-1.43-.59-.52 0-1.04.2-1.43.59L10.3 9.45l-7.72 7.72c-.78.78-.78 2.05 0 2.83L4 21.41c.39.39.9.59 1.41.59.51 0 1.02-.2 1.41-.59l7.78-7.78 2.81-2.81c.8-.78.8-2.07 0-2.86zM5.41 20L4 18.59l7.72-7.72 1.47 1.35L5.41 20z\"/>\n",
              "  </svg>\n",
              "      </button>\n",
              "      \n",
              "  <style>\n",
              "    .colab-df-container {\n",
              "      display:flex;\n",
              "      flex-wrap:wrap;\n",
              "      gap: 12px;\n",
              "    }\n",
              "\n",
              "    .colab-df-convert {\n",
              "      background-color: #E8F0FE;\n",
              "      border: none;\n",
              "      border-radius: 50%;\n",
              "      cursor: pointer;\n",
              "      display: none;\n",
              "      fill: #1967D2;\n",
              "      height: 32px;\n",
              "      padding: 0 0 0 0;\n",
              "      width: 32px;\n",
              "    }\n",
              "\n",
              "    .colab-df-convert:hover {\n",
              "      background-color: #E2EBFA;\n",
              "      box-shadow: 0px 1px 2px rgba(60, 64, 67, 0.3), 0px 1px 3px 1px rgba(60, 64, 67, 0.15);\n",
              "      fill: #174EA6;\n",
              "    }\n",
              "\n",
              "    [theme=dark] .colab-df-convert {\n",
              "      background-color: #3B4455;\n",
              "      fill: #D2E3FC;\n",
              "    }\n",
              "\n",
              "    [theme=dark] .colab-df-convert:hover {\n",
              "      background-color: #434B5C;\n",
              "      box-shadow: 0px 1px 3px 1px rgba(0, 0, 0, 0.15);\n",
              "      filter: drop-shadow(0px 1px 2px rgba(0, 0, 0, 0.3));\n",
              "      fill: #FFFFFF;\n",
              "    }\n",
              "  </style>\n",
              "\n",
              "      <script>\n",
              "        const buttonEl =\n",
              "          document.querySelector('#df-921fc396-3740-4818-9627-1af35664786e button.colab-df-convert');\n",
              "        buttonEl.style.display =\n",
              "          google.colab.kernel.accessAllowed ? 'block' : 'none';\n",
              "\n",
              "        async function convertToInteractive(key) {\n",
              "          const element = document.querySelector('#df-921fc396-3740-4818-9627-1af35664786e');\n",
              "          const dataTable =\n",
              "            await google.colab.kernel.invokeFunction('convertToInteractive',\n",
              "                                                     [key], {});\n",
              "          if (!dataTable) return;\n",
              "\n",
              "          const docLinkHtml = 'Like what you see? Visit the ' +\n",
              "            '<a target=\"_blank\" href=https://colab.research.google.com/notebooks/data_table.ipynb>data table notebook</a>'\n",
              "            + ' to learn more about interactive tables.';\n",
              "          element.innerHTML = '';\n",
              "          dataTable['output_type'] = 'display_data';\n",
              "          await google.colab.output.renderOutput(dataTable, element);\n",
              "          const docLink = document.createElement('div');\n",
              "          docLink.innerHTML = docLinkHtml;\n",
              "          element.appendChild(docLink);\n",
              "        }\n",
              "      </script>\n",
              "    </div>\n",
              "  </div>\n",
              "  "
            ],
            "text/plain": [
              "                              max\n",
              "weekday   workout_type           \n",
              "friday    Cricket          217.25\n",
              "          Freestyle        347.81\n",
              "          Indoor Cycling   290.15\n",
              "          Open Water       319.61\n",
              "          Outdoor Cycling  282.35\n",
              "...                           ...\n",
              "wednesday Pool Swimming    349.78\n",
              "          Trail Run        286.10\n",
              "          Treadmill        349.66\n",
              "          Trekking         339.65\n",
              "          Walking          337.74\n",
              "\n",
              "[77 rows x 1 columns]"
            ]
          },
          "metadata": {},
          "execution_count": 264
        }
      ]
    },
    {
      "cell_type": "code",
      "source": [
        "WorkoutDay = df.groupby(by=['weekday','workout_type']).agg(['max'])['max_cadence']\n",
        "WorkoutDay = WorkoutDay[WorkoutDay == WorkoutDay.max()].dropna()\n",
        "WorkoutDay"
      ],
      "metadata": {
        "id": "PxIrn9TdhYQY",
        "outputId": "724b02aa-24bc-43e8-b33f-f78835602d0a",
        "colab": {
          "base_uri": "https://localhost:8080/",
          "height": 112
        }
      },
      "execution_count": 281,
      "outputs": [
        {
          "output_type": "execute_result",
          "data": {
            "text/html": [
              "\n",
              "  <div id=\"df-72a4dec5-761c-46c3-8ccd-e3715ad3f711\">\n",
              "    <div class=\"colab-df-container\">\n",
              "      <div>\n",
              "<style scoped>\n",
              "    .dataframe tbody tr th:only-of-type {\n",
              "        vertical-align: middle;\n",
              "    }\n",
              "\n",
              "    .dataframe tbody tr th {\n",
              "        vertical-align: top;\n",
              "    }\n",
              "\n",
              "    .dataframe thead th {\n",
              "        text-align: right;\n",
              "    }\n",
              "</style>\n",
              "<table border=\"1\" class=\"dataframe\">\n",
              "  <thead>\n",
              "    <tr style=\"text-align: right;\">\n",
              "      <th></th>\n",
              "      <th></th>\n",
              "      <th>max</th>\n",
              "    </tr>\n",
              "    <tr>\n",
              "      <th>weekday</th>\n",
              "      <th>workout_type</th>\n",
              "      <th></th>\n",
              "    </tr>\n",
              "  </thead>\n",
              "  <tbody>\n",
              "    <tr>\n",
              "      <th>wednesday</th>\n",
              "      <th>Pool Swimming</th>\n",
              "      <td>349.78</td>\n",
              "    </tr>\n",
              "  </tbody>\n",
              "</table>\n",
              "</div>\n",
              "      <button class=\"colab-df-convert\" onclick=\"convertToInteractive('df-72a4dec5-761c-46c3-8ccd-e3715ad3f711')\"\n",
              "              title=\"Convert this dataframe to an interactive table.\"\n",
              "              style=\"display:none;\">\n",
              "        \n",
              "  <svg xmlns=\"http://www.w3.org/2000/svg\" height=\"24px\"viewBox=\"0 0 24 24\"\n",
              "       width=\"24px\">\n",
              "    <path d=\"M0 0h24v24H0V0z\" fill=\"none\"/>\n",
              "    <path d=\"M18.56 5.44l.94 2.06.94-2.06 2.06-.94-2.06-.94-.94-2.06-.94 2.06-2.06.94zm-11 1L8.5 8.5l.94-2.06 2.06-.94-2.06-.94L8.5 2.5l-.94 2.06-2.06.94zm10 10l.94 2.06.94-2.06 2.06-.94-2.06-.94-.94-2.06-.94 2.06-2.06.94z\"/><path d=\"M17.41 7.96l-1.37-1.37c-.4-.4-.92-.59-1.43-.59-.52 0-1.04.2-1.43.59L10.3 9.45l-7.72 7.72c-.78.78-.78 2.05 0 2.83L4 21.41c.39.39.9.59 1.41.59.51 0 1.02-.2 1.41-.59l7.78-7.78 2.81-2.81c.8-.78.8-2.07 0-2.86zM5.41 20L4 18.59l7.72-7.72 1.47 1.35L5.41 20z\"/>\n",
              "  </svg>\n",
              "      </button>\n",
              "      \n",
              "  <style>\n",
              "    .colab-df-container {\n",
              "      display:flex;\n",
              "      flex-wrap:wrap;\n",
              "      gap: 12px;\n",
              "    }\n",
              "\n",
              "    .colab-df-convert {\n",
              "      background-color: #E8F0FE;\n",
              "      border: none;\n",
              "      border-radius: 50%;\n",
              "      cursor: pointer;\n",
              "      display: none;\n",
              "      fill: #1967D2;\n",
              "      height: 32px;\n",
              "      padding: 0 0 0 0;\n",
              "      width: 32px;\n",
              "    }\n",
              "\n",
              "    .colab-df-convert:hover {\n",
              "      background-color: #E2EBFA;\n",
              "      box-shadow: 0px 1px 2px rgba(60, 64, 67, 0.3), 0px 1px 3px 1px rgba(60, 64, 67, 0.15);\n",
              "      fill: #174EA6;\n",
              "    }\n",
              "\n",
              "    [theme=dark] .colab-df-convert {\n",
              "      background-color: #3B4455;\n",
              "      fill: #D2E3FC;\n",
              "    }\n",
              "\n",
              "    [theme=dark] .colab-df-convert:hover {\n",
              "      background-color: #434B5C;\n",
              "      box-shadow: 0px 1px 3px 1px rgba(0, 0, 0, 0.15);\n",
              "      filter: drop-shadow(0px 1px 2px rgba(0, 0, 0, 0.3));\n",
              "      fill: #FFFFFF;\n",
              "    }\n",
              "  </style>\n",
              "\n",
              "      <script>\n",
              "        const buttonEl =\n",
              "          document.querySelector('#df-72a4dec5-761c-46c3-8ccd-e3715ad3f711 button.colab-df-convert');\n",
              "        buttonEl.style.display =\n",
              "          google.colab.kernel.accessAllowed ? 'block' : 'none';\n",
              "\n",
              "        async function convertToInteractive(key) {\n",
              "          const element = document.querySelector('#df-72a4dec5-761c-46c3-8ccd-e3715ad3f711');\n",
              "          const dataTable =\n",
              "            await google.colab.kernel.invokeFunction('convertToInteractive',\n",
              "                                                     [key], {});\n",
              "          if (!dataTable) return;\n",
              "\n",
              "          const docLinkHtml = 'Like what you see? Visit the ' +\n",
              "            '<a target=\"_blank\" href=https://colab.research.google.com/notebooks/data_table.ipynb>data table notebook</a>'\n",
              "            + ' to learn more about interactive tables.';\n",
              "          element.innerHTML = '';\n",
              "          dataTable['output_type'] = 'display_data';\n",
              "          await google.colab.output.renderOutput(dataTable, element);\n",
              "          const docLink = document.createElement('div');\n",
              "          docLink.innerHTML = docLinkHtml;\n",
              "          element.appendChild(docLink);\n",
              "        }\n",
              "      </script>\n",
              "    </div>\n",
              "  </div>\n",
              "  "
            ],
            "text/plain": [
              "                            max\n",
              "weekday   workout_type         \n",
              "wednesday Pool Swimming  349.78"
            ]
          },
          "metadata": {},
          "execution_count": 281
        }
      ]
    },
    {
      "cell_type": "markdown",
      "source": [
        "wednesday pool swimming had the max 'max_cadence'"
      ],
      "metadata": {
        "id": "PdSAdZQgmANn"
      }
    },
    {
      "cell_type": "markdown",
      "source": [
        "## 2"
      ],
      "metadata": {
        "id": "pF0wRFwAmXd5"
      }
    },
    {
      "cell_type": "markdown",
      "source": [
        "### a"
      ],
      "metadata": {
        "id": "Lz5IoXN9mY4t"
      }
    },
    {
      "cell_type": "markdown",
      "source": [
        "2.5 hours"
      ],
      "metadata": {
        "id": "FFqZv2QEmamU"
      }
    },
    {
      "cell_type": "markdown",
      "source": [
        "### b"
      ],
      "metadata": {
        "id": "VbWsrRxemeXx"
      }
    },
    {
      "cell_type": "markdown",
      "source": [
        "Hardest was regex. Easiest was types"
      ],
      "metadata": {
        "id": "BgN5q2Cqmfrt"
      }
    },
    {
      "cell_type": "markdown",
      "source": [
        "### c"
      ],
      "metadata": {
        "id": "uxKVD4gkmkYP"
      }
    },
    {
      "cell_type": "markdown",
      "source": [
        "It seems like regex could have it's own whole 8 week course but I am very glad we didn't do that."
      ],
      "metadata": {
        "id": "gRqTrwgrmlPg"
      }
    },
    {
      "cell_type": "markdown",
      "source": [
        "Sources:"
      ],
      "metadata": {
        "id": "Kxj_AXr7-Osf"
      }
    },
    {
      "cell_type": "markdown",
      "source": [
        "https://www.adamsmith.haus/python/answers/how-to-use-regular-expressions-to-remove-text-within-parentheses-in-python#:~:text=Use%20re.,to%20remove%20text%20within%20parentheses&text=sub"
      ],
      "metadata": {
        "id": "Sn8eIBYS-RLw"
      }
    },
    {
      "cell_type": "markdown",
      "source": [
        "https://kodify.net/python/math/truncate-integers/"
      ],
      "metadata": {
        "id": "PtOM-2HDFHmk"
      }
    },
    {
      "cell_type": "markdown",
      "source": [
        "https://stackoverflow.com/questions/48447123/convert-time-hhmmss-to-minutes-in-python"
      ],
      "metadata": {
        "id": "w2dgYV03GtOn"
      }
    },
    {
      "cell_type": "markdown",
      "source": [
        "https://stackoverflow.com/questions/50554107/typeerror-unrecognized-value-type-class-str"
      ],
      "metadata": {
        "id": "Cgu_lxBHKmDg"
      }
    },
    {
      "cell_type": "markdown",
      "source": [
        "https://stackoverflow.com/questions/20625582/how-to-deal-with-settingwithcopywarning-in-pandas"
      ],
      "metadata": {
        "id": "8djN3L8Ja8Qp"
      }
    },
    {
      "cell_type": "markdown",
      "source": [
        "https://stackoverflow.com/questions/9847213/how-do-i-get-the-day-of-week-given-a-date"
      ],
      "metadata": {
        "id": "SWSyKBp9fTlc"
      }
    },
    {
      "cell_type": "markdown",
      "source": [
        "https://github.com/BrendenLatham/Data_Viz"
      ],
      "metadata": {
        "id": "bYRk9E46m3A_"
      }
    }
  ]
}