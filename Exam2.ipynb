{
  "nbformat": 4,
  "nbformat_minor": 0,
  "metadata": {
    "colab": {
      "name": "Untitled10.ipynb",
      "provenance": [],
      "authorship_tag": "ABX9TyNW5FQZHBflDrZ6u2GkV512",
      "include_colab_link": true
    },
    "kernelspec": {
      "name": "python3",
      "display_name": "Python 3"
    },
    "language_info": {
      "name": "python"
    }
  },
  "cells": [
    {
      "cell_type": "markdown",
      "metadata": {
        "id": "view-in-github",
        "colab_type": "text"
      },
      "source": [
        "<a href=\"https://colab.research.google.com/github/BrendenLatham/Data_Viz/blob/main/Exam2.ipynb\" target=\"_parent\"><img src=\"https://colab.research.google.com/assets/colab-badge.svg\" alt=\"Open In Colab\"/></a>"
      ]
    },
    {
      "cell_type": "markdown",
      "source": [
        "#Exam 2"
      ],
      "metadata": {
        "id": "YBJgTweT4okx"
      }
    },
    {
      "cell_type": "markdown",
      "source": [
        "# Brenden Latham 245775"
      ],
      "metadata": {
        "id": "ltogMrls4xqF"
      }
    },
    {
      "cell_type": "markdown",
      "source": [
        "# CPSMA 4313"
      ],
      "metadata": {
        "id": "rvgiWs0241gV"
      }
    },
    {
      "cell_type": "code",
      "source": [
        "import pandas as pd\n",
        "import re\n",
        "import statistics as stat\n",
        "import math"
      ],
      "metadata": {
        "id": "JWtO_30r5F1F"
      },
      "execution_count": 290,
      "outputs": []
    },
    {
      "cell_type": "markdown",
      "source": [
        "## 1"
      ],
      "metadata": {
        "id": "OKbKuuHx5CCZ"
      }
    },
    {
      "cell_type": "markdown",
      "source": [
        "### a"
      ],
      "metadata": {
        "id": "DQ-xhPS05OnJ"
      }
    },
    {
      "cell_type": "markdown",
      "source": [
        "I will first import the dataframe"
      ],
      "metadata": {
        "id": "KkGgWAA15PsE"
      }
    },
    {
      "cell_type": "code",
      "source": [
        "df = pd.read_csv('https://raw.githubusercontent.com/nurfnick/Data_Viz/main/Activity_Dataset_V1.csv')\n",
        "df.head()"
      ],
      "metadata": {
        "colab": {
          "base_uri": "https://localhost:8080/",
          "height": 316
        },
        "id": "YiIZHMRv5SwB",
        "outputId": "ba6d7073-78b7-4123-8cd9-f2a85a130b79"
      },
      "execution_count": 291,
      "outputs": [
        {
          "output_type": "execute_result",
          "data": {
            "text/html": [
              "\n",
              "  <div id=\"df-289a9c94-b769-4b55-b12e-a97000784d5a\">\n",
              "    <div class=\"colab-df-container\">\n",
              "      <div>\n",
              "<style scoped>\n",
              "    .dataframe tbody tr th:only-of-type {\n",
              "        vertical-align: middle;\n",
              "    }\n",
              "\n",
              "    .dataframe tbody tr th {\n",
              "        vertical-align: top;\n",
              "    }\n",
              "\n",
              "    .dataframe thead th {\n",
              "        text-align: right;\n",
              "    }\n",
              "</style>\n",
              "<table border=\"1\" class=\"dataframe\">\n",
              "  <thead>\n",
              "    <tr style=\"text-align: right;\">\n",
              "      <th></th>\n",
              "      <th>Unnamed: 0</th>\n",
              "      <th>activity_day</th>\n",
              "      <th>workout_type</th>\n",
              "      <th>distance</th>\n",
              "      <th>time</th>\n",
              "      <th>calories</th>\n",
              "      <th>total_steps</th>\n",
              "      <th>avg_speed</th>\n",
              "      <th>avg_cadence</th>\n",
              "      <th>max_cadence</th>\n",
              "      <th>...</th>\n",
              "      <th>max_pace</th>\n",
              "      <th>min_pace</th>\n",
              "      <th>avg_heart_rate</th>\n",
              "      <th>max_heart_rate</th>\n",
              "      <th>min_heart_rate</th>\n",
              "      <th>vo2_max(%)</th>\n",
              "      <th>aerobic(%)</th>\n",
              "      <th>anaerobic(%)</th>\n",
              "      <th>intensive(%)</th>\n",
              "      <th>light(%)</th>\n",
              "    </tr>\n",
              "  </thead>\n",
              "  <tbody>\n",
              "    <tr>\n",
              "      <th>0</th>\n",
              "      <td>0</td>\n",
              "      <td>2022-01-01</td>\n",
              "      <td>Freestyle</td>\n",
              "      <td>9.30</td>\n",
              "      <td>77</td>\n",
              "      <td>123</td>\n",
              "      <td>NaN</td>\n",
              "      <td>18.88</td>\n",
              "      <td>168.54</td>\n",
              "      <td>138.30</td>\n",
              "      <td>...</td>\n",
              "      <td>NaN</td>\n",
              "      <td>NaN</td>\n",
              "      <td>112.5</td>\n",
              "      <td>122.0</td>\n",
              "      <td>103</td>\n",
              "      <td>19</td>\n",
              "      <td>28</td>\n",
              "      <td>2</td>\n",
              "      <td>7</td>\n",
              "      <td>50</td>\n",
              "    </tr>\n",
              "    <tr>\n",
              "      <th>1</th>\n",
              "      <td>1</td>\n",
              "      <td>2022-01-01</td>\n",
              "      <td>Freestyle</td>\n",
              "      <td>3.44</td>\n",
              "      <td>96</td>\n",
              "      <td>55</td>\n",
              "      <td>NaN</td>\n",
              "      <td>29.65</td>\n",
              "      <td>125.92</td>\n",
              "      <td>292.81</td>\n",
              "      <td>...</td>\n",
              "      <td>NaN</td>\n",
              "      <td>NaN</td>\n",
              "      <td>111.0</td>\n",
              "      <td>122.0</td>\n",
              "      <td>100</td>\n",
              "      <td>42</td>\n",
              "      <td>28</td>\n",
              "      <td>2</td>\n",
              "      <td>29</td>\n",
              "      <td>88</td>\n",
              "    </tr>\n",
              "    <tr>\n",
              "      <th>2</th>\n",
              "      <td>2</td>\n",
              "      <td>2022-01-01</td>\n",
              "      <td>Indoor Cycling</td>\n",
              "      <td>6.34</td>\n",
              "      <td>85</td>\n",
              "      <td>33</td>\n",
              "      <td>NaN</td>\n",
              "      <td>17.85</td>\n",
              "      <td>81.93</td>\n",
              "      <td>323.69</td>\n",
              "      <td>...</td>\n",
              "      <td>NaN</td>\n",
              "      <td>NaN</td>\n",
              "      <td>95.0</td>\n",
              "      <td>90.0</td>\n",
              "      <td>100</td>\n",
              "      <td>1</td>\n",
              "      <td>32</td>\n",
              "      <td>0</td>\n",
              "      <td>22</td>\n",
              "      <td>43</td>\n",
              "    </tr>\n",
              "    <tr>\n",
              "      <th>3</th>\n",
              "      <td>3</td>\n",
              "      <td>2022-01-01</td>\n",
              "      <td>Walking</td>\n",
              "      <td>7.91</td>\n",
              "      <td>42</td>\n",
              "      <td>82</td>\n",
              "      <td>1571.0</td>\n",
              "      <td>22.10</td>\n",
              "      <td>29.63</td>\n",
              "      <td>180.16</td>\n",
              "      <td>...</td>\n",
              "      <td>28:58</td>\n",
              "      <td>07:58</td>\n",
              "      <td>83.0</td>\n",
              "      <td>85.0</td>\n",
              "      <td>81</td>\n",
              "      <td>3</td>\n",
              "      <td>22</td>\n",
              "      <td>0</td>\n",
              "      <td>24</td>\n",
              "      <td>65</td>\n",
              "    </tr>\n",
              "    <tr>\n",
              "      <th>4</th>\n",
              "      <td>4</td>\n",
              "      <td>2022-01-01</td>\n",
              "      <td>Open Water</td>\n",
              "      <td>8.99</td>\n",
              "      <td>36</td>\n",
              "      <td>131</td>\n",
              "      <td>NaN</td>\n",
              "      <td>25.83</td>\n",
              "      <td>64.55</td>\n",
              "      <td>342.89</td>\n",
              "      <td>...</td>\n",
              "      <td>NaN</td>\n",
              "      <td>NaN</td>\n",
              "      <td>138.0</td>\n",
              "      <td>166.0</td>\n",
              "      <td>110</td>\n",
              "      <td>7</td>\n",
              "      <td>0</td>\n",
              "      <td>5</td>\n",
              "      <td>21</td>\n",
              "      <td>88</td>\n",
              "    </tr>\n",
              "  </tbody>\n",
              "</table>\n",
              "<p>5 rows × 21 columns</p>\n",
              "</div>\n",
              "      <button class=\"colab-df-convert\" onclick=\"convertToInteractive('df-289a9c94-b769-4b55-b12e-a97000784d5a')\"\n",
              "              title=\"Convert this dataframe to an interactive table.\"\n",
              "              style=\"display:none;\">\n",
              "        \n",
              "  <svg xmlns=\"http://www.w3.org/2000/svg\" height=\"24px\"viewBox=\"0 0 24 24\"\n",
              "       width=\"24px\">\n",
              "    <path d=\"M0 0h24v24H0V0z\" fill=\"none\"/>\n",
              "    <path d=\"M18.56 5.44l.94 2.06.94-2.06 2.06-.94-2.06-.94-.94-2.06-.94 2.06-2.06.94zm-11 1L8.5 8.5l.94-2.06 2.06-.94-2.06-.94L8.5 2.5l-.94 2.06-2.06.94zm10 10l.94 2.06.94-2.06 2.06-.94-2.06-.94-.94-2.06-.94 2.06-2.06.94z\"/><path d=\"M17.41 7.96l-1.37-1.37c-.4-.4-.92-.59-1.43-.59-.52 0-1.04.2-1.43.59L10.3 9.45l-7.72 7.72c-.78.78-.78 2.05 0 2.83L4 21.41c.39.39.9.59 1.41.59.51 0 1.02-.2 1.41-.59l7.78-7.78 2.81-2.81c.8-.78.8-2.07 0-2.86zM5.41 20L4 18.59l7.72-7.72 1.47 1.35L5.41 20z\"/>\n",
              "  </svg>\n",
              "      </button>\n",
              "      \n",
              "  <style>\n",
              "    .colab-df-container {\n",
              "      display:flex;\n",
              "      flex-wrap:wrap;\n",
              "      gap: 12px;\n",
              "    }\n",
              "\n",
              "    .colab-df-convert {\n",
              "      background-color: #E8F0FE;\n",
              "      border: none;\n",
              "      border-radius: 50%;\n",
              "      cursor: pointer;\n",
              "      display: none;\n",
              "      fill: #1967D2;\n",
              "      height: 32px;\n",
              "      padding: 0 0 0 0;\n",
              "      width: 32px;\n",
              "    }\n",
              "\n",
              "    .colab-df-convert:hover {\n",
              "      background-color: #E2EBFA;\n",
              "      box-shadow: 0px 1px 2px rgba(60, 64, 67, 0.3), 0px 1px 3px 1px rgba(60, 64, 67, 0.15);\n",
              "      fill: #174EA6;\n",
              "    }\n",
              "\n",
              "    [theme=dark] .colab-df-convert {\n",
              "      background-color: #3B4455;\n",
              "      fill: #D2E3FC;\n",
              "    }\n",
              "\n",
              "    [theme=dark] .colab-df-convert:hover {\n",
              "      background-color: #434B5C;\n",
              "      box-shadow: 0px 1px 3px 1px rgba(0, 0, 0, 0.15);\n",
              "      filter: drop-shadow(0px 1px 2px rgba(0, 0, 0, 0.3));\n",
              "      fill: #FFFFFF;\n",
              "    }\n",
              "  </style>\n",
              "\n",
              "      <script>\n",
              "        const buttonEl =\n",
              "          document.querySelector('#df-289a9c94-b769-4b55-b12e-a97000784d5a button.colab-df-convert');\n",
              "        buttonEl.style.display =\n",
              "          google.colab.kernel.accessAllowed ? 'block' : 'none';\n",
              "\n",
              "        async function convertToInteractive(key) {\n",
              "          const element = document.querySelector('#df-289a9c94-b769-4b55-b12e-a97000784d5a');\n",
              "          const dataTable =\n",
              "            await google.colab.kernel.invokeFunction('convertToInteractive',\n",
              "                                                     [key], {});\n",
              "          if (!dataTable) return;\n",
              "\n",
              "          const docLinkHtml = 'Like what you see? Visit the ' +\n",
              "            '<a target=\"_blank\" href=https://colab.research.google.com/notebooks/data_table.ipynb>data table notebook</a>'\n",
              "            + ' to learn more about interactive tables.';\n",
              "          element.innerHTML = '';\n",
              "          dataTable['output_type'] = 'display_data';\n",
              "          await google.colab.output.renderOutput(dataTable, element);\n",
              "          const docLink = document.createElement('div');\n",
              "          docLink.innerHTML = docLinkHtml;\n",
              "          element.appendChild(docLink);\n",
              "        }\n",
              "      </script>\n",
              "    </div>\n",
              "  </div>\n",
              "  "
            ],
            "text/plain": [
              "   Unnamed: 0 activity_day    workout_type  distance  time  calories  \\\n",
              "0           0   2022-01-01       Freestyle      9.30    77       123   \n",
              "1           1   2022-01-01       Freestyle      3.44    96        55   \n",
              "2           2   2022-01-01  Indoor Cycling      6.34    85        33   \n",
              "3           3   2022-01-01         Walking      7.91    42        82   \n",
              "4           4   2022-01-01      Open Water      8.99    36       131   \n",
              "\n",
              "   total_steps  avg_speed  avg_cadence  max_cadence  ... max_pace min_pace  \\\n",
              "0          NaN      18.88       168.54       138.30  ...      NaN      NaN   \n",
              "1          NaN      29.65       125.92       292.81  ...      NaN      NaN   \n",
              "2          NaN      17.85        81.93       323.69  ...      NaN      NaN   \n",
              "3       1571.0      22.10        29.63       180.16  ...    28:58    07:58   \n",
              "4          NaN      25.83        64.55       342.89  ...      NaN      NaN   \n",
              "\n",
              "  avg_heart_rate  max_heart_rate  min_heart_rate  vo2_max(%)  aerobic(%)  \\\n",
              "0          112.5           122.0             103          19          28   \n",
              "1          111.0           122.0             100          42          28   \n",
              "2           95.0            90.0             100           1          32   \n",
              "3           83.0            85.0              81           3          22   \n",
              "4          138.0           166.0             110           7           0   \n",
              "\n",
              "   anaerobic(%)  intensive(%)  light(%)  \n",
              "0             2             7        50  \n",
              "1             2            29        88  \n",
              "2             0            22        43  \n",
              "3             0            24        65  \n",
              "4             5            21        88  \n",
              "\n",
              "[5 rows x 21 columns]"
            ]
          },
          "metadata": {},
          "execution_count": 291
        }
      ]
    },
    {
      "cell_type": "markdown",
      "source": [
        "Now I am going to take a look at the datatypes of each column"
      ],
      "metadata": {
        "id": "aqMkW6IW5j67"
      }
    },
    {
      "cell_type": "code",
      "source": [
        "df.dtypes"
      ],
      "metadata": {
        "colab": {
          "base_uri": "https://localhost:8080/"
        },
        "id": "nCpxwMc05sdU",
        "outputId": "97b59124-42f9-4346-f075-a75091aba2ca"
      },
      "execution_count": 292,
      "outputs": [
        {
          "output_type": "execute_result",
          "data": {
            "text/plain": [
              "Unnamed: 0          int64\n",
              "activity_day       object\n",
              "workout_type       object\n",
              "distance          float64\n",
              "time                int64\n",
              "calories            int64\n",
              "total_steps       float64\n",
              "avg_speed         float64\n",
              "avg_cadence       float64\n",
              "max_cadence       float64\n",
              "avg_pace           object\n",
              "max_pace           object\n",
              "min_pace           object\n",
              "avg_heart_rate    float64\n",
              "max_heart_rate    float64\n",
              "min_heart_rate      int64\n",
              "vo2_max(%)          int64\n",
              "aerobic(%)          int64\n",
              "anaerobic(%)        int64\n",
              "intensive(%)        int64\n",
              "light(%)            int64\n",
              "dtype: object"
            ]
          },
          "metadata": {},
          "execution_count": 292
        }
      ]
    },
    {
      "cell_type": "markdown",
      "source": [
        "It looks to me like \"workout_type\" should be a string. Also \"total_steps\" and \"max_heart_rate\" should be an int unless they are counting partial steps."
      ],
      "metadata": {
        "id": "LTXNGrl97ST7"
      }
    },
    {
      "cell_type": "markdown",
      "source": [
        "### b"
      ],
      "metadata": {
        "id": "Ild6hg9l8uWk"
      }
    },
    {
      "cell_type": "markdown",
      "source": [
        "Now I will remove the column \"unnamed\" because it is unnecesary"
      ],
      "metadata": {
        "id": "IZSTI1CO8vww"
      }
    },
    {
      "cell_type": "code",
      "source": [
        "df = df.drop(columns = ['Unnamed: 0'])"
      ],
      "metadata": {
        "id": "3JfSyusz825K"
      },
      "execution_count": 293,
      "outputs": []
    },
    {
      "cell_type": "markdown",
      "source": [
        "### c"
      ],
      "metadata": {
        "id": "NeLKPRLO-xHT"
      }
    },
    {
      "cell_type": "markdown",
      "source": [
        "Now to clean up the column names"
      ],
      "metadata": {
        "id": "HQnrXeS4-y-_"
      }
    },
    {
      "cell_type": "code",
      "source": [
        "df = df.rename(columns=lambda x: re.sub(\"\\([^()]*\\)\", '', x))\n",
        "df.columns"
      ],
      "metadata": {
        "colab": {
          "base_uri": "https://localhost:8080/"
        },
        "id": "IUOp6wIm-18w",
        "outputId": "43f9e387-9435-4b09-b8d4-736dcd4c4984"
      },
      "execution_count": 294,
      "outputs": [
        {
          "output_type": "execute_result",
          "data": {
            "text/plain": [
              "Index(['activity_day', 'workout_type', 'distance', 'time', 'calories',\n",
              "       'total_steps', 'avg_speed', 'avg_cadence', 'max_cadence', 'avg_pace',\n",
              "       'max_pace', 'min_pace', 'avg_heart_rate', 'max_heart_rate',\n",
              "       'min_heart_rate', 'vo2_max', 'aerobic', 'anaerobic', 'intensive',\n",
              "       'light'],\n",
              "      dtype='object')"
            ]
          },
          "metadata": {},
          "execution_count": 294
        }
      ]
    },
    {
      "cell_type": "markdown",
      "source": [
        "### d"
      ],
      "metadata": {
        "id": "vGXnIMK__sl4"
      }
    },
    {
      "cell_type": "markdown",
      "source": [
        "Now I will donvert the column \"activity_day\" to date-time format"
      ],
      "metadata": {
        "id": "YSQGmPCV_mfi"
      }
    },
    {
      "cell_type": "code",
      "source": [
        "df['activity_day'] = pd.to_datetime(df.activity_day, format = '%Y-%m-%d')\n",
        "df.dtypes"
      ],
      "metadata": {
        "colab": {
          "base_uri": "https://localhost:8080/"
        },
        "id": "NbwN3YtB_vEl",
        "outputId": "d7eb7621-5253-4ee5-b99d-a0f08658f34b"
      },
      "execution_count": 295,
      "outputs": [
        {
          "output_type": "execute_result",
          "data": {
            "text/plain": [
              "activity_day      datetime64[ns]\n",
              "workout_type              object\n",
              "distance                 float64\n",
              "time                       int64\n",
              "calories                   int64\n",
              "total_steps              float64\n",
              "avg_speed                float64\n",
              "avg_cadence              float64\n",
              "max_cadence              float64\n",
              "avg_pace                  object\n",
              "max_pace                  object\n",
              "min_pace                  object\n",
              "avg_heart_rate           float64\n",
              "max_heart_rate           float64\n",
              "min_heart_rate             int64\n",
              "vo2_max                    int64\n",
              "aerobic                    int64\n",
              "anaerobic                  int64\n",
              "intensive                  int64\n",
              "light                      int64\n",
              "dtype: object"
            ]
          },
          "metadata": {},
          "execution_count": 295
        }
      ]
    },
    {
      "cell_type": "markdown",
      "source": [
        "### e"
      ],
      "metadata": {
        "id": "V1PCQ5YPA_bu"
      }
    },
    {
      "cell_type": "markdown",
      "source": [
        "I will also be looking at the column \"total_steps\". Here I will replace the NaN's with the column mean trunctated to the whole number and convert the data type to an int. This is done to make future analysis of the column easier. "
      ],
      "metadata": {
        "id": "2XobB2AXBDjD"
      }
    },
    {
      "cell_type": "code",
      "source": [
        "StepMean = df['total_steps'].mean()\n",
        "StepMean = math.trunc(StepMean)\n",
        "df['total_steps'] = df['total_steps'].fillna(value = int(StepMean))\n",
        "df.total_steps = df.total_steps.astype('int')\n",
        "df['total_steps']"
      ],
      "metadata": {
        "colab": {
          "base_uri": "https://localhost:8080/"
        },
        "id": "4PeY6a1FBX3u",
        "outputId": "7be5e3de-f39f-4501-c59c-f4f9f44112c1"
      },
      "execution_count": 296,
      "outputs": [
        {
          "output_type": "execute_result",
          "data": {
            "text/plain": [
              "0      4081\n",
              "1      4081\n",
              "2      4081\n",
              "3      1571\n",
              "4      4081\n",
              "       ... \n",
              "995    4081\n",
              "996    4081\n",
              "997    4081\n",
              "998    4081\n",
              "999    4081\n",
              "Name: total_steps, Length: 1000, dtype: int64"
            ]
          },
          "metadata": {},
          "execution_count": 296
        }
      ]
    },
    {
      "cell_type": "markdown",
      "source": [
        "### f"
      ],
      "metadata": {
        "id": "yB0JOI0VFKsb"
      }
    },
    {
      "cell_type": "markdown",
      "source": [
        "Following with the theme of converting columns, I will change the \"avg_pace\" column into a float representing minutes."
      ],
      "metadata": {
        "id": "t18t4lTjFMnC"
      }
    },
    {
      "cell_type": "markdown",
      "source": [
        "Here is how it looks now"
      ],
      "metadata": {
        "id": "HHBeHB5WFuPy"
      }
    },
    {
      "cell_type": "code",
      "source": [
        "df['avg_pace']"
      ],
      "metadata": {
        "colab": {
          "base_uri": "https://localhost:8080/"
        },
        "id": "iWPwC8erFwls",
        "outputId": "a2181a75-d64e-45e4-bbc1-654d579a0d3a"
      },
      "execution_count": 297,
      "outputs": [
        {
          "output_type": "execute_result",
          "data": {
            "text/plain": [
              "0        NaN\n",
              "1        NaN\n",
              "2        NaN\n",
              "3      07:58\n",
              "4        NaN\n",
              "       ...  \n",
              "995      NaN\n",
              "996      NaN\n",
              "997      NaN\n",
              "998      NaN\n",
              "999      NaN\n",
              "Name: avg_pace, Length: 1000, dtype: object"
            ]
          },
          "metadata": {},
          "execution_count": 297
        }
      ]
    },
    {
      "cell_type": "markdown",
      "source": [
        "Time to change that"
      ],
      "metadata": {
        "id": "-vgKf4oLGRxF"
      }
    },
    {
      "cell_type": "markdown",
      "source": [
        "To make this easier I will also change all the NaN's to 00:00 first"
      ],
      "metadata": {
        "id": "U61SXO8BHM0k"
      }
    },
    {
      "cell_type": "code",
      "source": [
        "df['avg_pace'] = df['avg_pace'].fillna(value = '00:00')\n",
        "df['avg_pace']"
      ],
      "metadata": {
        "colab": {
          "base_uri": "https://localhost:8080/"
        },
        "id": "4aKFfnciFjHg",
        "outputId": "9a1434df-9692-4914-80da-49dd1a92332b"
      },
      "execution_count": 298,
      "outputs": [
        {
          "output_type": "execute_result",
          "data": {
            "text/plain": [
              "0      00:00\n",
              "1      00:00\n",
              "2      00:00\n",
              "3      07:58\n",
              "4      00:00\n",
              "       ...  \n",
              "995    00:00\n",
              "996    00:00\n",
              "997    00:00\n",
              "998    00:00\n",
              "999    00:00\n",
              "Name: avg_pace, Length: 1000, dtype: object"
            ]
          },
          "metadata": {},
          "execution_count": 298
        }
      ]
    },
    {
      "cell_type": "markdown",
      "source": [
        "Now to finaly get the values in terms of minutes and seconds"
      ],
      "metadata": {
        "id": "TY_eCkkTWlMG"
      }
    },
    {
      "cell_type": "code",
      "source": [
        "df['avg_pace'] = [re.sub(':','.', str(x)) for x in df['avg_pace']]\n",
        "df.avg_pace = df.avg_pace.astype('float')\n",
        "df['avg_pace']"
      ],
      "metadata": {
        "colab": {
          "base_uri": "https://localhost:8080/"
        },
        "id": "n_TtUhEFdjuG",
        "outputId": "60db7d3a-3c23-4d5a-db40-0bfa794b67fa"
      },
      "execution_count": 307,
      "outputs": [
        {
          "output_type": "execute_result",
          "data": {
            "text/plain": [
              "0      0.00\n",
              "1      0.00\n",
              "2      0.00\n",
              "3      7.58\n",
              "4      0.00\n",
              "       ... \n",
              "995    0.00\n",
              "996    0.00\n",
              "997    0.00\n",
              "998    0.00\n",
              "999    0.00\n",
              "Name: avg_pace, Length: 1000, dtype: float64"
            ]
          },
          "metadata": {},
          "execution_count": 307
        }
      ]
    },
    {
      "cell_type": "markdown",
      "source": [
        "Sources:"
      ],
      "metadata": {
        "id": "Kxj_AXr7-Osf"
      }
    },
    {
      "cell_type": "markdown",
      "source": [
        "https://www.adamsmith.haus/python/answers/how-to-use-regular-expressions-to-remove-text-within-parentheses-in-python#:~:text=Use%20re.,to%20remove%20text%20within%20parentheses&text=sub"
      ],
      "metadata": {
        "id": "Sn8eIBYS-RLw"
      }
    },
    {
      "cell_type": "markdown",
      "source": [
        "https://kodify.net/python/math/truncate-integers/"
      ],
      "metadata": {
        "id": "PtOM-2HDFHmk"
      }
    },
    {
      "cell_type": "markdown",
      "source": [
        "https://stackoverflow.com/questions/48447123/convert-time-hhmmss-to-minutes-in-python"
      ],
      "metadata": {
        "id": "w2dgYV03GtOn"
      }
    },
    {
      "cell_type": "markdown",
      "source": [
        "https://stackoverflow.com/questions/50554107/typeerror-unrecognized-value-type-class-str"
      ],
      "metadata": {
        "id": "Cgu_lxBHKmDg"
      }
    }
  ]
}